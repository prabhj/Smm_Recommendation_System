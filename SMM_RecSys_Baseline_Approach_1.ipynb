{
 "cells": [
  {
   "cell_type": "markdown",
   "metadata": {
    "colab_type": "text",
    "id": "DZuJgz7f2IZ3"
   },
   "source": [
    "## Super Mario Maker Dataset - Network Analysis"
   ]
  },
  {
   "cell_type": "markdown",
   "metadata": {
    "colab_type": "text",
    "id": "ErHiyzZVVERF"
   },
   "source": [
    "### 1. Prerequisites"
   ]
  },
  {
   "cell_type": "markdown",
   "metadata": {
    "colab_type": "text",
    "id": "moaC0uhpU5i_"
   },
   "source": [
    "Import required libraries."
   ]
  },
  {
   "cell_type": "code",
   "execution_count": 1,
   "metadata": {
    "colab": {},
    "colab_type": "code",
    "id": "CqfsTYm83mip"
   },
   "outputs": [],
   "source": [
    "import numpy as np\n",
    "import pandas as pd\n",
    "import matplotlib.pyplot as plt\n",
    "from sklearn.metrics import accuracy_score, confusion_matrix, precision_recall_fscore_support\n",
    "import os\n",
    "import gc"
   ]
  },
  {
   "cell_type": "markdown",
   "metadata": {
    "colab_type": "text",
    "id": "pHXQkBC7U-U3"
   },
   "source": [
    "Specify data files location."
   ]
  },
  {
   "cell_type": "code",
   "execution_count": 3,
   "metadata": {
    "colab": {},
    "colab_type": "code",
    "id": "6Tm0Ut1d3UY2"
   },
   "outputs": [],
   "source": [
    "data_path = '/Users/pj/Documents/671_Project/'"
   ]
  },
  {
   "cell_type": "markdown",
   "metadata": {
    "colab_type": "text",
    "id": "pcpsAYAOVLJt"
   },
   "source": [
    "Read player names data."
   ]
  },
  {
   "cell_type": "code",
   "execution_count": 4,
   "metadata": {
    "colab": {
     "base_uri": "https://localhost:8080/",
     "height": 34
    },
    "colab_type": "code",
    "id": "s5al7sbB358P",
    "outputId": "6a30133d-71e7-46a7-dc59-439eecdfeaf0"
   },
   "outputs": [],
   "source": [
    "players = []\n",
    "with open(data_path + 'players_tsv.csv') as players_file:\n",
    "  for pl_data in players_file.readlines()[1:]:\n",
    "    player_name = pl_data.split(',')[0]\n",
    "    players.append(player_name)\n",
    "\n",
    "players_df=pd.DataFrame()\n",
    "players_df['player'] = players\n",
    "\n",
    "del(players)\n",
    "#gc.collect()"
   ]
  },
  {
   "cell_type": "code",
   "execution_count": 5,
   "metadata": {
    "colab": {
     "base_uri": "https://localhost:8080/",
     "height": 212
    },
    "colab_type": "code",
    "id": "k4xW2xoGHE2U",
    "outputId": "ad0267b0-d0f1-41a7-8d18-61466221be04"
   },
   "outputs": [
    {
     "name": "stdout",
     "output_type": "stream",
     "text": [
      "Number of players : 884300\n"
     ]
    },
    {
     "data": {
      "text/html": [
       "<div>\n",
       "<style scoped>\n",
       "    .dataframe tbody tr th:only-of-type {\n",
       "        vertical-align: middle;\n",
       "    }\n",
       "\n",
       "    .dataframe tbody tr th {\n",
       "        vertical-align: top;\n",
       "    }\n",
       "\n",
       "    .dataframe thead th {\n",
       "        text-align: right;\n",
       "    }\n",
       "</style>\n",
       "<table border=\"1\" class=\"dataframe\">\n",
       "  <thead>\n",
       "    <tr style=\"text-align: right;\">\n",
       "      <th></th>\n",
       "      <th>player</th>\n",
       "    </tr>\n",
       "  </thead>\n",
       "  <tbody>\n",
       "    <tr>\n",
       "      <th>0</th>\n",
       "      <td>NolramImpro</td>\n",
       "    </tr>\n",
       "    <tr>\n",
       "      <th>1</th>\n",
       "      <td>SGK2017</td>\n",
       "    </tr>\n",
       "    <tr>\n",
       "      <th>2</th>\n",
       "      <td>preamstrikbiz0</td>\n",
       "    </tr>\n",
       "    <tr>\n",
       "      <th>3</th>\n",
       "      <td>gotatari</td>\n",
       "    </tr>\n",
       "    <tr>\n",
       "      <th>4</th>\n",
       "      <td>skrufpanda</td>\n",
       "    </tr>\n",
       "  </tbody>\n",
       "</table>\n",
       "</div>"
      ],
      "text/plain": [
       "           player\n",
       "0     NolramImpro\n",
       "1         SGK2017\n",
       "2  preamstrikbiz0\n",
       "3        gotatari\n",
       "4      skrufpanda"
      ]
     },
     "execution_count": 5,
     "metadata": {},
     "output_type": "execute_result"
    }
   ],
   "source": [
    "print('Number of players : {}'.format(len(players_df)))\n",
    "players_df.head()"
   ]
  },
  {
   "cell_type": "markdown",
   "metadata": {
    "colab_type": "text",
    "id": "sshE2UkC3viZ"
   },
   "source": [
    "Read games data."
   ]
  },
  {
   "cell_type": "code",
   "execution_count": 14,
   "metadata": {
    "colab": {},
    "colab_type": "code",
    "id": "jexJwiOWhd-o"
   },
   "outputs": [],
   "source": [
    "course = dict()\n",
    "with open(data_path + 'courses.csv') as course_file:\n",
    "  for game_data in course_file.readlines()[1:]:    \n",
    "    creator_name = game_data.split()[3]\n",
    "    game_id = game_data.split()[0]\n",
    "    course[game_id] = creator_name"
   ]
  },
  {
   "cell_type": "markdown",
   "metadata": {
    "colab_type": "text",
    "id": "GxCGGBiFVbPa"
   },
   "source": [
    "Create a dataframe for course data."
   ]
  },
  {
   "cell_type": "code",
   "execution_count": 15,
   "metadata": {
    "colab": {},
    "colab_type": "code",
    "id": "odYQWgV_4HbM"
   },
   "outputs": [],
   "source": [
    "course_df = pd.DataFrame(data=course.keys(), index=range(len(course)))"
   ]
  },
  {
   "cell_type": "code",
   "execution_count": 16,
   "metadata": {
    "colab": {},
    "colab_type": "code",
    "id": "L2GAVAlHmVm5"
   },
   "outputs": [],
   "source": [
    "course_df.columns = ['game']"
   ]
  },
  {
   "cell_type": "code",
   "execution_count": 17,
   "metadata": {
    "colab": {
     "base_uri": "https://localhost:8080/",
     "height": 212
    },
    "colab_type": "code",
    "id": "74IjM8fxVhdN",
    "outputId": "e5ef1921-9364-433e-89c8-3c3200cd2b33"
   },
   "outputs": [
    {
     "name": "stdout",
     "output_type": "stream",
     "text": [
      "Number of courses : 115032\n"
     ]
    },
    {
     "data": {
      "text/html": [
       "<div>\n",
       "<style scoped>\n",
       "    .dataframe tbody tr th:only-of-type {\n",
       "        vertical-align: middle;\n",
       "    }\n",
       "\n",
       "    .dataframe tbody tr th {\n",
       "        vertical-align: top;\n",
       "    }\n",
       "\n",
       "    .dataframe thead th {\n",
       "        text-align: right;\n",
       "    }\n",
       "</style>\n",
       "<table border=\"1\" class=\"dataframe\">\n",
       "  <thead>\n",
       "    <tr style=\"text-align: right;\">\n",
       "      <th></th>\n",
       "      <th>game</th>\n",
       "    </tr>\n",
       "  </thead>\n",
       "  <tbody>\n",
       "    <tr>\n",
       "      <th>0</th>\n",
       "      <td>079D-0000-0351-17E2</td>\n",
       "    </tr>\n",
       "    <tr>\n",
       "      <th>1</th>\n",
       "      <td>07CD-0000-030D-EA60</td>\n",
       "    </tr>\n",
       "    <tr>\n",
       "      <th>2</th>\n",
       "      <td>07F7-0000-030F-A51B</td>\n",
       "    </tr>\n",
       "    <tr>\n",
       "      <th>3</th>\n",
       "      <td>080E-0000-0307-A394</td>\n",
       "    </tr>\n",
       "    <tr>\n",
       "      <th>4</th>\n",
       "      <td>082F-0000-0358-A218</td>\n",
       "    </tr>\n",
       "  </tbody>\n",
       "</table>\n",
       "</div>"
      ],
      "text/plain": [
       "                  game\n",
       "0  079D-0000-0351-17E2\n",
       "1  07CD-0000-030D-EA60\n",
       "2  07F7-0000-030F-A51B\n",
       "3  080E-0000-0307-A394\n",
       "4  082F-0000-0358-A218"
      ]
     },
     "execution_count": 17,
     "metadata": {},
     "output_type": "execute_result"
    }
   ],
   "source": [
    "del(course)\n",
    "gc.collect()\n",
    "print('Number of courses : {}'.format(len(course_df)))\n",
    "course_df.head()"
   ]
  },
  {
   "cell_type": "markdown",
   "metadata": {
    "colab_type": "text",
    "id": "tuTybxy1WEeq"
   },
   "source": [
    "Read playes and likes data."
   ]
  },
  {
   "cell_type": "code",
   "execution_count": 18,
   "metadata": {
    "colab": {},
    "colab_type": "code",
    "id": "W0c3Ch3sid_G"
   },
   "outputs": [],
   "source": [
    "plays_df = pd.read_csv(data_path + 'plays.csv', sep=\"\\t\", usecols=['id', 'player'])"
   ]
  },
  {
   "cell_type": "code",
   "execution_count": 19,
   "metadata": {
    "colab": {
     "base_uri": "https://localhost:8080/",
     "height": 212
    },
    "colab_type": "code",
    "id": "GRJAsxt6j99Z",
    "outputId": "71191f8b-984c-4883-99af-e29470373dfd"
   },
   "outputs": [
    {
     "name": "stdout",
     "output_type": "stream",
     "text": [
      "Number of plays-player data : 3941378\n"
     ]
    },
    {
     "data": {
      "text/html": [
       "<div>\n",
       "<style scoped>\n",
       "    .dataframe tbody tr th:only-of-type {\n",
       "        vertical-align: middle;\n",
       "    }\n",
       "\n",
       "    .dataframe tbody tr th {\n",
       "        vertical-align: top;\n",
       "    }\n",
       "\n",
       "    .dataframe thead th {\n",
       "        text-align: right;\n",
       "    }\n",
       "</style>\n",
       "<table border=\"1\" class=\"dataframe\">\n",
       "  <thead>\n",
       "    <tr style=\"text-align: right;\">\n",
       "      <th></th>\n",
       "      <th>id</th>\n",
       "      <th>player</th>\n",
       "    </tr>\n",
       "  </thead>\n",
       "  <tbody>\n",
       "    <tr>\n",
       "      <th>0</th>\n",
       "      <td>0000-0000-0353-3D35</td>\n",
       "      <td>darter60k</td>\n",
       "    </tr>\n",
       "    <tr>\n",
       "      <th>1</th>\n",
       "      <td>0000-0000-0353-3D35</td>\n",
       "      <td>davidchofis</td>\n",
       "    </tr>\n",
       "    <tr>\n",
       "      <th>2</th>\n",
       "      <td>0000-0000-0353-3D35</td>\n",
       "      <td>fabioviana</td>\n",
       "    </tr>\n",
       "    <tr>\n",
       "      <th>3</th>\n",
       "      <td>0000-0000-0353-3D35</td>\n",
       "      <td>gorigokky</td>\n",
       "    </tr>\n",
       "    <tr>\n",
       "      <th>4</th>\n",
       "      <td>0000-0000-0353-3D35</td>\n",
       "      <td>groebenzell</td>\n",
       "    </tr>\n",
       "  </tbody>\n",
       "</table>\n",
       "</div>"
      ],
      "text/plain": [
       "                    id       player\n",
       "0  0000-0000-0353-3D35    darter60k\n",
       "1  0000-0000-0353-3D35  davidchofis\n",
       "2  0000-0000-0353-3D35   fabioviana\n",
       "3  0000-0000-0353-3D35    gorigokky\n",
       "4  0000-0000-0353-3D35  groebenzell"
      ]
     },
     "execution_count": 19,
     "metadata": {},
     "output_type": "execute_result"
    }
   ],
   "source": [
    "print('Number of plays-player data : {}'.format(len(plays_df)))\n",
    "plays_df.head()"
   ]
  },
  {
   "cell_type": "code",
   "execution_count": 12,
   "metadata": {
    "colab": {},
    "colab_type": "code",
    "id": "KvZnfXsAlZFs"
   },
   "outputs": [],
   "source": [
    "likes_df = pd.read_csv(data_path + 'likes.csv', sep=\"\\t\", usecols=['id', 'player'], )"
   ]
  },
  {
   "cell_type": "code",
   "execution_count": 13,
   "metadata": {
    "colab": {
     "base_uri": "https://localhost:8080/",
     "height": 212
    },
    "colab_type": "code",
    "id": "NIcOdl6bkdE8",
    "outputId": "d936d036-a263-4475-f062-e65c2ee7cbe6"
   },
   "outputs": [
    {
     "name": "stdout",
     "output_type": "stream",
     "text": [
      "Number of likes-player data : 3941378\n"
     ]
    },
    {
     "data": {
      "text/html": [
       "<div>\n",
       "<style scoped>\n",
       "    .dataframe tbody tr th:only-of-type {\n",
       "        vertical-align: middle;\n",
       "    }\n",
       "\n",
       "    .dataframe tbody tr th {\n",
       "        vertical-align: top;\n",
       "    }\n",
       "\n",
       "    .dataframe thead th {\n",
       "        text-align: right;\n",
       "    }\n",
       "</style>\n",
       "<table border=\"1\" class=\"dataframe\">\n",
       "  <thead>\n",
       "    <tr style=\"text-align: right;\">\n",
       "      <th></th>\n",
       "      <th>id</th>\n",
       "      <th>player</th>\n",
       "    </tr>\n",
       "  </thead>\n",
       "  <tbody>\n",
       "    <tr>\n",
       "      <th>0</th>\n",
       "      <td>0000-0000-0353-3D35</td>\n",
       "      <td>groebenzell</td>\n",
       "    </tr>\n",
       "    <tr>\n",
       "      <th>1</th>\n",
       "      <td>0000-0000-035A-9F14</td>\n",
       "      <td>jlan6e</td>\n",
       "    </tr>\n",
       "    <tr>\n",
       "      <th>2</th>\n",
       "      <td>0001-0000-0347-486A</td>\n",
       "      <td>cat38690</td>\n",
       "    </tr>\n",
       "    <tr>\n",
       "      <th>3</th>\n",
       "      <td>0001-0000-0347-486A</td>\n",
       "      <td>raulcaba</td>\n",
       "    </tr>\n",
       "    <tr>\n",
       "      <th>4</th>\n",
       "      <td>0001-0000-0359-B3CD</td>\n",
       "      <td>Tugaeddy</td>\n",
       "    </tr>\n",
       "  </tbody>\n",
       "</table>\n",
       "</div>"
      ],
      "text/plain": [
       "                    id       player\n",
       "0  0000-0000-0353-3D35  groebenzell\n",
       "1  0000-0000-035A-9F14       jlan6e\n",
       "2  0001-0000-0347-486A     cat38690\n",
       "3  0001-0000-0347-486A     raulcaba\n",
       "4  0001-0000-0359-B3CD     Tugaeddy"
      ]
     },
     "execution_count": 13,
     "metadata": {},
     "output_type": "execute_result"
    }
   ],
   "source": [
    "print('Number of likes-player data : {}'.format(len(plays_df)))\n",
    "likes_df.head()"
   ]
  },
  {
   "cell_type": "markdown",
   "metadata": {
    "colab_type": "text",
    "id": "2hZdb4FQXzvR"
   },
   "source": [
    "### 2. Data attributes."
   ]
  },
  {
   "cell_type": "markdown",
   "metadata": {
    "colab_type": "text",
    "id": "uzbM_qRiYYjg"
   },
   "source": [
    "Check distribution of games played and liked."
   ]
  },
  {
   "cell_type": "code",
   "execution_count": 22,
   "metadata": {
    "colab": {
     "base_uri": "https://localhost:8080/",
     "height": 282
    },
    "colab_type": "code",
    "id": "mFvzDElYYPak",
    "outputId": "199b860f-c8b8-4800-f0e4-a443897bcf28"
   },
   "outputs": [
    {
     "data": {
      "image/png": "[encoded data removed]",
      "text/plain": [
       "<Figure size 432x288 with 1 Axes>"
      ]
     },
     "metadata": {},
     "output_type": "display_data"
    }
   ],
   "source": [
    "plt.style.use('ggplot')\n",
    "plt.hist(plays_df['player'].value_counts().values, rwidth=0.9)\n",
    "plt.yscale('log')\n",
    "plt.xlabel('Number of games played')\n",
    "plt.ylabel('Number of players')\n",
    "plt.show()"
   ]
  },
  {
   "cell_type": "code",
   "execution_count": 23,
   "metadata": {
    "colab": {
     "base_uri": "https://localhost:8080/",
     "height": 282
    },
    "colab_type": "code",
    "id": "X-T79HNpZWFX",
    "outputId": "dfb74c47-fa55-4058-8cb6-05a63d574154"
   },
   "outputs": [
    {
     "data": {
      "image/png": "[encoded data removed]",
      "text/plain": [
       "<Figure size 432x288 with 1 Axes>"
      ]
     },
     "metadata": {},
     "output_type": "display_data"
    }
   ],
   "source": [
    "plt.style.use('ggplot')\n",
    "plt.hist(likes_df['player'].value_counts().values, rwidth=0.9)\n",
    "plt.yscale('log')\n",
    "plt.xlabel('Number of games liked')\n",
    "plt.ylabel('Number of players')\n",
    "plt.show()"
   ]
  },
  {
   "cell_type": "code",
   "execution_count": 24,
   "metadata": {
    "colab": {
     "base_uri": "https://localhost:8080/",
     "height": 282
    },
    "colab_type": "code",
    "id": "zgivXh0OZg6x",
    "outputId": "5669f591-4f19-41e0-8f68-6c7471461ec0"
   },
   "outputs": [
    {
     "data": {
      "image/png": "[encoded data removed]",
      "text/plain": [
       "<Figure size 432x288 with 1 Axes>"
      ]
     },
     "metadata": {},
     "output_type": "display_data"
    }
   ],
   "source": [
    "plt.style.use('ggplot')\n",
    "plt.hist(plays_df['id'].value_counts().values, rwidth=0.9)\n",
    "plt.yscale('log')\n",
    "plt.xlabel('Number of players playing the game')\n",
    "plt.ylabel('Number of games')\n",
    "plt.show()"
   ]
  },
  {
   "cell_type": "code",
   "execution_count": 25,
   "metadata": {
    "colab": {
     "base_uri": "https://localhost:8080/",
     "height": 282
    },
    "colab_type": "code",
    "id": "BjrGwdmNZhR8",
    "outputId": "0912a681-831b-42f1-bb8d-97ba3f290217"
   },
   "outputs": [
    {
     "data": {
      "image/png": "[encoded data removed]",
      "text/plain": [
       "<Figure size 432x288 with 1 Axes>"
      ]
     },
     "metadata": {},
     "output_type": "display_data"
    }
   ],
   "source": [
    "plt.style.use('ggplot')\n",
    "plt.hist(likes_df['id'].value_counts().values, rwidth=0.9)\n",
    "plt.yscale('log')\n",
    "plt.xlabel('Number of players liking the game')\n",
    "plt.ylabel('Number of games')\n",
    "plt.show()"
   ]
  },
  {
   "cell_type": "markdown",
   "metadata": {
    "colab_type": "text",
    "id": "rWu8c9FPVl4b"
   },
   "source": [
    "### 3. Baseline recommendation system."
   ]
  },
  {
   "cell_type": "markdown",
   "metadata": {
    "colab_type": "text",
    "id": "qF_vrW0rVvAo"
   },
   "source": [
    "A baseline recommendation system can be developed as below:\n",
    "1. An average like score $G_L$ for each game can be calculated as a fraction of the players liking the game out of all players that played the game.\n",
    "2. Simillarly, for each player, a like score $P_L$ can be calculated as fraction of games liked by the user, out of all games played by the user.\n",
    "3. For the games NOT played by the user $i$ the probability of player $i$ liking game $j$ can be calculated as:\n",
    "$P_{i,j} = P_L^i \\times G_L^j$\n",
    "4. For the purpose of testing this system. We will set aside $1000$ players and $1000$ games as test data."
   ]
  },
  {
   "cell_type": "markdown",
   "metadata": {
    "colab_type": "text",
    "id": "2IjdnVWRZ8tp"
   },
   "source": [
    "Selecting test dataset:\n",
    "\n",
    "*   Since the game plays and likes matrix is sparse, randomly selecting 1000 users and 1000 games will not work, as it is likely that we will get very few plays or likes out of possible $1000 \\times 1000 = 10^6$ possible data points.\n",
    "*   To address this problem we use a simple strategy of selecting 500 players with highest number of games played and 500 players with highest number of games liked, for test dataset.\n",
    "*   Simillarly, 500 games which are played most and 500 games which are liked most are selected for test dataset.\n",
    "*   This strategy is quite crude and needs to be refined further to select players and games from all over the distribution and not just most frequent ones.\n",
    "\n",
    "\n",
    " "
   ]
  },
  {
   "cell_type": "code",
   "execution_count": 26,
   "metadata": {
    "colab": {},
    "colab_type": "code",
    "id": "XnineO7LaBlO"
   },
   "outputs": [],
   "source": [
    "test_players = list(plays_df['player'].value_counts().index[:500]) + list(likes_df['player'].value_counts().index[:500])"
   ]
  },
  {
   "cell_type": "code",
   "execution_count": 27,
   "metadata": {
    "colab": {},
    "colab_type": "code",
    "id": "IZn6c9J_awmj"
   },
   "outputs": [],
   "source": [
    "test_games = list(plays_df['id'].value_counts().index[:500]) + list(likes_df['id'].value_counts().index[:500])"
   ]
  },
  {
   "cell_type": "code",
   "execution_count": 28,
   "metadata": {
    "colab": {
     "base_uri": "https://localhost:8080/",
     "height": 195
    },
    "colab_type": "code",
    "id": "1LrTv2jAL_fD",
    "outputId": "4de47a08-b96a-4cf7-ab62-f0478b3a41ab"
   },
   "outputs": [
    {
     "data": {
      "text/html": [
       "<div>\n",
       "<style scoped>\n",
       "    .dataframe tbody tr th:only-of-type {\n",
       "        vertical-align: middle;\n",
       "    }\n",
       "\n",
       "    .dataframe tbody tr th {\n",
       "        vertical-align: top;\n",
       "    }\n",
       "\n",
       "    .dataframe thead th {\n",
       "        text-align: right;\n",
       "    }\n",
       "</style>\n",
       "<table border=\"1\" class=\"dataframe\">\n",
       "  <thead>\n",
       "    <tr style=\"text-align: right;\">\n",
       "      <th></th>\n",
       "      <th>player</th>\n",
       "      <th>plays</th>\n",
       "    </tr>\n",
       "  </thead>\n",
       "  <tbody>\n",
       "    <tr>\n",
       "      <th>0</th>\n",
       "      <td>Conducteur59220</td>\n",
       "      <td>2585</td>\n",
       "    </tr>\n",
       "    <tr>\n",
       "      <th>1</th>\n",
       "      <td>dellbox2</td>\n",
       "      <td>1949</td>\n",
       "    </tr>\n",
       "    <tr>\n",
       "      <th>2</th>\n",
       "      <td>AE4WiiU</td>\n",
       "      <td>1666</td>\n",
       "    </tr>\n",
       "    <tr>\n",
       "      <th>3</th>\n",
       "      <td>revolv23</td>\n",
       "      <td>1423</td>\n",
       "    </tr>\n",
       "    <tr>\n",
       "      <th>4</th>\n",
       "      <td>demonhunter47223</td>\n",
       "      <td>1240</td>\n",
       "    </tr>\n",
       "  </tbody>\n",
       "</table>\n",
       "</div>"
      ],
      "text/plain": [
       "             player  plays\n",
       "0   Conducteur59220   2585\n",
       "1          dellbox2   1949\n",
       "2           AE4WiiU   1666\n",
       "3          revolv23   1423\n",
       "4  demonhunter47223   1240"
      ]
     },
     "execution_count": 28,
     "metadata": {},
     "output_type": "execute_result"
    }
   ],
   "source": [
    "plays_df_train = plays_df[~plays_df['id'].isin(test_games)]\n",
    "p_plays_data = pd.DataFrame(plays_df_train['player'].value_counts())\n",
    "p_plays_data.reset_index(inplace=True)\n",
    "p_plays_data.columns = ['player', 'plays']\n",
    "p_plays_data.head()"
   ]
  },
  {
   "cell_type": "code",
   "execution_count": 29,
   "metadata": {
    "colab": {
     "base_uri": "https://localhost:8080/",
     "height": 195
    },
    "colab_type": "code",
    "id": "-mAbi8fWR9yN",
    "outputId": "e858d9c5-c368-4b19-e41f-8a69861ddbec"
   },
   "outputs": [
    {
     "data": {
      "text/html": [
       "<div>\n",
       "<style scoped>\n",
       "    .dataframe tbody tr th:only-of-type {\n",
       "        vertical-align: middle;\n",
       "    }\n",
       "\n",
       "    .dataframe tbody tr th {\n",
       "        vertical-align: top;\n",
       "    }\n",
       "\n",
       "    .dataframe thead th {\n",
       "        text-align: right;\n",
       "    }\n",
       "</style>\n",
       "<table border=\"1\" class=\"dataframe\">\n",
       "  <thead>\n",
       "    <tr style=\"text-align: right;\">\n",
       "      <th></th>\n",
       "      <th>player</th>\n",
       "      <th>likes</th>\n",
       "    </tr>\n",
       "  </thead>\n",
       "  <tbody>\n",
       "    <tr>\n",
       "      <th>0</th>\n",
       "      <td>Conducteur59220</td>\n",
       "      <td>3223</td>\n",
       "    </tr>\n",
       "    <tr>\n",
       "      <th>1</th>\n",
       "      <td>dellbox2</td>\n",
       "      <td>1934</td>\n",
       "    </tr>\n",
       "    <tr>\n",
       "      <th>2</th>\n",
       "      <td>Leeshino</td>\n",
       "      <td>1786</td>\n",
       "    </tr>\n",
       "    <tr>\n",
       "      <th>3</th>\n",
       "      <td>revolv23</td>\n",
       "      <td>1564</td>\n",
       "    </tr>\n",
       "    <tr>\n",
       "      <th>4</th>\n",
       "      <td>WIIMoustique</td>\n",
       "      <td>1505</td>\n",
       "    </tr>\n",
       "  </tbody>\n",
       "</table>\n",
       "</div>"
      ],
      "text/plain": [
       "            player  likes\n",
       "0  Conducteur59220   3223\n",
       "1         dellbox2   1934\n",
       "2         Leeshino   1786\n",
       "3         revolv23   1564\n",
       "4     WIIMoustique   1505"
      ]
     },
     "execution_count": 29,
     "metadata": {},
     "output_type": "execute_result"
    }
   ],
   "source": [
    "likes_df_train = likes_df[~likes_df['id'].isin(test_games)]\n",
    "p_likes_data = pd.DataFrame(likes_df_train['player'].value_counts())\n",
    "p_likes_data.reset_index(inplace=True)\n",
    "p_likes_data.columns = ['player', 'likes']\n",
    "p_likes_data.head()"
   ]
  },
  {
   "cell_type": "markdown",
   "metadata": {
    "colab_type": "text",
    "id": "XoVy3EM8UHl8"
   },
   "source": [
    "Combine these with players dataframe."
   ]
  },
  {
   "cell_type": "code",
   "execution_count": 30,
   "metadata": {
    "colab": {
     "base_uri": "https://localhost:8080/",
     "height": 195
    },
    "colab_type": "code",
    "id": "rKqPM661SRQp",
    "outputId": "4e1d991c-34fb-4dad-d6c4-359b6ba126c7"
   },
   "outputs": [
    {
     "data": {
      "text/html": [
       "<div>\n",
       "<style scoped>\n",
       "    .dataframe tbody tr th:only-of-type {\n",
       "        vertical-align: middle;\n",
       "    }\n",
       "\n",
       "    .dataframe tbody tr th {\n",
       "        vertical-align: top;\n",
       "    }\n",
       "\n",
       "    .dataframe thead th {\n",
       "        text-align: right;\n",
       "    }\n",
       "</style>\n",
       "<table border=\"1\" class=\"dataframe\">\n",
       "  <thead>\n",
       "    <tr style=\"text-align: right;\">\n",
       "      <th></th>\n",
       "      <th>player</th>\n",
       "      <th>plays</th>\n",
       "      <th>likes</th>\n",
       "    </tr>\n",
       "  </thead>\n",
       "  <tbody>\n",
       "    <tr>\n",
       "      <th>0</th>\n",
       "      <td>NolramImpro</td>\n",
       "      <td>4.0</td>\n",
       "      <td>3.0</td>\n",
       "    </tr>\n",
       "    <tr>\n",
       "      <th>1</th>\n",
       "      <td>SGK2017</td>\n",
       "      <td>50.0</td>\n",
       "      <td>19.0</td>\n",
       "    </tr>\n",
       "    <tr>\n",
       "      <th>2</th>\n",
       "      <td>preamstrikbiz0</td>\n",
       "      <td>13.0</td>\n",
       "      <td>2.0</td>\n",
       "    </tr>\n",
       "    <tr>\n",
       "      <th>3</th>\n",
       "      <td>gotatari</td>\n",
       "      <td>51.0</td>\n",
       "      <td>1.0</td>\n",
       "    </tr>\n",
       "    <tr>\n",
       "      <th>4</th>\n",
       "      <td>skrufpanda</td>\n",
       "      <td>264.0</td>\n",
       "      <td>23.0</td>\n",
       "    </tr>\n",
       "  </tbody>\n",
       "</table>\n",
       "</div>"
      ],
      "text/plain": [
       "           player  plays  likes\n",
       "0     NolramImpro    4.0    3.0\n",
       "1         SGK2017   50.0   19.0\n",
       "2  preamstrikbiz0   13.0    2.0\n",
       "3        gotatari   51.0    1.0\n",
       "4      skrufpanda  264.0   23.0"
      ]
     },
     "execution_count": 30,
     "metadata": {},
     "output_type": "execute_result"
    }
   ],
   "source": [
    "plr_ply_df = players_df.merge(p_plays_data, how='left', on='player')\n",
    "plr_ply_like_df = plr_ply_df.merge(p_likes_data, how='left', on='player')\n",
    "plr_ply_like_df.head()"
   ]
  },
  {
   "cell_type": "markdown",
   "metadata": {
    "colab_type": "text",
    "id": "sRl2-AvFUP1r"
   },
   "source": [
    "Calculate score for each player as ration of games liked to games played. There is small fraction of players where number of games liked is more than number of games played. We will set score for these cases to 1."
   ]
  },
  {
   "cell_type": "code",
   "execution_count": 31,
   "metadata": {
    "colab": {},
    "colab_type": "code",
    "id": "0FWlkpVPSzmk"
   },
   "outputs": [],
   "source": [
    "def calc_frac(a):\n",
    "  if a[1]==0:\n",
    "    return 0\n",
    "  else:\n",
    "    return(min(a[2]/a[1], 1.0))"
   ]
  },
  {
   "cell_type": "code",
   "execution_count": 32,
   "metadata": {
    "colab": {},
    "colab_type": "code",
    "id": "UVJlAaHDTdBv"
   },
   "outputs": [
    {
     "data": {
      "text/html": [
       "<div>\n",
       "<style scoped>\n",
       "    .dataframe tbody tr th:only-of-type {\n",
       "        vertical-align: middle;\n",
       "    }\n",
       "\n",
       "    .dataframe tbody tr th {\n",
       "        vertical-align: top;\n",
       "    }\n",
       "\n",
       "    .dataframe thead th {\n",
       "        text-align: right;\n",
       "    }\n",
       "</style>\n",
       "<table border=\"1\" class=\"dataframe\">\n",
       "  <thead>\n",
       "    <tr style=\"text-align: right;\">\n",
       "      <th></th>\n",
       "      <th>player</th>\n",
       "      <th>plays</th>\n",
       "      <th>likes</th>\n",
       "      <th>score</th>\n",
       "    </tr>\n",
       "  </thead>\n",
       "  <tbody>\n",
       "    <tr>\n",
       "      <th>0</th>\n",
       "      <td>NolramImpro</td>\n",
       "      <td>4.0</td>\n",
       "      <td>3.0</td>\n",
       "      <td>0.750000</td>\n",
       "    </tr>\n",
       "    <tr>\n",
       "      <th>1</th>\n",
       "      <td>SGK2017</td>\n",
       "      <td>50.0</td>\n",
       "      <td>19.0</td>\n",
       "      <td>0.380000</td>\n",
       "    </tr>\n",
       "    <tr>\n",
       "      <th>2</th>\n",
       "      <td>preamstrikbiz0</td>\n",
       "      <td>13.0</td>\n",
       "      <td>2.0</td>\n",
       "      <td>0.153846</td>\n",
       "    </tr>\n",
       "    <tr>\n",
       "      <th>3</th>\n",
       "      <td>gotatari</td>\n",
       "      <td>51.0</td>\n",
       "      <td>1.0</td>\n",
       "      <td>0.019608</td>\n",
       "    </tr>\n",
       "    <tr>\n",
       "      <th>4</th>\n",
       "      <td>skrufpanda</td>\n",
       "      <td>264.0</td>\n",
       "      <td>23.0</td>\n",
       "      <td>0.087121</td>\n",
       "    </tr>\n",
       "  </tbody>\n",
       "</table>\n",
       "</div>"
      ],
      "text/plain": [
       "           player  plays  likes     score\n",
       "0     NolramImpro    4.0    3.0  0.750000\n",
       "1         SGK2017   50.0   19.0  0.380000\n",
       "2  preamstrikbiz0   13.0    2.0  0.153846\n",
       "3        gotatari   51.0    1.0  0.019608\n",
       "4      skrufpanda  264.0   23.0  0.087121"
      ]
     },
     "execution_count": 32,
     "metadata": {},
     "output_type": "execute_result"
    }
   ],
   "source": [
    "plr_ply_like_df['score'] = plr_ply_like_df.apply(calc_frac, axis=1)\n",
    "plr_ply_like_df.head()"
   ]
  },
  {
   "cell_type": "markdown",
   "metadata": {
    "colab_type": "text",
    "id": "SFAM-ujLY9ED"
   },
   "source": [
    "Repeat same calculations for games."
   ]
  },
  {
   "cell_type": "code",
   "execution_count": 33,
   "metadata": {
    "colab": {
     "base_uri": "https://localhost:8080/",
     "height": 195
    },
    "colab_type": "code",
    "id": "fxJjb2snY8EJ",
    "outputId": "0b404930-3bc7-4a98-84c7-203dc4ccc204"
   },
   "outputs": [
    {
     "data": {
      "text/html": [
       "<div>\n",
       "<style scoped>\n",
       "    .dataframe tbody tr th:only-of-type {\n",
       "        vertical-align: middle;\n",
       "    }\n",
       "\n",
       "    .dataframe tbody tr th {\n",
       "        vertical-align: top;\n",
       "    }\n",
       "\n",
       "    .dataframe thead th {\n",
       "        text-align: right;\n",
       "    }\n",
       "</style>\n",
       "<table border=\"1\" class=\"dataframe\">\n",
       "  <thead>\n",
       "    <tr style=\"text-align: right;\">\n",
       "      <th></th>\n",
       "      <th>game</th>\n",
       "      <th>plays</th>\n",
       "    </tr>\n",
       "  </thead>\n",
       "  <tbody>\n",
       "    <tr>\n",
       "      <th>0</th>\n",
       "      <td>5AB9-0000-038F-A23E</td>\n",
       "      <td>1641</td>\n",
       "    </tr>\n",
       "    <tr>\n",
       "      <th>1</th>\n",
       "      <td>F44D-0000-035E-496C</td>\n",
       "      <td>1119</td>\n",
       "    </tr>\n",
       "    <tr>\n",
       "      <th>2</th>\n",
       "      <td>DE4D-0000-035D-3AE1</td>\n",
       "      <td>1061</td>\n",
       "    </tr>\n",
       "    <tr>\n",
       "      <th>3</th>\n",
       "      <td>A4E1-0000-038D-0EBC</td>\n",
       "      <td>1003</td>\n",
       "    </tr>\n",
       "    <tr>\n",
       "      <th>4</th>\n",
       "      <td>8F40-0000-0391-4B50</td>\n",
       "      <td>959</td>\n",
       "    </tr>\n",
       "  </tbody>\n",
       "</table>\n",
       "</div>"
      ],
      "text/plain": [
       "                  game  plays\n",
       "0  5AB9-0000-038F-A23E   1641\n",
       "1  F44D-0000-035E-496C   1119\n",
       "2  DE4D-0000-035D-3AE1   1061\n",
       "3  A4E1-0000-038D-0EBC   1003\n",
       "4  8F40-0000-0391-4B50    959"
      ]
     },
     "execution_count": 33,
     "metadata": {},
     "output_type": "execute_result"
    }
   ],
   "source": [
    "plays_df_train = plays_df[~plays_df['player'].isin(test_players)]\n",
    "g_plays_data = pd.DataFrame(plays_df_train['id'].value_counts())\n",
    "g_plays_data.reset_index(inplace=True)\n",
    "g_plays_data.columns = ['game', 'plays']\n",
    "g_plays_data.head()"
   ]
  },
  {
   "cell_type": "code",
   "execution_count": 34,
   "metadata": {
    "colab": {
     "base_uri": "https://localhost:8080/",
     "height": 195
    },
    "colab_type": "code",
    "id": "urBYFi9LZQa2",
    "outputId": "de436728-f1b7-4982-a747-083e338b9e79"
   },
   "outputs": [
    {
     "data": {
      "text/html": [
       "<div>\n",
       "<style scoped>\n",
       "    .dataframe tbody tr th:only-of-type {\n",
       "        vertical-align: middle;\n",
       "    }\n",
       "\n",
       "    .dataframe tbody tr th {\n",
       "        vertical-align: top;\n",
       "    }\n",
       "\n",
       "    .dataframe thead th {\n",
       "        text-align: right;\n",
       "    }\n",
       "</style>\n",
       "<table border=\"1\" class=\"dataframe\">\n",
       "  <thead>\n",
       "    <tr style=\"text-align: right;\">\n",
       "      <th></th>\n",
       "      <th>game</th>\n",
       "      <th>likes</th>\n",
       "    </tr>\n",
       "  </thead>\n",
       "  <tbody>\n",
       "    <tr>\n",
       "      <th>0</th>\n",
       "      <td>DE4D-0000-035D-3AE1</td>\n",
       "      <td>429</td>\n",
       "    </tr>\n",
       "    <tr>\n",
       "      <th>1</th>\n",
       "      <td>BAC8-0000-036A-7EE1</td>\n",
       "      <td>308</td>\n",
       "    </tr>\n",
       "    <tr>\n",
       "      <th>2</th>\n",
       "      <td>5AB9-0000-038F-A23E</td>\n",
       "      <td>297</td>\n",
       "    </tr>\n",
       "    <tr>\n",
       "      <th>3</th>\n",
       "      <td>CEB8-0000-0353-A31E</td>\n",
       "      <td>293</td>\n",
       "    </tr>\n",
       "    <tr>\n",
       "      <th>4</th>\n",
       "      <td>F44D-0000-035E-496C</td>\n",
       "      <td>292</td>\n",
       "    </tr>\n",
       "  </tbody>\n",
       "</table>\n",
       "</div>"
      ],
      "text/plain": [
       "                  game  likes\n",
       "0  DE4D-0000-035D-3AE1    429\n",
       "1  BAC8-0000-036A-7EE1    308\n",
       "2  5AB9-0000-038F-A23E    297\n",
       "3  CEB8-0000-0353-A31E    293\n",
       "4  F44D-0000-035E-496C    292"
      ]
     },
     "execution_count": 34,
     "metadata": {},
     "output_type": "execute_result"
    }
   ],
   "source": [
    "likes_df_train = likes_df[~likes_df['player'].isin(test_players)]\n",
    "g_likes_data = pd.DataFrame(likes_df_train['id'].value_counts())\n",
    "g_likes_data.reset_index(inplace=True)\n",
    "g_likes_data.columns = ['game', 'likes']\n",
    "g_likes_data.head()"
   ]
  },
  {
   "cell_type": "code",
   "execution_count": 35,
   "metadata": {
    "colab": {
     "base_uri": "https://localhost:8080/",
     "height": 195
    },
    "colab_type": "code",
    "id": "Bx1yPWlaZalh",
    "outputId": "c60e03bf-27fa-40e8-a799-979980e9246c"
   },
   "outputs": [
    {
     "data": {
      "text/html": [
       "<div>\n",
       "<style scoped>\n",
       "    .dataframe tbody tr th:only-of-type {\n",
       "        vertical-align: middle;\n",
       "    }\n",
       "\n",
       "    .dataframe tbody tr th {\n",
       "        vertical-align: top;\n",
       "    }\n",
       "\n",
       "    .dataframe thead th {\n",
       "        text-align: right;\n",
       "    }\n",
       "</style>\n",
       "<table border=\"1\" class=\"dataframe\">\n",
       "  <thead>\n",
       "    <tr style=\"text-align: right;\">\n",
       "      <th></th>\n",
       "      <th>game</th>\n",
       "      <th>plays</th>\n",
       "      <th>likes</th>\n",
       "      <th>score</th>\n",
       "    </tr>\n",
       "  </thead>\n",
       "  <tbody>\n",
       "    <tr>\n",
       "      <th>0</th>\n",
       "      <td>079D-0000-0351-17E2</td>\n",
       "      <td>18</td>\n",
       "      <td>1.0</td>\n",
       "      <td>0.055556</td>\n",
       "    </tr>\n",
       "    <tr>\n",
       "      <th>1</th>\n",
       "      <td>07CD-0000-030D-EA60</td>\n",
       "      <td>22</td>\n",
       "      <td>1.0</td>\n",
       "      <td>0.045455</td>\n",
       "    </tr>\n",
       "    <tr>\n",
       "      <th>2</th>\n",
       "      <td>07F7-0000-030F-A51B</td>\n",
       "      <td>71</td>\n",
       "      <td>9.0</td>\n",
       "      <td>0.126761</td>\n",
       "    </tr>\n",
       "    <tr>\n",
       "      <th>3</th>\n",
       "      <td>080E-0000-0307-A394</td>\n",
       "      <td>30</td>\n",
       "      <td>2.0</td>\n",
       "      <td>0.066667</td>\n",
       "    </tr>\n",
       "    <tr>\n",
       "      <th>4</th>\n",
       "      <td>082F-0000-0358-A218</td>\n",
       "      <td>20</td>\n",
       "      <td>2.0</td>\n",
       "      <td>0.100000</td>\n",
       "    </tr>\n",
       "  </tbody>\n",
       "</table>\n",
       "</div>"
      ],
      "text/plain": [
       "                  game  plays  likes     score\n",
       "0  079D-0000-0351-17E2     18    1.0  0.055556\n",
       "1  07CD-0000-030D-EA60     22    1.0  0.045455\n",
       "2  07F7-0000-030F-A51B     71    9.0  0.126761\n",
       "3  080E-0000-0307-A394     30    2.0  0.066667\n",
       "4  082F-0000-0358-A218     20    2.0  0.100000"
      ]
     },
     "execution_count": 35,
     "metadata": {},
     "output_type": "execute_result"
    }
   ],
   "source": [
    "gm_ply_df = course_df.merge(g_plays_data, how='left', on='game')\n",
    "gm_ply_like_df = gm_ply_df.merge(g_likes_data, how='left', on='game')\n",
    "gm_ply_like_df['score'] = gm_ply_like_df.apply(calc_frac, axis=1)\n",
    "gm_ply_like_df.head()"
   ]
  },
  {
   "cell_type": "markdown",
   "metadata": {
    "colab_type": "text",
    "id": "KOnK12_2L2_0"
   },
   "source": [
    "Create a matrix for true labels on test data sets of 1000 players vs 1000 games."
   ]
  },
  {
   "cell_type": "code",
   "execution_count": 36,
   "metadata": {
    "colab": {},
    "colab_type": "code",
    "id": "jogkGDBEPVSm"
   },
   "outputs": [],
   "source": [
    "true_labels = np.ones((1000, 1000)) * -1"
   ]
  },
  {
   "cell_type": "code",
   "execution_count": 37,
   "metadata": {
    "colab": {},
    "colab_type": "code",
    "id": "igmQWtmYPfAX"
   },
   "outputs": [],
   "source": [
    "for p, plr in enumerate(test_players):\n",
    "  temp_plays_df = plays_df[plays_df['player']==plr]\n",
    "  temp_likes_df =  likes_df[likes_df['player']==plr]\n",
    "  for g, gm in enumerate(test_games):\n",
    "    # check if player 'plr' has played the game 'gm', then set label to zero\n",
    "    if gm in temp_plays_df['id'].values:\n",
    "      true_labels[p, g] = 0\n",
    "    # check if player 'plr has liked the game 'gm', then set label to 1.\n",
    "    if gm in temp_likes_df['id'].values:\n",
    "      true_labels[p, g] = 1"
   ]
  },
  {
   "cell_type": "code",
   "execution_count": 38,
   "metadata": {
    "colab": {},
    "colab_type": "code",
    "id": "4ZVncTx9SxRO"
   },
   "outputs": [],
   "source": [
    "predicted_labels = np.ones((1000,1000)) * -1"
   ]
  },
  {
   "cell_type": "markdown",
   "metadata": {
    "colab_type": "text",
    "id": "gH7JfjN5eNo8"
   },
   "source": [
    "Calculate the probability of a player liking a game on test dataset (predictions)"
   ]
  },
  {
   "cell_type": "code",
   "execution_count": 39,
   "metadata": {
    "colab": {},
    "colab_type": "code",
    "id": "cJeKabiseo_X"
   },
   "outputs": [],
   "source": [
    "for p, plr in enumerate(test_players):\n",
    "  temp_plays_df = plr_ply_like_df[plr_ply_like_df['player']==plr]  \n",
    "  for g, gm in enumerate(test_games):\n",
    "    if true_labels[p, g] != -1:\n",
    "      p_s = temp_plays_df['score'].values[0]\n",
    "      g_s = gm_ply_like_df[gm_ply_like_df['game']==gm]['score'].values[0]\n",
    "      predicted_labels[p, g] =  p_s * g_s"
   ]
  },
  {
   "cell_type": "markdown",
   "metadata": {
    "colab_type": "text",
    "id": "wrLXI5B4pv8N"
   },
   "source": [
    "Flatten the true and predicted label matrices and remove entries of -1."
   ]
  },
  {
   "cell_type": "code",
   "execution_count": 40,
   "metadata": {
    "colab": {},
    "colab_type": "code",
    "id": "R4MgOr5Fgkfi"
   },
   "outputs": [],
   "source": [
    "threshold = 0.5 # Default threshold 0f 0.5\n",
    "true_flattened = []\n",
    "predicted_flattened = []\n",
    "predicted_prob_flattened = []\n",
    "for i in range(1000):\n",
    "  for j in range(1000):\n",
    "    if true_labels[i,j]!=-1:\n",
    "      true_flattened.append(true_labels[i,j])\n",
    "      predicted_prob_flattened.append(predicted_labels[i,j])\n",
    "      if predicted_labels[i,j]>threshold:\n",
    "        predicted_flattened.append(1)\n",
    "      else:\n",
    "        predicted_flattened.append(0)"
   ]
  },
  {
   "cell_type": "markdown",
   "metadata": {
    "colab_type": "text",
    "id": "6GDmWBpbkNHJ"
   },
   "source": [
    "Calculate accuracy"
   ]
  },
  {
   "cell_type": "code",
   "execution_count": 63,
   "metadata": {
    "colab": {
     "base_uri": "https://localhost:8080/",
     "height": 67
    },
    "colab_type": "code",
    "id": "U6K4DpBUkWxQ",
    "outputId": "77464654-ce08-4099-f7fe-e660ba07a257"
   },
   "outputs": [
    {
     "name": "stdout",
     "output_type": "stream",
     "text": [
      "Accuracy on test dataset: 35.66%\n"
     ]
    },
    {
     "data": {
      "text/plain": [
       "array([[ 5318,   240],\n",
       "       [26776,  9653]])"
      ]
     },
     "execution_count": 63,
     "metadata": {},
     "output_type": "execute_result"
    }
   ],
   "source": [
    "print('Accuracy on test dataset: {0:4.2f}%'.format(accuracy_score(true_flattened, predicted_flattened)*100))\n",
    "#labels = ['true_flattened', 'predicted_flattened']\n",
    "cm = confusion_matrix(true_flattened, predicted_flattened)\n",
    "cm"
   ]
  },
  {
   "cell_type": "markdown",
   "metadata": {
    "colab_type": "text",
    "id": "U2ufrpb4ksLI"
   },
   "source": [
    "Comments:\n",
    "The low accuracy of the baseline method can be due to following factor:\n",
    "*  We have selected test players and games from high frequecy region of the distribution. A more balanced selection of test data might be better representative of overall data. Our selected data is having high probablility of liking the game, but the average on overall dataset might be much lower, hence out predictions will be biased towards **dislike** (0 score) as indicated by the results above."
   ]
  }
 ],
 "metadata": {
  "colab": {
   "collapsed_sections": [],
   "name": "SMM_analysis.ipynb",
   "provenance": [],
   "toc_visible": true
  },
  "kernelspec": {
   "display_name": "Python 3",
   "language": "python",
   "name": "python3"
  },
  "language_info": {
   "codemirror_mode": {
    "name": "ipython",
    "version": 3
   },
   "file_extension": ".py",
   "mimetype": "text/x-python",
   "name": "python",
   "nbconvert_exporter": "python",
   "pygments_lexer": "ipython3",
   "version": "3.8.1"
  }
 },
 "nbformat": 4,
 "nbformat_minor": 1
}
