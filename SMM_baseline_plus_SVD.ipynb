{
 "cells": [
  {
   "cell_type": "markdown",
   "metadata": {
    "colab_type": "text",
    "id": "DZuJgz7f2IZ3"
   },
   "source": [
    "## Super Mario Maker Dataset - Recommender Sy"
   ]
  },
  {
   "cell_type": "markdown",
   "metadata": {
    "colab_type": "text",
    "id": "ErHiyzZVVERF"
   },
   "source": [
    "### 1. Prerequisites"
   ]
  },
  {
   "cell_type": "markdown",
   "metadata": {
    "colab_type": "text",
    "id": "moaC0uhpU5i_"
   },
   "source": [
    "Import required libraries."
   ]
  },
  {
   "cell_type": "code",
   "execution_count": 1,
   "metadata": {
    "colab": {
     "base_uri": "https://localhost:8080/",
     "height": 138
    },
    "colab_type": "code",
    "id": "hthCYrf-F1bA",
    "outputId": "a0362b56-96b9-4072-ee25-c446087d2a1a"
   },
   "outputs": [],
   "source": [
    "#!pip install surprise"
   ]
  },
  {
   "cell_type": "code",
   "execution_count": 2,
   "metadata": {
    "colab": {},
    "colab_type": "code",
    "id": "CqfsTYm83mip"
   },
   "outputs": [],
   "source": [
    "import numpy as np\n",
    "import pandas as pd\n",
    "import matplotlib.pyplot as plt\n",
    "from sklearn.metrics import accuracy_score, confusion_matrix, precision_recall_fscore_support\n",
    "import os\n",
    "import gc\n",
    "from sklearn import model_selection\n",
    "from surprise import NormalPredictor, SVD, KNNBasic, SVDpp\n",
    "from surprise import Dataset\n",
    "from surprise import Reader\n",
    "import surprise\n",
    "from surprise.model_selection import cross_validate, train_test_split\n",
    "from surprise import accuracy\n",
    "from surprise.model_selection import cross_validate\n",
    "\n",
    "import scipy\n",
    "from scipy.sparse import csr_matrix\n"
   ]
  },
  {
   "cell_type": "markdown",
   "metadata": {
    "colab_type": "text",
    "id": "pHXQkBC7U-U3"
   },
   "source": [
    "Specify data files location."
   ]
  },
  {
   "cell_type": "code",
   "execution_count": 3,
   "metadata": {
    "colab": {},
    "colab_type": "code",
    "id": "6Tm0Ut1d3UY2"
   },
   "outputs": [],
   "source": [
    "data_path = '/Users/pj/Documents/671_Project/'"
   ]
  },
  {
   "cell_type": "markdown",
   "metadata": {
    "colab_type": "text",
    "id": "c-kKbKIKVr1w"
   },
   "source": [
    "Read data of games played."
   ]
  },
  {
   "cell_type": "code",
   "execution_count": 4,
   "metadata": {
    "colab": {},
    "colab_type": "code",
    "id": "UMkSzukpVrII"
   },
   "outputs": [],
   "source": [
    "plays_df = pd.read_csv(data_path + 'plays.csv', sep=\"\\t\", usecols=['id', 'player'])\n",
    "plays_df.columns = ['game', 'player']"
   ]
  },
  {
   "cell_type": "code",
   "execution_count": 5,
   "metadata": {
    "colab": {
     "base_uri": "https://localhost:8080/",
     "height": 195
    },
    "colab_type": "code",
    "id": "3Uq1p0UrVzWq",
    "outputId": "f19fd40b-7c83-48f4-feaa-4b86128b4353"
   },
   "outputs": [
    {
     "data": {
      "text/html": [
       "<div>\n",
       "<style scoped>\n",
       "    .dataframe tbody tr th:only-of-type {\n",
       "        vertical-align: middle;\n",
       "    }\n",
       "\n",
       "    .dataframe tbody tr th {\n",
       "        vertical-align: top;\n",
       "    }\n",
       "\n",
       "    .dataframe thead th {\n",
       "        text-align: right;\n",
       "    }\n",
       "</style>\n",
       "<table border=\"1\" class=\"dataframe\">\n",
       "  <thead>\n",
       "    <tr style=\"text-align: right;\">\n",
       "      <th></th>\n",
       "      <th>game</th>\n",
       "      <th>player</th>\n",
       "    </tr>\n",
       "  </thead>\n",
       "  <tbody>\n",
       "    <tr>\n",
       "      <th>0</th>\n",
       "      <td>0000-0000-0353-3D35</td>\n",
       "      <td>darter60k</td>\n",
       "    </tr>\n",
       "    <tr>\n",
       "      <th>1</th>\n",
       "      <td>0000-0000-0353-3D35</td>\n",
       "      <td>davidchofis</td>\n",
       "    </tr>\n",
       "    <tr>\n",
       "      <th>2</th>\n",
       "      <td>0000-0000-0353-3D35</td>\n",
       "      <td>fabioviana</td>\n",
       "    </tr>\n",
       "    <tr>\n",
       "      <th>3</th>\n",
       "      <td>0000-0000-0353-3D35</td>\n",
       "      <td>gorigokky</td>\n",
       "    </tr>\n",
       "    <tr>\n",
       "      <th>4</th>\n",
       "      <td>0000-0000-0353-3D35</td>\n",
       "      <td>groebenzell</td>\n",
       "    </tr>\n",
       "  </tbody>\n",
       "</table>\n",
       "</div>"
      ],
      "text/plain": [
       "                  game       player\n",
       "0  0000-0000-0353-3D35    darter60k\n",
       "1  0000-0000-0353-3D35  davidchofis\n",
       "2  0000-0000-0353-3D35   fabioviana\n",
       "3  0000-0000-0353-3D35    gorigokky\n",
       "4  0000-0000-0353-3D35  groebenzell"
      ]
     },
     "execution_count": 5,
     "metadata": {},
     "output_type": "execute_result"
    }
   ],
   "source": [
    "plays_df.head()"
   ]
  },
  {
   "cell_type": "markdown",
   "metadata": {
    "colab_type": "text",
    "id": "iVkjo039YmG3"
   },
   "source": [
    "Add a column with value of 0 to start with indicating game is played but not cleared by the player."
   ]
  },
  {
   "cell_type": "code",
   "execution_count": 6,
   "metadata": {
    "colab": {},
    "colab_type": "code",
    "id": "y7LyYlsEYlR2"
   },
   "outputs": [],
   "source": [
    "plays_df['score'] = 0"
   ]
  },
  {
   "cell_type": "markdown",
   "metadata": {
    "colab_type": "text",
    "id": "zXU4fM38V0o9"
   },
   "source": [
    "Read data of games cleared data."
   ]
  },
  {
   "cell_type": "code",
   "execution_count": 7,
   "metadata": {
    "colab": {},
    "colab_type": "code",
    "id": "AGJF2Wg9V1Bb"
   },
   "outputs": [],
   "source": [
    "clears_df = pd.read_csv('/Users/pj/Documents/671_Project/clears.csv', sep='\\t', usecols=['id', 'player'])\n",
    "clears_df.columns = ['game', 'player']"
   ]
  },
  {
   "cell_type": "code",
   "execution_count": 8,
   "metadata": {
    "colab": {
     "base_uri": "https://localhost:8080/",
     "height": 195
    },
    "colab_type": "code",
    "id": "Zqz0n8RQV83l",
    "outputId": "de135e8d-eaa6-49b8-f589-7edc126d0a3e"
   },
   "outputs": [
    {
     "data": {
      "text/html": [
       "<div>\n",
       "<style scoped>\n",
       "    .dataframe tbody tr th:only-of-type {\n",
       "        vertical-align: middle;\n",
       "    }\n",
       "\n",
       "    .dataframe tbody tr th {\n",
       "        vertical-align: top;\n",
       "    }\n",
       "\n",
       "    .dataframe thead th {\n",
       "        text-align: right;\n",
       "    }\n",
       "</style>\n",
       "<table border=\"1\" class=\"dataframe\">\n",
       "  <thead>\n",
       "    <tr style=\"text-align: right;\">\n",
       "      <th></th>\n",
       "      <th>game</th>\n",
       "      <th>player</th>\n",
       "    </tr>\n",
       "  </thead>\n",
       "  <tbody>\n",
       "    <tr>\n",
       "      <th>0</th>\n",
       "      <td>0000-0000-0353-3D35</td>\n",
       "      <td>darter60k</td>\n",
       "    </tr>\n",
       "    <tr>\n",
       "      <th>1</th>\n",
       "      <td>0000-0000-0353-3D35</td>\n",
       "      <td>davidchofis</td>\n",
       "    </tr>\n",
       "    <tr>\n",
       "      <th>2</th>\n",
       "      <td>0000-0000-0353-3D35</td>\n",
       "      <td>fabioviana</td>\n",
       "    </tr>\n",
       "    <tr>\n",
       "      <th>3</th>\n",
       "      <td>0000-0000-0353-3D35</td>\n",
       "      <td>groebenzell</td>\n",
       "    </tr>\n",
       "    <tr>\n",
       "      <th>4</th>\n",
       "      <td>0000-0000-0353-3D35</td>\n",
       "      <td>igatake0229</td>\n",
       "    </tr>\n",
       "  </tbody>\n",
       "</table>\n",
       "</div>"
      ],
      "text/plain": [
       "                  game       player\n",
       "0  0000-0000-0353-3D35    darter60k\n",
       "1  0000-0000-0353-3D35  davidchofis\n",
       "2  0000-0000-0353-3D35   fabioviana\n",
       "3  0000-0000-0353-3D35  groebenzell\n",
       "4  0000-0000-0353-3D35  igatake0229"
      ]
     },
     "execution_count": 8,
     "metadata": {},
     "output_type": "execute_result"
    }
   ],
   "source": [
    "clears_df.head()"
   ]
  },
  {
   "cell_type": "markdown",
   "metadata": {
    "colab_type": "text",
    "id": "DOgXluWnYvbi"
   },
   "source": [
    "Add a column with value of 1 indicating that the game is cleared by the player."
   ]
  },
  {
   "cell_type": "code",
   "execution_count": 9,
   "metadata": {
    "colab": {},
    "colab_type": "code",
    "id": "NTL56Ih2Yv5i"
   },
   "outputs": [],
   "source": [
    "clears_df['score'] = 1"
   ]
  },
  {
   "cell_type": "markdown",
   "metadata": {
    "colab_type": "text",
    "id": "hI4Ps_ccQGUx"
   },
   "source": [
    "Next we merge the 2 dataframes, so it now has information about games cleared as well as games played, but not cleared."
   ]
  },
  {
   "cell_type": "code",
   "execution_count": 10,
   "metadata": {
    "colab": {},
    "colab_type": "code",
    "id": "ULogY0x4ZY-l"
   },
   "outputs": [],
   "source": [
    "all_data = clears_df.merge(plays_df, how='outer', on=['game', 'player'])"
   ]
  },
  {
   "cell_type": "markdown",
   "metadata": {
    "colab_type": "text",
    "id": "ZLbyJsRsQTSP"
   },
   "source": [
    "Replace *NaN* values with $0$."
   ]
  },
  {
   "cell_type": "code",
   "execution_count": 11,
   "metadata": {
    "colab": {},
    "colab_type": "code",
    "id": "AgfdQWCf9WFM"
   },
   "outputs": [],
   "source": [
    "all_data.fillna(0, inplace=True)"
   ]
  },
  {
   "cell_type": "markdown",
   "metadata": {
    "colab_type": "text",
    "id": "LSotSseu5ALc"
   },
   "source": [
    "Drop last column *score_y* as it contains only zeroes, all required information is now available in *score_x*. It is $0$ when the player has just played the game, but not cleared. It is $1$ when the player has cleared that game."
   ]
  },
  {
   "cell_type": "code",
   "execution_count": 12,
   "metadata": {
    "colab": {},
    "colab_type": "code",
    "id": "OxMuK0ZB4xQZ"
   },
   "outputs": [],
   "source": [
    "all_data.drop(columns='score_y', inplace=True)"
   ]
  },
  {
   "cell_type": "markdown",
   "metadata": {
    "colab_type": "text",
    "id": "Jfn4YcfCRBtT"
   },
   "source": [
    "Presently, $0$ and $1$ labels are segregated, lets shuffle the dataframe to distribute them."
   ]
  },
  {
   "cell_type": "code",
   "execution_count": 13,
   "metadata": {
    "colab": {},
    "colab_type": "code",
    "id": "aYiFbMmgZu8w"
   },
   "outputs": [],
   "source": [
    "all_data = all_data.sample(frac=1).reset_index(drop=True)"
   ]
  },
  {
   "cell_type": "code",
   "execution_count": 14,
   "metadata": {
    "colab": {},
    "colab_type": "code",
    "id": "b3Gy7UL94c8m"
   },
   "outputs": [],
   "source": [
    "train_data, test_data = model_selection.train_test_split(all_data, test_size = 0.2)\n",
    "val_data, test_data   = model_selection.train_test_split(test_data, test_size = 0.5)"
   ]
  },
  {
   "cell_type": "markdown",
   "metadata": {
    "colab_type": "text",
    "id": "2hZdb4FQXzvR"
   },
   "source": [
    "### 2. Exploratory Data Analysis."
   ]
  },
  {
   "cell_type": "markdown",
   "metadata": {
    "colab_type": "text",
    "id": "ZbHe8zKCSBzb"
   },
   "source": [
    "Let us check some data attributes before building the recommendation system."
   ]
  },
  {
   "cell_type": "code",
   "execution_count": 15,
   "metadata": {
    "colab": {
     "base_uri": "https://localhost:8080/",
     "height": 50
    },
    "colab_type": "code",
    "id": "Nru5h8w3RypH",
    "outputId": "096b5ae8-d8fc-432a-c8d8-2b929b2f5eed"
   },
   "outputs": [
    {
     "name": "stdout",
     "output_type": "stream",
     "text": [
      "Total number of players : 861465\n",
      "Total number of games   : 115032\n"
     ]
    }
   ],
   "source": [
    "print('Total number of players : {}'.format(len(all_data['player'].value_counts())))\n",
    "print('Total number of games   : {}'.format(len(all_data['game'].value_counts())))"
   ]
  },
  {
   "cell_type": "code",
   "execution_count": 16,
   "metadata": {
    "colab": {
     "base_uri": "https://localhost:8080/",
     "height": 50
    },
    "colab_type": "code",
    "id": "P1zV6E5fSLro",
    "outputId": "527a6f5c-000c-492e-a4a9-b14237307deb"
   },
   "outputs": [
    {
     "name": "stdout",
     "output_type": "stream",
     "text": [
      "Number of games played and cleared     : 2051809\n",
      "Number of games played but not cleared : 2036348\n"
     ]
    }
   ],
   "source": [
    "print('Number of games played and cleared     : {}'.format(len(all_data[all_data['score_x'] == 1])))\n",
    "print('Number of games played but not cleared : {}'.format(len(all_data[all_data['score_x'] == 0])))"
   ]
  },
  {
   "cell_type": "markdown",
   "metadata": {
    "colab_type": "text",
    "id": "R-rJP5acddYF"
   },
   "source": [
    "**Comment:** As we can observed from output of above cell, there is approximately $50:50$ split between game levels cleared and games only played."
   ]
  },
  {
   "cell_type": "markdown",
   "metadata": {
    "colab_type": "text",
    "id": "NJoYH6qdSxWn"
   },
   "source": [
    "### 3. Recommendation system data preparation."
   ]
  },
  {
   "cell_type": "code",
   "execution_count": 17,
   "metadata": {
    "colab": {},
    "colab_type": "code",
    "id": "gQsFpeI2EEZ6"
   },
   "outputs": [],
   "source": [
    "reader = Reader(rating_scale=(0, 1))"
   ]
  },
  {
   "cell_type": "markdown",
   "metadata": {
    "colab_type": "text",
    "id": "BM2s1M4XS6wI"
   },
   "source": [
    "Load train, validation and test data from dataframes."
   ]
  },
  {
   "cell_type": "code",
   "execution_count": 18,
   "metadata": {
    "colab": {},
    "colab_type": "code",
    "id": "bgWRJIIqGbz8"
   },
   "outputs": [],
   "source": [
    "rec_data   = Dataset.load_from_df(train_data[['player', 'game', 'score_x']], reader)\n",
    "rec_data_v = Dataset.load_from_df(val_data[['player', 'game', 'score_x']], reader)\n",
    "rec_data_t = Dataset.load_from_df(test_data[['player', 'game', 'score_x']], reader)"
   ]
  },
  {
   "cell_type": "markdown",
   "metadata": {
    "colab_type": "text",
    "id": "0ammCC3ls02J"
   },
   "source": [
    "Train/Val/Test split = $80:10:10$."
   ]
  },
  {
   "cell_type": "code",
   "execution_count": 19,
   "metadata": {
    "colab": {},
    "colab_type": "code",
    "id": "Ao5jjmUSszos"
   },
   "outputs": [],
   "source": [
    "train_set , _    = surprise.model_selection.train_test_split(rec_data, test_size=0.0001) # 0.01% data is discarded, bcoz it does not allow test_size to be 0.\n",
    "_ , val_set      = surprise.model_selection.train_test_split(rec_data_v, test_size=1.0)\n",
    "_ , test_set     = surprise.model_selection.train_test_split(rec_data_t, test_size=1.0)"
   ]
  },
  {
   "cell_type": "code",
   "execution_count": 20,
   "metadata": {},
   "outputs": [],
   "source": [
    "#train_set.split(n_folds=5)"
   ]
  },
  {
   "cell_type": "markdown",
   "metadata": {
    "colab_type": "text",
    "id": "HxW0jedoTj1b"
   },
   "source": [
    "### 4. Baseline recommendation system."
   ]
  },
  {
   "cell_type": "markdown",
   "metadata": {
    "colab_type": "text",
    "id": "oVN3MWTxUGem"
   },
   "source": [
    "We will use normal predictor as baseline recommender. It is an algorithm predicting a random rating based on the distribution of the training set, which is assumed to be normal.\n",
    "\n",
    "The prediction $\\hat r_{ui}$ is generated from a normal distribution $N(\\hat \\mu, \\hat \\sigma)$ where $\\hat \\mu$ and $\\hat \\sigma$ are estimated from the training data using Maximum Likelihood Estimation:\n",
    "\n",
    "$ \\hat \\mu=\\frac{1}{R_{train}} \\sum_{r_{ui} \\in R_{train}}\n",
    "{r_{ui}}$\n",
    "\n",
    "$\\hat \\sigma = \\sqrt{\\sum_{r_{ui} \\in R_{train}} \\frac{(r_{ui}-{\\hat \\mu})^2}{|R_{train}|}}$"
   ]
  },
  {
   "cell_type": "code",
   "execution_count": 20,
   "metadata": {
    "colab": {},
    "colab_type": "code",
    "id": "E_My3pq5ISoJ"
   },
   "outputs": [],
   "source": [
    "algo_normal = NormalPredictor()"
   ]
  },
  {
   "cell_type": "code",
   "execution_count": 21,
   "metadata": {},
   "outputs": [
    {
     "name": "stdout",
     "output_type": "stream",
     "text": [
      "Evaluating RMSE, MAE of algorithm NormalPredictor on 5 split(s).\n",
      "\n",
      "                  Fold 1  Fold 2  Fold 3  Fold 4  Fold 5  Mean    Std     \n",
      "RMSE (testset)    0.6156  0.6155  0.6158  0.6159  0.6151  0.6156  0.0003  \n",
      "MAE (testset)     0.5000  0.5000  0.5003  0.5004  0.4994  0.5000  0.0003  \n",
      "Fit time          5.08    7.72    7.06    8.41    7.53    7.16    1.12    \n",
      "Test time         9.38    7.59    9.55    9.44    8.45    8.88    0.76    \n"
     ]
    },
    {
     "data": {
      "text/plain": [
       "{'test_rmse': array([0.6156369 , 0.61549122, 0.61583449, 0.61589171, 0.61508054]),\n",
       " 'test_mae': array([0.49995859, 0.5000054 , 0.5003468 , 0.50036926, 0.49942038]),\n",
       " 'fit_time': (5.0842201709747314,\n",
       "  7.719686985015869,\n",
       "  7.062654972076416,\n",
       "  8.406746864318848,\n",
       "  7.532561302185059),\n",
       " 'test_time': (9.378026008605957,\n",
       "  7.591669082641602,\n",
       "  9.549007654190063,\n",
       "  9.43704605102539,\n",
       "  8.44702696800232)}"
      ]
     },
     "execution_count": 21,
     "metadata": {},
     "output_type": "execute_result"
    }
   ],
   "source": [
    "cross_validate(algo_normal, rec_data, measures=['RMSE', 'MAE'], cv=5, verbose=True)"
   ]
  },
  {
   "cell_type": "code",
   "execution_count": 23,
   "metadata": {
    "colab": {
     "base_uri": "https://localhost:8080/",
     "height": 34
    },
    "colab_type": "code",
    "id": "a9ZpfXnebxXI",
    "outputId": "0a76c640-a46f-4dd9-d59a-a068cea1d2bc"
   },
   "outputs": [],
   "source": [
    "algo_normal.fit(train_set)"
   ]
  },
  {
   "cell_type": "code",
   "execution_count": 24,
   "metadata": {
    "colab": {},
    "colab_type": "code",
    "id": "5Rfj8s0OeXVR"
   },
   "outputs": [],
   "source": [
    "pred_normal = algo_normal.test(val_set)"
   ]
  },
  {
   "cell_type": "code",
   "execution_count": 25,
   "metadata": {
    "colab": {
     "base_uri": "https://localhost:8080/",
     "height": 50
    },
    "colab_type": "code",
    "id": "F-9KN242rXaw",
    "outputId": "a6d8151d-85d8-40ce-af4e-8405da2b5efc"
   },
   "outputs": [],
   "source": [
    "rmse_normal = accuracy.rmse(pred_normal)\n",
    "mse_normal = accuracy.mse(pred_normal)"
   ]
  },
  {
   "cell_type": "code",
   "execution_count": 26,
   "metadata": {
    "colab": {
     "base_uri": "https://localhost:8080/",
     "height": 50
    },
    "colab_type": "code",
    "id": "zT1xu6zCrlQd",
    "outputId": "477fe5b4-3cfe-4b6c-9259-a918045acb36"
   },
   "outputs": [],
   "source": [
    "print(\"Validation RMSE using Normal Predictor: {0:5.4f}\".format(rmse_normal))\n",
    "print(\"Validation MSE using Normal Predictor : {0:5.4f}\".format(mse_normal))"
   ]
  },
  {
   "cell_type": "markdown",
   "metadata": {},
   "source": [
    "### 4. Using kNN"
   ]
  },
  {
   "cell_type": "code",
   "execution_count": 27,
   "metadata": {},
   "outputs": [],
   "source": [
    "algo_knn = KNNBasic()"
   ]
  },
  {
   "cell_type": "code",
   "execution_count": null,
   "metadata": {},
   "outputs": [],
   "source": [
    "cross_validate(algo_knn, rec_data, measures=['RMSE', 'MAE'], cv=3, verbose=True)"
   ]
  },
  {
   "cell_type": "markdown",
   "metadata": {
    "colab_type": "text",
    "id": "dvKx_sZ4fAzu"
   },
   "source": [
    "### 5. Recommendation system using SVD"
   ]
  },
  {
   "cell_type": "code",
   "execution_count": 22,
   "metadata": {
    "colab": {},
    "colab_type": "code",
    "id": "HN_YmvYCJK7b"
   },
   "outputs": [],
   "source": [
    "algo_svd = SVD()"
   ]
  },
  {
   "cell_type": "code",
   "execution_count": 23,
   "metadata": {
    "colab": {
     "base_uri": "https://localhost:8080/",
     "height": 34
    },
    "colab_type": "code",
    "id": "aExbybVgKG5_",
    "outputId": "5f04819c-e264-4b86-fc29-00ba98155652"
   },
   "outputs": [
    {
     "data": {
      "text/plain": [
       "<surprise.prediction_algorithms.matrix_factorization.SVD at 0x11f141d90>"
      ]
     },
     "execution_count": 23,
     "metadata": {},
     "output_type": "execute_result"
    }
   ],
   "source": [
    "algo_svd.fit(train_set)"
   ]
  },
  {
   "cell_type": "code",
   "execution_count": 24,
   "metadata": {
    "colab": {},
    "colab_type": "code",
    "id": "FODWIoK7GhXT"
   },
   "outputs": [],
   "source": [
    "pred_svd = algo_svd.test(val_set)"
   ]
  },
  {
   "cell_type": "code",
   "execution_count": 25,
   "metadata": {
    "colab": {
     "base_uri": "https://localhost:8080/",
     "height": 50
    },
    "colab_type": "code",
    "id": "ZAu-IdzUtHc0",
    "outputId": "d24434ce-4a0d-439a-c4fa-47dbd2793fac"
   },
   "outputs": [
    {
     "name": "stdout",
     "output_type": "stream",
     "text": [
      "RMSE: 0.4032\n",
      "MSE: 0.1626\n"
     ]
    }
   ],
   "source": [
    "rmse_svd = accuracy.rmse(pred_svd)\n",
    "mse_svd  = accuracy.mse(pred_svd)"
   ]
  },
  {
   "cell_type": "code",
   "execution_count": 26,
   "metadata": {
    "colab": {
     "base_uri": "https://localhost:8080/",
     "height": 50
    },
    "colab_type": "code",
    "id": "k4xW2xoGHE2U",
    "outputId": "d22449af-8aed-4e20-bd67-0d249c699f41"
   },
   "outputs": [
    {
     "name": "stdout",
     "output_type": "stream",
     "text": [
      "Validation RMSE using SVD : 0.4032\n",
      "Validation MSE using SVD  : 0.1626\n"
     ]
    }
   ],
   "source": [
    "print(\"Validation RMSE using SVD : {0:5.4f}\".format(rmse_svd))\n",
    "print(\"Validation MSE using SVD  : {0:5.4f}\".format(mse_svd))"
   ]
  },
  {
   "cell_type": "code",
   "execution_count": 27,
   "metadata": {},
   "outputs": [
    {
     "name": "stdout",
     "output_type": "stream",
     "text": [
      "Evaluating RMSE, MAE of algorithm SVD on 5 split(s).\n",
      "\n",
      "                  Fold 1  Fold 2  Fold 3  Fold 4  Fold 5  Mean    Std     \n",
      "RMSE (testset)    0.4086  0.4085  0.4085  0.4087  0.4085  0.4086  0.0001  \n",
      "MAE (testset)     0.3452  0.3451  0.3449  0.3451  0.3449  0.3451  0.0001  \n",
      "Fit time          187.19  185.82  185.95  182.31  194.44  187.14  3.99    \n",
      "Test time         9.35    8.37    8.64    5.57    8.51    8.09    1.30    \n"
     ]
    },
    {
     "data": {
      "text/plain": [
       "{'test_rmse': array([0.40864899, 0.40852473, 0.40846658, 0.40866519, 0.40854241]),\n",
       " 'test_mae': array([0.34516982, 0.3451255 , 0.3449396 , 0.34511894, 0.34490493]),\n",
       " 'fit_time': (187.19080424308777,\n",
       "  185.8187770843506,\n",
       "  185.94905877113342,\n",
       "  182.306006193161,\n",
       "  194.43745374679565),\n",
       " 'test_time': (9.348040103912354,\n",
       "  8.373914003372192,\n",
       "  8.636219024658203,\n",
       "  5.566976070404053,\n",
       "  8.507369995117188)}"
      ]
     },
     "execution_count": 27,
     "metadata": {},
     "output_type": "execute_result"
    }
   ],
   "source": [
    "cross_validate(algo_svd, rec_data, measures=['RMSE', 'MAE'], cv=5, verbose=True)"
   ]
  },
  {
   "cell_type": "code",
   "execution_count": null,
   "metadata": {},
   "outputs": [],
   "source": []
  }
 ],
 "metadata": {
  "accelerator": "GPU",
  "colab": {
   "collapsed_sections": [],
   "name": "SMM_analysis_2.ipynb",
   "provenance": []
  },
  "kernelspec": {
   "display_name": "Python 3",
   "language": "python",
   "name": "python3"
  },
  "language_info": {
   "codemirror_mode": {
    "name": "ipython",
    "version": 3
   },
   "file_extension": ".py",
   "mimetype": "text/x-python",
   "name": "python",
   "nbconvert_exporter": "python",
   "pygments_lexer": "ipython3",
   "version": "3.8.1"
  }
 },
 "nbformat": 4,
 "nbformat_minor": 1
}
