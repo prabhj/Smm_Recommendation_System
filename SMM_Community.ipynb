{
 "cells": [
  {
   "cell_type": "markdown",
   "metadata": {
    "colab_type": "text",
    "id": "DZuJgz7f2IZ3"
   },
   "source": [
    "## Super Mario Maker Dataset - Network Analysis"
   ]
  },
  {
   "cell_type": "markdown",
   "metadata": {
    "colab_type": "text",
    "id": "ErHiyzZVVERF"
   },
   "source": [
    "### 1. Prerequisites"
   ]
  },
  {
   "cell_type": "markdown",
   "metadata": {
    "colab_type": "text",
    "id": "moaC0uhpU5i_"
   },
   "source": [
    "Import required libraries."
   ]
  },
  {
   "cell_type": "code",
   "execution_count": 1,
   "metadata": {
    "colab": {
     "base_uri": "https://localhost:8080/",
     "height": 138
    },
    "colab_type": "code",
    "id": "hthCYrf-F1bA",
    "outputId": "8ef2de4f-3a06-40ff-d795-9bd2dbddda94"
   },
   "outputs": [
    {
     "name": "stdout",
     "output_type": "stream",
     "text": [
      "Requirement already satisfied: surprise in /usr/local/lib/python3.6/dist-packages (0.1)\n",
      "Requirement already satisfied: scikit-surprise in /usr/local/lib/python3.6/dist-packages (from surprise) (1.1.0)\n",
      "Requirement already satisfied: numpy>=1.11.2 in /usr/local/lib/python3.6/dist-packages (from scikit-surprise->surprise) (1.17.5)\n",
      "Requirement already satisfied: six>=1.10.0 in /usr/local/lib/python3.6/dist-packages (from scikit-surprise->surprise) (1.12.0)\n",
      "Requirement already satisfied: joblib>=0.11 in /usr/local/lib/python3.6/dist-packages (from scikit-surprise->surprise) (0.14.1)\n",
      "Requirement already satisfied: scipy>=1.0.0 in /usr/local/lib/python3.6/dist-packages (from scikit-surprise->surprise) (1.4.1)\n"
     ]
    }
   ],
   "source": [
    "!pip install surprise"
   ]
  },
  {
   "cell_type": "code",
   "execution_count": 1,
   "metadata": {
    "colab": {},
    "colab_type": "code",
    "id": "CqfsTYm83mip"
   },
   "outputs": [],
   "source": [
    "import numpy as np\n",
    "import pandas as pd\n",
    "from sklearn.metrics import accuracy_score, confusion_matrix, precision_recall_fscore_support\n",
    "import os\n",
    "import gc\n",
    "from sklearn.cluster import KMeans\n",
    "import matplotlib.pyplot as plt\n",
    "from sklearn import model_selection\n",
    "from surprise import NormalPredictor, SVD, KNNBasic, SVDpp\n",
    "from surprise import Dataset\n",
    "from surprise import Reader\n",
    "import surprise\n",
    "from surprise.model_selection import cross_validate, train_test_split\n",
    "from surprise import accuracy\n",
    "from sklearn.metrics.pairwise import cosine_similarity, cosine_distances\n",
    "import networkx as nx\n",
    "import math\n",
    "import random as rand\n",
    "import sys\n",
    "import csv"
   ]
  },
  {
   "cell_type": "markdown",
   "metadata": {
    "colab_type": "text",
    "id": "pHXQkBC7U-U3"
   },
   "source": [
    "Specify data files location."
   ]
  },
  {
   "cell_type": "code",
   "execution_count": 2,
   "metadata": {
    "colab": {},
    "colab_type": "code",
    "id": "6Tm0Ut1d3UY2"
   },
   "outputs": [],
   "source": [
    "data_path = '/Users/pj/Documents/671_Project/'"
   ]
  },
  {
   "cell_type": "markdown",
   "metadata": {
    "colab_type": "text",
    "id": "c-kKbKIKVr1w"
   },
   "source": [
    "Read data of games played."
   ]
  },
  {
   "cell_type": "code",
   "execution_count": 3,
   "metadata": {
    "colab": {},
    "colab_type": "code",
    "id": "UMkSzukpVrII"
   },
   "outputs": [],
   "source": [
    "plays_df = pd.read_csv(data_path + 'plays.csv', sep=\"\\t\", usecols=['id', 'player'])\n",
    "plays_df.columns = ['game', 'player']"
   ]
  },
  {
   "cell_type": "code",
   "execution_count": 4,
   "metadata": {
    "colab": {
     "base_uri": "https://localhost:8080/",
     "height": 195
    },
    "colab_type": "code",
    "id": "3Uq1p0UrVzWq",
    "outputId": "04c1b460-57b8-4ff6-b2a0-eba33b5f3f7c"
   },
   "outputs": [
    {
     "data": {
      "text/html": [
       "<div>\n",
       "<style scoped>\n",
       "    .dataframe tbody tr th:only-of-type {\n",
       "        vertical-align: middle;\n",
       "    }\n",
       "\n",
       "    .dataframe tbody tr th {\n",
       "        vertical-align: top;\n",
       "    }\n",
       "\n",
       "    .dataframe thead th {\n",
       "        text-align: right;\n",
       "    }\n",
       "</style>\n",
       "<table border=\"1\" class=\"dataframe\">\n",
       "  <thead>\n",
       "    <tr style=\"text-align: right;\">\n",
       "      <th></th>\n",
       "      <th>game</th>\n",
       "      <th>player</th>\n",
       "    </tr>\n",
       "  </thead>\n",
       "  <tbody>\n",
       "    <tr>\n",
       "      <th>0</th>\n",
       "      <td>0000-0000-0353-3D35</td>\n",
       "      <td>darter60k</td>\n",
       "    </tr>\n",
       "    <tr>\n",
       "      <th>1</th>\n",
       "      <td>0000-0000-0353-3D35</td>\n",
       "      <td>davidchofis</td>\n",
       "    </tr>\n",
       "    <tr>\n",
       "      <th>2</th>\n",
       "      <td>0000-0000-0353-3D35</td>\n",
       "      <td>fabioviana</td>\n",
       "    </tr>\n",
       "    <tr>\n",
       "      <th>3</th>\n",
       "      <td>0000-0000-0353-3D35</td>\n",
       "      <td>gorigokky</td>\n",
       "    </tr>\n",
       "    <tr>\n",
       "      <th>4</th>\n",
       "      <td>0000-0000-0353-3D35</td>\n",
       "      <td>groebenzell</td>\n",
       "    </tr>\n",
       "  </tbody>\n",
       "</table>\n",
       "</div>"
      ],
      "text/plain": [
       "                  game       player\n",
       "0  0000-0000-0353-3D35    darter60k\n",
       "1  0000-0000-0353-3D35  davidchofis\n",
       "2  0000-0000-0353-3D35   fabioviana\n",
       "3  0000-0000-0353-3D35    gorigokky\n",
       "4  0000-0000-0353-3D35  groebenzell"
      ]
     },
     "execution_count": 4,
     "metadata": {},
     "output_type": "execute_result"
    }
   ],
   "source": [
    "plays_df.head()"
   ]
  },
  {
   "cell_type": "markdown",
   "metadata": {
    "colab_type": "text",
    "id": "iVkjo039YmG3"
   },
   "source": [
    "Add a column with value of 0 to start with indicating game is played but not cleared by the player."
   ]
  },
  {
   "cell_type": "code",
   "execution_count": 5,
   "metadata": {
    "colab": {},
    "colab_type": "code",
    "id": "y7LyYlsEYlR2"
   },
   "outputs": [],
   "source": [
    "plays_df['score'] = 0"
   ]
  },
  {
   "cell_type": "markdown",
   "metadata": {
    "colab_type": "text",
    "id": "zXU4fM38V0o9"
   },
   "source": [
    "Read data of games cleared data."
   ]
  },
  {
   "cell_type": "code",
   "execution_count": 6,
   "metadata": {
    "colab": {},
    "colab_type": "code",
    "id": "AGJF2Wg9V1Bb"
   },
   "outputs": [],
   "source": [
    "clears_df = pd.read_csv('/Users/pj/Documents/671_Project/clears.csv', sep='\\t', usecols=['id', 'player'])\n",
    "clears_df.columns = ['game', 'player']"
   ]
  },
  {
   "cell_type": "code",
   "execution_count": 7,
   "metadata": {
    "colab": {
     "base_uri": "https://localhost:8080/",
     "height": 195
    },
    "colab_type": "code",
    "id": "Zqz0n8RQV83l",
    "outputId": "7cdaf11c-e700-4781-9df0-797d36c36059"
   },
   "outputs": [
    {
     "data": {
      "text/html": [
       "<div>\n",
       "<style scoped>\n",
       "    .dataframe tbody tr th:only-of-type {\n",
       "        vertical-align: middle;\n",
       "    }\n",
       "\n",
       "    .dataframe tbody tr th {\n",
       "        vertical-align: top;\n",
       "    }\n",
       "\n",
       "    .dataframe thead th {\n",
       "        text-align: right;\n",
       "    }\n",
       "</style>\n",
       "<table border=\"1\" class=\"dataframe\">\n",
       "  <thead>\n",
       "    <tr style=\"text-align: right;\">\n",
       "      <th></th>\n",
       "      <th>game</th>\n",
       "      <th>player</th>\n",
       "    </tr>\n",
       "  </thead>\n",
       "  <tbody>\n",
       "    <tr>\n",
       "      <th>0</th>\n",
       "      <td>0000-0000-0353-3D35</td>\n",
       "      <td>darter60k</td>\n",
       "    </tr>\n",
       "    <tr>\n",
       "      <th>1</th>\n",
       "      <td>0000-0000-0353-3D35</td>\n",
       "      <td>davidchofis</td>\n",
       "    </tr>\n",
       "    <tr>\n",
       "      <th>2</th>\n",
       "      <td>0000-0000-0353-3D35</td>\n",
       "      <td>fabioviana</td>\n",
       "    </tr>\n",
       "    <tr>\n",
       "      <th>3</th>\n",
       "      <td>0000-0000-0353-3D35</td>\n",
       "      <td>groebenzell</td>\n",
       "    </tr>\n",
       "    <tr>\n",
       "      <th>4</th>\n",
       "      <td>0000-0000-0353-3D35</td>\n",
       "      <td>igatake0229</td>\n",
       "    </tr>\n",
       "  </tbody>\n",
       "</table>\n",
       "</div>"
      ],
      "text/plain": [
       "                  game       player\n",
       "0  0000-0000-0353-3D35    darter60k\n",
       "1  0000-0000-0353-3D35  davidchofis\n",
       "2  0000-0000-0353-3D35   fabioviana\n",
       "3  0000-0000-0353-3D35  groebenzell\n",
       "4  0000-0000-0353-3D35  igatake0229"
      ]
     },
     "execution_count": 7,
     "metadata": {},
     "output_type": "execute_result"
    }
   ],
   "source": [
    "clears_df.head()"
   ]
  },
  {
   "cell_type": "markdown",
   "metadata": {
    "colab_type": "text",
    "id": "DOgXluWnYvbi"
   },
   "source": [
    "Add a column with value of 1 indicating that the game is cleared by the player."
   ]
  },
  {
   "cell_type": "code",
   "execution_count": 8,
   "metadata": {
    "colab": {},
    "colab_type": "code",
    "id": "NTL56Ih2Yv5i"
   },
   "outputs": [],
   "source": [
    "clears_df['score'] = 1"
   ]
  },
  {
   "cell_type": "markdown",
   "metadata": {
    "colab_type": "text",
    "id": "hI4Ps_ccQGUx"
   },
   "source": [
    "Next we merge the 2 dataframes, so it now has information about games cleared as well as games played, but not cleared."
   ]
  },
  {
   "cell_type": "code",
   "execution_count": 9,
   "metadata": {
    "colab": {},
    "colab_type": "code",
    "id": "ULogY0x4ZY-l"
   },
   "outputs": [],
   "source": [
    "all_data = clears_df.merge(plays_df, how='outer', on=['game', 'player'])"
   ]
  },
  {
   "cell_type": "markdown",
   "metadata": {
    "colab_type": "text",
    "id": "ZLbyJsRsQTSP"
   },
   "source": [
    "Replace *NaN* values with $0$."
   ]
  },
  {
   "cell_type": "code",
   "execution_count": 10,
   "metadata": {
    "colab": {},
    "colab_type": "code",
    "id": "AgfdQWCf9WFM"
   },
   "outputs": [],
   "source": [
    "all_data.fillna(0, inplace=True)"
   ]
  },
  {
   "cell_type": "markdown",
   "metadata": {
    "colab_type": "text",
    "id": "LSotSseu5ALc"
   },
   "source": [
    "Drop last column *score_y* as it contains only zeroes, all required information is now available in *score_x*. It is $0$ when the player has just played the game, but not cleared. It is $1$ when the player has cleared that game."
   ]
  },
  {
   "cell_type": "code",
   "execution_count": 11,
   "metadata": {
    "colab": {},
    "colab_type": "code",
    "id": "OxMuK0ZB4xQZ"
   },
   "outputs": [],
   "source": [
    "all_data.drop(columns='score_y', inplace=True)"
   ]
  },
  {
   "cell_type": "markdown",
   "metadata": {
    "colab_type": "text",
    "id": "Jfn4YcfCRBtT"
   },
   "source": [
    "Presently, $0$ and $1$ labels are segregated, lets shuffle the dataframe to distribute them."
   ]
  },
  {
   "cell_type": "code",
   "execution_count": 12,
   "metadata": {
    "colab": {},
    "colab_type": "code",
    "id": "aYiFbMmgZu8w"
   },
   "outputs": [],
   "source": [
    "all_data = all_data.sample(frac=1).reset_index(drop=True)"
   ]
  },
  {
   "cell_type": "markdown",
   "metadata": {
    "colab_type": "text",
    "id": "2hZdb4FQXzvR"
   },
   "source": [
    "### 2. Exploratory Data Analysis."
   ]
  },
  {
   "cell_type": "markdown",
   "metadata": {
    "colab_type": "text",
    "id": "ZbHe8zKCSBzb"
   },
   "source": [
    "Let us check some data attributes before building the recommendation system."
   ]
  },
  {
   "cell_type": "code",
   "execution_count": 13,
   "metadata": {
    "colab": {
     "base_uri": "https://localhost:8080/",
     "height": 50
    },
    "colab_type": "code",
    "id": "Nru5h8w3RypH",
    "outputId": "b35fc7e6-cb3d-494e-d48f-62d50dc53e45"
   },
   "outputs": [
    {
     "name": "stdout",
     "output_type": "stream",
     "text": [
      "Total number of players : 861465\n",
      "Total number of games   : 115032\n"
     ]
    }
   ],
   "source": [
    "print('Total number of players : {}'.format(len(all_data['player'].value_counts())))\n",
    "print('Total number of games   : {}'.format(len(all_data['game'].value_counts())))"
   ]
  },
  {
   "cell_type": "code",
   "execution_count": 14,
   "metadata": {
    "colab": {
     "base_uri": "https://localhost:8080/",
     "height": 50
    },
    "colab_type": "code",
    "id": "P1zV6E5fSLro",
    "outputId": "b56a7133-83cb-4f63-ac15-6da1fa4908e0"
   },
   "outputs": [
    {
     "name": "stdout",
     "output_type": "stream",
     "text": [
      "Number of games played and cleared     : 2051809\n",
      "Number of games played but not cleared : 2036348\n"
     ]
    }
   ],
   "source": [
    "print('Number of games played and cleared     : {}'.format(len(all_data[all_data['score_x'] == 1])))\n",
    "print('Number of games played but not cleared : {}'.format(len(all_data[all_data['score_x'] == 0])))"
   ]
  },
  {
   "cell_type": "markdown",
   "metadata": {
    "colab_type": "text",
    "id": "R-rJP5acddYF"
   },
   "source": [
    "**Comment:** As we can observed from output of above cell, there is approximately $50:50$ split between game levels cleared and games only played."
   ]
  },
  {
   "cell_type": "markdown",
   "metadata": {
    "colab_type": "text",
    "id": "NJoYH6qdSxWn"
   },
   "source": [
    "### 3. Community detection system data preparation."
   ]
  },
  {
   "cell_type": "markdown",
   "metadata": {
    "colab_type": "text",
    "id": "WxhQt4-m1uSA"
   },
   "source": [
    "Note: I have tried to generate a vector representation for each user using the 'likes' data, however, creating a high dimensional vector for each user is very slow, and it might take few days to complete it for all data. So I had to abandon that approach. An alternative approach based on the SVD recommender system seems more practical. We have a $100$ dimensional vector representation for each user generated by the SVD algorithm. This vector can be used as input to clustering algorithm. However, since we have total $861465$ users, for Girvan-Newman algorithm we will need a $861465^2$ array to hold the edge weights/connectivity data, which throws Google Colab VM out of memory. So I have developed the model for $5000$ users. You can run it on your machine, by just changing the $max\\_users$ parameter and see how many users the machine memory can handle."
   ]
  },
  {
   "cell_type": "code",
   "execution_count": 15,
   "metadata": {
    "colab": {},
    "colab_type": "code",
    "id": "XCGwuMTZ3t_-"
   },
   "outputs": [],
   "source": [
    "max_users = 5000"
   ]
  },
  {
   "cell_type": "code",
   "execution_count": 16,
   "metadata": {
    "colab": {},
    "colab_type": "code",
    "id": "gQsFpeI2EEZ6"
   },
   "outputs": [],
   "source": [
    "reader = Reader(rating_scale=(0, 1))"
   ]
  },
  {
   "cell_type": "markdown",
   "metadata": {
    "colab_type": "text",
    "id": "FR9jSUivoaOB"
   },
   "source": [
    "Since clustering is an unsupervised machine learning problem, we do not need train/val/test split. So let's generate dataset based on all data"
   ]
  },
  {
   "cell_type": "code",
   "execution_count": 17,
   "metadata": {
    "colab": {},
    "colab_type": "code",
    "id": "vb5i8Pvd6mkd"
   },
   "outputs": [],
   "source": [
    "cluster_data    = Dataset.load_from_df(all_data[['player', 'game', 'score_x']], reader)\n",
    "cluster_set, _  = surprise.model_selection.train_test_split(cluster_data, test_size=1e-9) # test size cannot be zero, so using a small value"
   ]
  },
  {
   "cell_type": "markdown",
   "metadata": {
    "colab_type": "text",
    "id": "kPzKGENJFNM6"
   },
   "source": [
    "Next, we obtain vector representations for players ($100$-dimensional), by using SVD algorithm."
   ]
  },
  {
   "cell_type": "code",
   "execution_count": 18,
   "metadata": {
    "colab": {},
    "colab_type": "code",
    "id": "C2tQnOP3FpI8"
   },
   "outputs": [],
   "source": [
    "cluster_svd = SVD(biased=False)"
   ]
  },
  {
   "cell_type": "code",
   "execution_count": 19,
   "metadata": {
    "colab": {
     "base_uri": "https://localhost:8080/",
     "height": 34
    },
    "colab_type": "code",
    "id": "7RO2vUjRFmTB",
    "outputId": "af73b622-2540-479d-8690-c17bc22be397"
   },
   "outputs": [
    {
     "data": {
      "text/plain": [
       "<surprise.prediction_algorithms.matrix_factorization.SVD at 0x1293fc730>"
      ]
     },
     "execution_count": 19,
     "metadata": {},
     "output_type": "execute_result"
    }
   ],
   "source": [
    "cluster_svd.fit(cluster_set)"
   ]
  },
  {
   "cell_type": "code",
   "execution_count": 20,
   "metadata": {
    "colab": {},
    "colab_type": "code",
    "id": "bOQOu8ioAYEs"
   },
   "outputs": [],
   "source": [
    "users_v = cluster_svd.pu[:max_users]"
   ]
  },
  {
   "cell_type": "markdown",
   "metadata": {
    "colab_type": "text",
    "id": "96j9Iep5oFKv"
   },
   "source": [
    "### Baseline method: k-Means clustering."
   ]
  },
  {
   "cell_type": "code",
   "execution_count": 21,
   "metadata": {
    "colab": {
     "base_uri": "https://localhost:8080/",
     "height": 1000
    },
    "colab_type": "code",
    "id": "a8_VTK43oIiN",
    "outputId": "5c942cdc-aa4e-41da-a3f1-dc37281ff2c4"
   },
   "outputs": [
    {
     "name": "stdout",
     "output_type": "stream",
     "text": [
      "Number of clusters: 1 \tLabels: [0 0 0 ... 0 0 0]\n",
      "Number of clusters: 3 \tLabels: [0 0 1 ... 1 1 1]\n",
      "Number of clusters: 5 \tLabels: [4 2 1 ... 4 1 1]\n",
      "Number of clusters: 7 \tLabels: [3 3 3 ... 2 3 2]\n",
      "Number of clusters: 9 \tLabels: [6 0 8 ... 6 0 7]\n",
      "Number of clusters: 11 \tLabels: [4 6 7 ... 1 7 7]\n",
      "Number of clusters: 13 \tLabels: [ 8 11  4 ...  7  3  2]\n",
      "Number of clusters: 15 \tLabels: [13  5 13 ...  5  3  7]\n",
      "Number of clusters: 17 \tLabels: [ 9 12 13 ...  7 12 14]\n",
      "Number of clusters: 19 \tLabels: [ 6 17  1 ...  4 11 12]\n",
      "Number of clusters: 21 \tLabels: [16  7 12 ...  7  8 20]\n",
      "Number of clusters: 23 \tLabels: [18 16 12 ...  5  0  7]\n",
      "Number of clusters: 25 \tLabels: [16 18 19 ...  4 17 12]\n",
      "Number of clusters: 27 \tLabels: [12 24  1 ...  6  9  3]\n",
      "Number of clusters: 29 \tLabels: [20 23 10 ...  2 23 26]\n",
      "Number of clusters: 31 \tLabels: [11  6  8 ... 19  7 19]\n",
      "Number of clusters: 33 \tLabels: [ 8 21 14 ... 17 26  0]\n",
      "Number of clusters: 35 \tLabels: [ 3  3 19 ... 31 16 29]\n",
      "Number of clusters: 37 \tLabels: [15 29 17 ... 33 24 14]\n",
      "Number of clusters: 39 \tLabels: [36 37 14 ...  5 18 13]\n",
      "Number of clusters: 41 \tLabels: [ 6  0 32 ... 36 29  1]\n",
      "Number of clusters: 43 \tLabels: [13  6  9 ...  2 37 19]\n",
      "Number of clusters: 45 \tLabels: [28  9 17 ... 15  9  7]\n",
      "Number of clusters: 47 \tLabels: [29 31 36 ... 37  9 26]\n",
      "Number of clusters: 49 \tLabels: [36 46 39 ... 35 20 45]\n",
      "Number of clusters: 51 \tLabels: [22 50 10 ... 10 50 46]\n",
      "Number of clusters: 53 \tLabels: [ 3 26 18 ... 21 24 13]\n",
      "Number of clusters: 55 \tLabels: [44 18 20 ... 45  8  6]\n",
      "Number of clusters: 57 \tLabels: [35 43 32 ...  2 11 42]\n",
      "Number of clusters: 59 \tLabels: [49  9 31 ...  3 12  4]\n",
      "Number of clusters: 61 \tLabels: [53 18  7 ... 20 46  5]\n",
      "Number of clusters: 63 \tLabels: [57 29 60 ... 28 34 62]\n",
      "Number of clusters: 65 \tLabels: [64 16 55 ... 29 63 45]\n",
      "Number of clusters: 67 \tLabels: [ 3 52 27 ...  2 18 28]\n",
      "Number of clusters: 69 \tLabels: [57 43  1 ... 47 17 27]\n",
      "Number of clusters: 71 \tLabels: [ 9 49 66 ... 64 21 13]\n",
      "Number of clusters: 73 \tLabels: [ 3 12 22 ... 72 24 34]\n",
      "Number of clusters: 75 \tLabels: [ 3 32 34 ...  5  5 65]\n",
      "Number of clusters: 77 \tLabels: [50 11 58 ... 28 11 45]\n",
      "Number of clusters: 79 \tLabels: [76 12 59 ... 39 76 33]\n",
      "Number of clusters: 81 \tLabels: [60 53  9 ... 51 50 32]\n",
      "Number of clusters: 83 \tLabels: [68 25  1 ... 60 79 77]\n",
      "Number of clusters: 85 \tLabels: [17 47 36 ... 48 35 41]\n",
      "Number of clusters: 87 \tLabels: [35 24  1 ... 47 52 29]\n",
      "Number of clusters: 89 \tLabels: [41 13 44 ... 15 22 54]\n",
      "Number of clusters: 91 \tLabels: [42 38 63 ...  5 52 12]\n",
      "Number of clusters: 93 \tLabels: [23 47 29 ... 59  6  2]\n",
      "Number of clusters: 95 \tLabels: [ 6 16 18 ... 79 40 12]\n",
      "Number of clusters: 97 \tLabels: [76 60 34 ... 54 79 35]\n",
      "Number of clusters: 99 \tLabels: [67 17 63 ... 28 86 74]\n"
     ]
    },
    {
     "data": {
      "image/png": "[encoded data removed]",
      "text/plain": [
       "<Figure size 432x288 with 1 Axes>"
      ]
     },
     "metadata": {
      "needs_background": "light"
     },
     "output_type": "display_data"
    }
   ],
   "source": [
    "inertia = {}\n",
    "for k in range(1, 100, 2):\n",
    "    print('Number of clusters:', k, '\\tLabels:', end=' ')\n",
    "    kmeans = KMeans(n_clusters=k, max_iter=1000).fit(users_v)\n",
    "    print(kmeans.labels_)\n",
    "    inertia[k] = kmeans.inertia_ # Inertia: Sum of squared distances of samples to their closest cluster center\n",
    "plt.figure()\n",
    "plt.plot(list(inertia.keys()), list(inertia.values()))\n",
    "plt.xlabel(\"Number of cluster\")\n",
    "plt.ylabel(\"Inertia\")\n",
    "plt.show()"
   ]
  },
  {
   "cell_type": "markdown",
   "metadata": {
    "colab_type": "text",
    "id": "rd9dZnV7oL_D"
   },
   "source": [
    "### Girvan-Newman algorithm based on \"edge betweenness\"."
   ]
  },
  {
   "cell_type": "code",
   "execution_count": 22,
   "metadata": {
    "colab": {},
    "colab_type": "code",
    "id": "a8q5iAjJAQpj"
   },
   "outputs": [],
   "source": [
    "sim_scores = cosine_distances(users_v,users_v)"
   ]
  },
  {
   "cell_type": "code",
   "execution_count": 23,
   "metadata": {
    "colab": {
     "base_uri": "https://localhost:8080/",
     "height": 34
    },
    "colab_type": "code",
    "id": "ayOKq5pBBGrr",
    "outputId": "4dfecf9e-45b0-41d3-9ab6-5e9a3eb950f6"
   },
   "outputs": [
    {
     "data": {
      "text/plain": [
       "(5000, 5000)"
      ]
     },
     "execution_count": 23,
     "metadata": {},
     "output_type": "execute_result"
    }
   ],
   "source": [
    "sim_scores.shape"
   ]
  },
  {
   "cell_type": "code",
   "execution_count": 24,
   "metadata": {
    "colab": {},
    "colab_type": "code",
    "id": "JevggXWq7WVo"
   },
   "outputs": [
    {
     "ename": "NameError",
     "evalue": "name 'node1_data' is not defined",
     "output_type": "error",
     "traceback": [
      "\u001b[0;31m---------------------------------------------------------------------------\u001b[0m",
      "\u001b[0;31mNameError\u001b[0m                                 Traceback (most recent call last)",
      "\u001b[0;32m<ipython-input-24-47b372b7b988>\u001b[0m in \u001b[0;36m<module>\u001b[0;34m\u001b[0m\n\u001b[0;32m----> 1\u001b[0;31m \u001b[0mnode1_data\u001b[0m\u001b[0;34m[\u001b[0m\u001b[0;36m0\u001b[0m\u001b[0;34m]\u001b[0m\u001b[0;34m\u001b[0m\u001b[0;34m\u001b[0m\u001b[0m\n\u001b[0m",
      "\u001b[0;31mNameError\u001b[0m: name 'node1_data' is not defined"
     ]
    }
   ],
   "source": [
    "#node1_data[0]"
   ]
  },
  {
   "cell_type": "code",
   "execution_count": 44,
   "metadata": {
    "colab": {},
    "colab_type": "code",
    "id": "eGDTHYS7AnM1",
    "scrolled": true
   },
   "outputs": [
    {
     "name": "stdout",
     "output_type": "stream",
     "text": [
      "0\n",
      "1\n",
      "2\n",
      "3\n",
      "4\n",
      "5\n",
      "6\n",
      "7\n",
      "8\n"
     ]
    },
    {
     "ename": "KeyboardInterrupt",
     "evalue": "",
     "output_type": "error",
     "traceback": [
      "\u001b[0;31m---------------------------------------------------------------------------\u001b[0m",
      "\u001b[0;31mKeyboardInterrupt\u001b[0m                         Traceback (most recent call last)",
      "\u001b[0;32m<ipython-input-44-d72f7d5d994a>\u001b[0m in \u001b[0;36m<module>\u001b[0;34m\u001b[0m\n\u001b[1;32m      6\u001b[0m   \u001b[0;32mfor\u001b[0m \u001b[0mj\u001b[0m \u001b[0;32min\u001b[0m \u001b[0mrange\u001b[0m\u001b[0;34m(\u001b[0m\u001b[0mi\u001b[0m\u001b[0;34m+\u001b[0m\u001b[0;36m1\u001b[0m\u001b[0;34m,\u001b[0m \u001b[0mmax_users\u001b[0m\u001b[0;34m)\u001b[0m\u001b[0;34m:\u001b[0m\u001b[0;34m\u001b[0m\u001b[0;34m\u001b[0m\u001b[0m\n\u001b[1;32m      7\u001b[0m     \u001b[0;32mif\u001b[0m \u001b[0msim_scores\u001b[0m\u001b[0;34m[\u001b[0m\u001b[0mi\u001b[0m\u001b[0;34m,\u001b[0m \u001b[0mj\u001b[0m\u001b[0;34m]\u001b[0m \u001b[0;34m>\u001b[0m \u001b[0;36m0.5\u001b[0m\u001b[0;34m:\u001b[0m\u001b[0;34m\u001b[0m\u001b[0;34m\u001b[0m\u001b[0m\n\u001b[0;32m----> 8\u001b[0;31m       \u001b[0medge_data\u001b[0m\u001b[0;34m.\u001b[0m\u001b[0mloc\u001b[0m\u001b[0;34m[\u001b[0m\u001b[0mindx\u001b[0m\u001b[0;34m,\u001b[0m \u001b[0;34m:\u001b[0m\u001b[0;34m]\u001b[0m \u001b[0;34m=\u001b[0m \u001b[0;34m[\u001b[0m\u001b[0mi\u001b[0m\u001b[0;34m,\u001b[0m \u001b[0mj\u001b[0m\u001b[0;34m,\u001b[0m \u001b[0msim_scores\u001b[0m\u001b[0;34m[\u001b[0m\u001b[0mi\u001b[0m\u001b[0;34m,\u001b[0m \u001b[0mj\u001b[0m\u001b[0;34m]\u001b[0m\u001b[0;34m]\u001b[0m\u001b[0;34m\u001b[0m\u001b[0;34m\u001b[0m\u001b[0m\n\u001b[0m\u001b[1;32m      9\u001b[0m       \u001b[0mindx\u001b[0m \u001b[0;34m+=\u001b[0m \u001b[0;36m1\u001b[0m\u001b[0;34m\u001b[0m\u001b[0;34m\u001b[0m\u001b[0m\n",
      "\u001b[0;32m/Library/Frameworks/Python.framework/Versions/3.8/lib/python3.8/site-packages/pandas/core/indexing.py\u001b[0m in \u001b[0;36m__setitem__\u001b[0;34m(self, key, value)\u001b[0m\n\u001b[1;32m    203\u001b[0m             \u001b[0mkey\u001b[0m \u001b[0;34m=\u001b[0m \u001b[0mcom\u001b[0m\u001b[0;34m.\u001b[0m\u001b[0mapply_if_callable\u001b[0m\u001b[0;34m(\u001b[0m\u001b[0mkey\u001b[0m\u001b[0;34m,\u001b[0m \u001b[0mself\u001b[0m\u001b[0;34m.\u001b[0m\u001b[0mobj\u001b[0m\u001b[0;34m)\u001b[0m\u001b[0;34m\u001b[0m\u001b[0;34m\u001b[0m\u001b[0m\n\u001b[1;32m    204\u001b[0m         \u001b[0mindexer\u001b[0m \u001b[0;34m=\u001b[0m \u001b[0mself\u001b[0m\u001b[0;34m.\u001b[0m\u001b[0m_get_setitem_indexer\u001b[0m\u001b[0;34m(\u001b[0m\u001b[0mkey\u001b[0m\u001b[0;34m)\u001b[0m\u001b[0;34m\u001b[0m\u001b[0;34m\u001b[0m\u001b[0m\n\u001b[0;32m--> 205\u001b[0;31m         \u001b[0mself\u001b[0m\u001b[0;34m.\u001b[0m\u001b[0m_setitem_with_indexer\u001b[0m\u001b[0;34m(\u001b[0m\u001b[0mindexer\u001b[0m\u001b[0;34m,\u001b[0m \u001b[0mvalue\u001b[0m\u001b[0;34m)\u001b[0m\u001b[0;34m\u001b[0m\u001b[0;34m\u001b[0m\u001b[0m\n\u001b[0m\u001b[1;32m    206\u001b[0m \u001b[0;34m\u001b[0m\u001b[0m\n\u001b[1;32m    207\u001b[0m     \u001b[0;32mdef\u001b[0m \u001b[0m_validate_key\u001b[0m\u001b[0;34m(\u001b[0m\u001b[0mself\u001b[0m\u001b[0;34m,\u001b[0m \u001b[0mkey\u001b[0m\u001b[0;34m,\u001b[0m \u001b[0maxis\u001b[0m\u001b[0;34m:\u001b[0m \u001b[0mint\u001b[0m\u001b[0;34m)\u001b[0m\u001b[0;34m:\u001b[0m\u001b[0;34m\u001b[0m\u001b[0;34m\u001b[0m\u001b[0m\n",
      "\u001b[0;32m/Library/Frameworks/Python.framework/Versions/3.8/lib/python3.8/site-packages/pandas/core/indexing.py\u001b[0m in \u001b[0;36m_setitem_with_indexer\u001b[0;34m(self, indexer, value)\u001b[0m\n\u001b[1;32m    591\u001b[0m             \u001b[0;31m# actually do the set\u001b[0m\u001b[0;34m\u001b[0m\u001b[0;34m\u001b[0m\u001b[0;34m\u001b[0m\u001b[0m\n\u001b[1;32m    592\u001b[0m             \u001b[0mself\u001b[0m\u001b[0;34m.\u001b[0m\u001b[0mobj\u001b[0m\u001b[0;34m.\u001b[0m\u001b[0m_consolidate_inplace\u001b[0m\u001b[0;34m(\u001b[0m\u001b[0;34m)\u001b[0m\u001b[0;34m\u001b[0m\u001b[0;34m\u001b[0m\u001b[0m\n\u001b[0;32m--> 593\u001b[0;31m             \u001b[0mself\u001b[0m\u001b[0;34m.\u001b[0m\u001b[0mobj\u001b[0m\u001b[0;34m.\u001b[0m\u001b[0m_data\u001b[0m \u001b[0;34m=\u001b[0m \u001b[0mself\u001b[0m\u001b[0;34m.\u001b[0m\u001b[0mobj\u001b[0m\u001b[0;34m.\u001b[0m\u001b[0m_data\u001b[0m\u001b[0;34m.\u001b[0m\u001b[0msetitem\u001b[0m\u001b[0;34m(\u001b[0m\u001b[0mindexer\u001b[0m\u001b[0;34m=\u001b[0m\u001b[0mindexer\u001b[0m\u001b[0;34m,\u001b[0m \u001b[0mvalue\u001b[0m\u001b[0;34m=\u001b[0m\u001b[0mvalue\u001b[0m\u001b[0;34m)\u001b[0m\u001b[0;34m\u001b[0m\u001b[0;34m\u001b[0m\u001b[0m\n\u001b[0m\u001b[1;32m    594\u001b[0m             \u001b[0mself\u001b[0m\u001b[0;34m.\u001b[0m\u001b[0mobj\u001b[0m\u001b[0;34m.\u001b[0m\u001b[0m_maybe_update_cacher\u001b[0m\u001b[0;34m(\u001b[0m\u001b[0mclear\u001b[0m\u001b[0;34m=\u001b[0m\u001b[0;32mTrue\u001b[0m\u001b[0;34m)\u001b[0m\u001b[0;34m\u001b[0m\u001b[0;34m\u001b[0m\u001b[0m\n\u001b[1;32m    595\u001b[0m \u001b[0;34m\u001b[0m\u001b[0m\n",
      "\u001b[0;32m/Library/Frameworks/Python.framework/Versions/3.8/lib/python3.8/site-packages/pandas/core/internals/managers.py\u001b[0m in \u001b[0;36msetitem\u001b[0;34m(self, **kwargs)\u001b[0m\n\u001b[1;32m    558\u001b[0m \u001b[0;34m\u001b[0m\u001b[0m\n\u001b[1;32m    559\u001b[0m     \u001b[0;32mdef\u001b[0m \u001b[0msetitem\u001b[0m\u001b[0;34m(\u001b[0m\u001b[0mself\u001b[0m\u001b[0;34m,\u001b[0m \u001b[0;34m**\u001b[0m\u001b[0mkwargs\u001b[0m\u001b[0;34m)\u001b[0m\u001b[0;34m:\u001b[0m\u001b[0;34m\u001b[0m\u001b[0;34m\u001b[0m\u001b[0m\n\u001b[0;32m--> 560\u001b[0;31m         \u001b[0;32mreturn\u001b[0m \u001b[0mself\u001b[0m\u001b[0;34m.\u001b[0m\u001b[0mapply\u001b[0m\u001b[0;34m(\u001b[0m\u001b[0;34m\"setitem\"\u001b[0m\u001b[0;34m,\u001b[0m \u001b[0;34m**\u001b[0m\u001b[0mkwargs\u001b[0m\u001b[0;34m)\u001b[0m\u001b[0;34m\u001b[0m\u001b[0;34m\u001b[0m\u001b[0m\n\u001b[0m\u001b[1;32m    561\u001b[0m \u001b[0;34m\u001b[0m\u001b[0m\n\u001b[1;32m    562\u001b[0m     \u001b[0;32mdef\u001b[0m \u001b[0mputmask\u001b[0m\u001b[0;34m(\u001b[0m\u001b[0mself\u001b[0m\u001b[0;34m,\u001b[0m \u001b[0;34m**\u001b[0m\u001b[0mkwargs\u001b[0m\u001b[0;34m)\u001b[0m\u001b[0;34m:\u001b[0m\u001b[0;34m\u001b[0m\u001b[0;34m\u001b[0m\u001b[0m\n",
      "\u001b[0;32m/Library/Frameworks/Python.framework/Versions/3.8/lib/python3.8/site-packages/pandas/core/internals/managers.py\u001b[0m in \u001b[0;36mapply\u001b[0;34m(self, f, axes, filter, do_integrity_check, consolidate, **kwargs)\u001b[0m\n\u001b[1;32m    436\u001b[0m                     \u001b[0mkwargs\u001b[0m\u001b[0;34m[\u001b[0m\u001b[0mk\u001b[0m\u001b[0;34m]\u001b[0m \u001b[0;34m=\u001b[0m \u001b[0mobj\u001b[0m\u001b[0;34m.\u001b[0m\u001b[0mreindex\u001b[0m\u001b[0;34m(\u001b[0m\u001b[0mb_items\u001b[0m\u001b[0;34m,\u001b[0m \u001b[0maxis\u001b[0m\u001b[0;34m=\u001b[0m\u001b[0maxis\u001b[0m\u001b[0;34m,\u001b[0m \u001b[0mcopy\u001b[0m\u001b[0;34m=\u001b[0m\u001b[0malign_copy\u001b[0m\u001b[0;34m)\u001b[0m\u001b[0;34m\u001b[0m\u001b[0;34m\u001b[0m\u001b[0m\n\u001b[1;32m    437\u001b[0m \u001b[0;34m\u001b[0m\u001b[0m\n\u001b[0;32m--> 438\u001b[0;31m             \u001b[0mapplied\u001b[0m \u001b[0;34m=\u001b[0m \u001b[0mgetattr\u001b[0m\u001b[0;34m(\u001b[0m\u001b[0mb\u001b[0m\u001b[0;34m,\u001b[0m \u001b[0mf\u001b[0m\u001b[0;34m)\u001b[0m\u001b[0;34m(\u001b[0m\u001b[0;34m**\u001b[0m\u001b[0mkwargs\u001b[0m\u001b[0;34m)\u001b[0m\u001b[0;34m\u001b[0m\u001b[0;34m\u001b[0m\u001b[0m\n\u001b[0m\u001b[1;32m    439\u001b[0m             \u001b[0mresult_blocks\u001b[0m \u001b[0;34m=\u001b[0m \u001b[0m_extend_blocks\u001b[0m\u001b[0;34m(\u001b[0m\u001b[0mapplied\u001b[0m\u001b[0;34m,\u001b[0m \u001b[0mresult_blocks\u001b[0m\u001b[0;34m)\u001b[0m\u001b[0;34m\u001b[0m\u001b[0;34m\u001b[0m\u001b[0m\n\u001b[1;32m    440\u001b[0m \u001b[0;34m\u001b[0m\u001b[0m\n",
      "\u001b[0;32m/Library/Frameworks/Python.framework/Versions/3.8/lib/python3.8/site-packages/pandas/core/internals/blocks.py\u001b[0m in \u001b[0;36msetitem\u001b[0;34m(self, indexer, value)\u001b[0m\n\u001b[1;32m    940\u001b[0m \u001b[0;34m\u001b[0m\u001b[0m\n\u001b[1;32m    941\u001b[0m         \u001b[0;31m# coerce and try to infer the dtypes of the result\u001b[0m\u001b[0;34m\u001b[0m\u001b[0;34m\u001b[0m\u001b[0;34m\u001b[0m\u001b[0m\n\u001b[0;32m--> 942\u001b[0;31m         \u001b[0mvalues\u001b[0m \u001b[0;34m=\u001b[0m \u001b[0mself\u001b[0m\u001b[0;34m.\u001b[0m\u001b[0m_try_coerce_and_cast_result\u001b[0m\u001b[0;34m(\u001b[0m\u001b[0mvalues\u001b[0m\u001b[0;34m,\u001b[0m \u001b[0mdtype\u001b[0m\u001b[0;34m)\u001b[0m\u001b[0;34m\u001b[0m\u001b[0;34m\u001b[0m\u001b[0m\n\u001b[0m\u001b[1;32m    943\u001b[0m         \u001b[0;32mif\u001b[0m \u001b[0mtranspose\u001b[0m\u001b[0;34m:\u001b[0m\u001b[0;34m\u001b[0m\u001b[0;34m\u001b[0m\u001b[0m\n\u001b[1;32m    944\u001b[0m             \u001b[0mvalues\u001b[0m \u001b[0;34m=\u001b[0m \u001b[0mvalues\u001b[0m\u001b[0;34m.\u001b[0m\u001b[0mT\u001b[0m\u001b[0;34m\u001b[0m\u001b[0;34m\u001b[0m\u001b[0m\n",
      "\u001b[0;32m/Library/Frameworks/Python.framework/Versions/3.8/lib/python3.8/site-packages/pandas/core/internals/blocks.py\u001b[0m in \u001b[0;36m_try_coerce_and_cast_result\u001b[0;34m(self, result, dtype)\u001b[0m\n\u001b[1;32m    745\u001b[0m     \u001b[0;32mdef\u001b[0m \u001b[0m_try_coerce_and_cast_result\u001b[0m\u001b[0;34m(\u001b[0m\u001b[0mself\u001b[0m\u001b[0;34m,\u001b[0m \u001b[0mresult\u001b[0m\u001b[0;34m,\u001b[0m \u001b[0mdtype\u001b[0m\u001b[0;34m=\u001b[0m\u001b[0;32mNone\u001b[0m\u001b[0;34m)\u001b[0m\u001b[0;34m:\u001b[0m\u001b[0;34m\u001b[0m\u001b[0;34m\u001b[0m\u001b[0m\n\u001b[1;32m    746\u001b[0m         \u001b[0mresult\u001b[0m \u001b[0;34m=\u001b[0m \u001b[0mself\u001b[0m\u001b[0;34m.\u001b[0m\u001b[0m_try_coerce_result\u001b[0m\u001b[0;34m(\u001b[0m\u001b[0mresult\u001b[0m\u001b[0;34m)\u001b[0m\u001b[0;34m\u001b[0m\u001b[0;34m\u001b[0m\u001b[0m\n\u001b[0;32m--> 747\u001b[0;31m         \u001b[0mresult\u001b[0m \u001b[0;34m=\u001b[0m \u001b[0mself\u001b[0m\u001b[0;34m.\u001b[0m\u001b[0m_try_cast_result\u001b[0m\u001b[0;34m(\u001b[0m\u001b[0mresult\u001b[0m\u001b[0;34m,\u001b[0m \u001b[0mdtype\u001b[0m\u001b[0;34m=\u001b[0m\u001b[0mdtype\u001b[0m\u001b[0;34m)\u001b[0m\u001b[0;34m\u001b[0m\u001b[0;34m\u001b[0m\u001b[0m\n\u001b[0m\u001b[1;32m    748\u001b[0m         \u001b[0;32mreturn\u001b[0m \u001b[0mresult\u001b[0m\u001b[0;34m\u001b[0m\u001b[0;34m\u001b[0m\u001b[0m\n\u001b[1;32m    749\u001b[0m \u001b[0;34m\u001b[0m\u001b[0m\n",
      "\u001b[0;32m/Library/Frameworks/Python.framework/Versions/3.8/lib/python3.8/site-packages/pandas/core/internals/blocks.py\u001b[0m in \u001b[0;36m_try_cast_result\u001b[0;34m(self, result, dtype)\u001b[0m\n\u001b[1;32m    708\u001b[0m \u001b[0;34m\u001b[0m\u001b[0m\n\u001b[1;32m    709\u001b[0m         \u001b[0;31m# may need to change the dtype here\u001b[0m\u001b[0;34m\u001b[0m\u001b[0;34m\u001b[0m\u001b[0;34m\u001b[0m\u001b[0m\n\u001b[0;32m--> 710\u001b[0;31m         \u001b[0;32mreturn\u001b[0m \u001b[0mmaybe_downcast_to_dtype\u001b[0m\u001b[0;34m(\u001b[0m\u001b[0mresult\u001b[0m\u001b[0;34m,\u001b[0m \u001b[0mdtype\u001b[0m\u001b[0;34m)\u001b[0m\u001b[0;34m\u001b[0m\u001b[0;34m\u001b[0m\u001b[0m\n\u001b[0m\u001b[1;32m    711\u001b[0m \u001b[0;34m\u001b[0m\u001b[0m\n\u001b[1;32m    712\u001b[0m     \u001b[0;32mdef\u001b[0m \u001b[0m_coerce_values\u001b[0m\u001b[0;34m(\u001b[0m\u001b[0mself\u001b[0m\u001b[0;34m,\u001b[0m \u001b[0mvalues\u001b[0m\u001b[0;34m)\u001b[0m\u001b[0;34m:\u001b[0m\u001b[0;34m\u001b[0m\u001b[0;34m\u001b[0m\u001b[0m\n",
      "\u001b[0;32m/Library/Frameworks/Python.framework/Versions/3.8/lib/python3.8/site-packages/pandas/core/dtypes/cast.py\u001b[0m in \u001b[0;36mmaybe_downcast_to_dtype\u001b[0;34m(result, dtype)\u001b[0m\n\u001b[1;32m    104\u001b[0m     \u001b[0;32mif\u001b[0m \u001b[0misinstance\u001b[0m\u001b[0;34m(\u001b[0m\u001b[0mdtype\u001b[0m\u001b[0;34m,\u001b[0m \u001b[0mstr\u001b[0m\u001b[0;34m)\u001b[0m\u001b[0;34m:\u001b[0m\u001b[0;34m\u001b[0m\u001b[0;34m\u001b[0m\u001b[0m\n\u001b[1;32m    105\u001b[0m         \u001b[0;32mif\u001b[0m \u001b[0mdtype\u001b[0m \u001b[0;34m==\u001b[0m \u001b[0;34m\"infer\"\u001b[0m\u001b[0;34m:\u001b[0m\u001b[0;34m\u001b[0m\u001b[0;34m\u001b[0m\u001b[0m\n\u001b[0;32m--> 106\u001b[0;31m             \u001b[0minferred_type\u001b[0m \u001b[0;34m=\u001b[0m \u001b[0mlib\u001b[0m\u001b[0;34m.\u001b[0m\u001b[0minfer_dtype\u001b[0m\u001b[0;34m(\u001b[0m\u001b[0mensure_object\u001b[0m\u001b[0;34m(\u001b[0m\u001b[0mresult\u001b[0m\u001b[0;34m.\u001b[0m\u001b[0mravel\u001b[0m\u001b[0;34m(\u001b[0m\u001b[0;34m)\u001b[0m\u001b[0;34m)\u001b[0m\u001b[0;34m,\u001b[0m \u001b[0mskipna\u001b[0m\u001b[0;34m=\u001b[0m\u001b[0;32mFalse\u001b[0m\u001b[0;34m)\u001b[0m\u001b[0;34m\u001b[0m\u001b[0;34m\u001b[0m\u001b[0m\n\u001b[0m\u001b[1;32m    107\u001b[0m             \u001b[0;32mif\u001b[0m \u001b[0minferred_type\u001b[0m \u001b[0;34m==\u001b[0m \u001b[0;34m\"boolean\"\u001b[0m\u001b[0;34m:\u001b[0m\u001b[0;34m\u001b[0m\u001b[0;34m\u001b[0m\u001b[0m\n\u001b[1;32m    108\u001b[0m                 \u001b[0mdtype\u001b[0m \u001b[0;34m=\u001b[0m \u001b[0;34m\"bool\"\u001b[0m\u001b[0;34m\u001b[0m\u001b[0;34m\u001b[0m\u001b[0m\n",
      "\u001b[0;31mKeyboardInterrupt\u001b[0m: "
     ]
    }
   ],
   "source": [
    "edge_data = pd.DataFrame(columns=['node1', 'node2', 'weight'])\n",
    "indx = 0\n",
    "\n",
    "for i in range(0, max_users):\n",
    "  print(i)\n",
    "  for j in range(i+1, max_users):\n",
    "    if sim_scores[i, j] > 0.5:\n",
    "      edge_data.loc[indx, :] = [i, j, sim_scores[i, j]]\n",
    "      indx += 1"
   ]
  },
  {
   "cell_type": "code",
   "execution_count": 43,
   "metadata": {},
   "outputs": [
    {
     "data": {
      "text/html": [
       "<div>\n",
       "<style scoped>\n",
       "    .dataframe tbody tr th:only-of-type {\n",
       "        vertical-align: middle;\n",
       "    }\n",
       "\n",
       "    .dataframe tbody tr th {\n",
       "        vertical-align: top;\n",
       "    }\n",
       "\n",
       "    .dataframe thead th {\n",
       "        text-align: right;\n",
       "    }\n",
       "</style>\n",
       "<table border=\"1\" class=\"dataframe\">\n",
       "  <thead>\n",
       "    <tr style=\"text-align: right;\">\n",
       "      <th></th>\n",
       "      <th>node1</th>\n",
       "      <th>node2</th>\n",
       "      <th>weight</th>\n",
       "      <th>(0, 1, 2)</th>\n",
       "    </tr>\n",
       "  </thead>\n",
       "  <tbody>\n",
       "    <tr>\n",
       "      <th>0</th>\n",
       "      <td>NaN</td>\n",
       "      <td>NaN</td>\n",
       "      <td>NaN</td>\n",
       "      <td>4998.000000</td>\n",
       "    </tr>\n",
       "    <tr>\n",
       "      <th>1</th>\n",
       "      <td>NaN</td>\n",
       "      <td>NaN</td>\n",
       "      <td>NaN</td>\n",
       "      <td>4999.000000</td>\n",
       "    </tr>\n",
       "    <tr>\n",
       "      <th>2</th>\n",
       "      <td>NaN</td>\n",
       "      <td>NaN</td>\n",
       "      <td>NaN</td>\n",
       "      <td>0.988971</td>\n",
       "    </tr>\n",
       "  </tbody>\n",
       "</table>\n",
       "</div>"
      ],
      "text/plain": [
       "  node1 node2 weight    (0, 1, 2)\n",
       "0   NaN   NaN    NaN  4998.000000\n",
       "1   NaN   NaN    NaN  4999.000000\n",
       "2   NaN   NaN    NaN     0.988971"
      ]
     },
     "execution_count": 43,
     "metadata": {},
     "output_type": "execute_result"
    }
   ],
   "source": [
    "edge_data.head()"
   ]
  },
  {
   "cell_type": "code",
   "execution_count": 42,
   "metadata": {
    "colab": {},
    "colab_type": "code",
    "id": "WjX7ccniFlcA"
   },
   "outputs": [
    {
     "ename": "ValueError",
     "evalue": "cannot convert float NaN to integer",
     "output_type": "error",
     "traceback": [
      "\u001b[0;31m---------------------------------------------------------------------------\u001b[0m",
      "\u001b[0;31mValueError\u001b[0m                                Traceback (most recent call last)",
      "\u001b[0;32m<ipython-input-42-c2b2ad4fc425>\u001b[0m in \u001b[0;36m<module>\u001b[0;34m\u001b[0m\n\u001b[0;32m----> 1\u001b[0;31m \u001b[0medge_data\u001b[0m\u001b[0;34m[\u001b[0m\u001b[0;34m'node1'\u001b[0m\u001b[0;34m]\u001b[0m \u001b[0;34m=\u001b[0m \u001b[0medge_data\u001b[0m\u001b[0;34m[\u001b[0m\u001b[0;34m'node1'\u001b[0m\u001b[0;34m]\u001b[0m\u001b[0;34m.\u001b[0m\u001b[0mastype\u001b[0m\u001b[0;34m(\u001b[0m\u001b[0;34m'int32'\u001b[0m\u001b[0;34m)\u001b[0m\u001b[0;34m\u001b[0m\u001b[0;34m\u001b[0m\u001b[0m\n\u001b[0m\u001b[1;32m      2\u001b[0m \u001b[0medge_data\u001b[0m\u001b[0;34m[\u001b[0m\u001b[0;34m'node2'\u001b[0m\u001b[0;34m]\u001b[0m \u001b[0;34m=\u001b[0m \u001b[0medge_data\u001b[0m\u001b[0;34m[\u001b[0m\u001b[0;34m'node2'\u001b[0m\u001b[0;34m]\u001b[0m\u001b[0;34m.\u001b[0m\u001b[0mastype\u001b[0m\u001b[0;34m(\u001b[0m\u001b[0;34m'int32'\u001b[0m\u001b[0;34m)\u001b[0m\u001b[0;34m\u001b[0m\u001b[0;34m\u001b[0m\u001b[0m\n",
      "\u001b[0;32m/Library/Frameworks/Python.framework/Versions/3.8/lib/python3.8/site-packages/pandas/core/generic.py\u001b[0m in \u001b[0;36mastype\u001b[0;34m(self, dtype, copy, errors, **kwargs)\u001b[0m\n\u001b[1;32m   5879\u001b[0m         \u001b[0;32melse\u001b[0m\u001b[0;34m:\u001b[0m\u001b[0;34m\u001b[0m\u001b[0;34m\u001b[0m\u001b[0m\n\u001b[1;32m   5880\u001b[0m             \u001b[0;31m# else, only a single dtype is given\u001b[0m\u001b[0;34m\u001b[0m\u001b[0;34m\u001b[0m\u001b[0;34m\u001b[0m\u001b[0m\n\u001b[0;32m-> 5881\u001b[0;31m             new_data = self._data.astype(\n\u001b[0m\u001b[1;32m   5882\u001b[0m                 \u001b[0mdtype\u001b[0m\u001b[0;34m=\u001b[0m\u001b[0mdtype\u001b[0m\u001b[0;34m,\u001b[0m \u001b[0mcopy\u001b[0m\u001b[0;34m=\u001b[0m\u001b[0mcopy\u001b[0m\u001b[0;34m,\u001b[0m \u001b[0merrors\u001b[0m\u001b[0;34m=\u001b[0m\u001b[0merrors\u001b[0m\u001b[0;34m,\u001b[0m \u001b[0;34m**\u001b[0m\u001b[0mkwargs\u001b[0m\u001b[0;34m\u001b[0m\u001b[0;34m\u001b[0m\u001b[0m\n\u001b[1;32m   5883\u001b[0m             )\n",
      "\u001b[0;32m/Library/Frameworks/Python.framework/Versions/3.8/lib/python3.8/site-packages/pandas/core/internals/managers.py\u001b[0m in \u001b[0;36mastype\u001b[0;34m(self, dtype, **kwargs)\u001b[0m\n\u001b[1;32m    579\u001b[0m \u001b[0;34m\u001b[0m\u001b[0m\n\u001b[1;32m    580\u001b[0m     \u001b[0;32mdef\u001b[0m \u001b[0mastype\u001b[0m\u001b[0;34m(\u001b[0m\u001b[0mself\u001b[0m\u001b[0;34m,\u001b[0m \u001b[0mdtype\u001b[0m\u001b[0;34m,\u001b[0m \u001b[0;34m**\u001b[0m\u001b[0mkwargs\u001b[0m\u001b[0;34m)\u001b[0m\u001b[0;34m:\u001b[0m\u001b[0;34m\u001b[0m\u001b[0;34m\u001b[0m\u001b[0m\n\u001b[0;32m--> 581\u001b[0;31m         \u001b[0;32mreturn\u001b[0m \u001b[0mself\u001b[0m\u001b[0;34m.\u001b[0m\u001b[0mapply\u001b[0m\u001b[0;34m(\u001b[0m\u001b[0;34m\"astype\"\u001b[0m\u001b[0;34m,\u001b[0m \u001b[0mdtype\u001b[0m\u001b[0;34m=\u001b[0m\u001b[0mdtype\u001b[0m\u001b[0;34m,\u001b[0m \u001b[0;34m**\u001b[0m\u001b[0mkwargs\u001b[0m\u001b[0;34m)\u001b[0m\u001b[0;34m\u001b[0m\u001b[0;34m\u001b[0m\u001b[0m\n\u001b[0m\u001b[1;32m    582\u001b[0m \u001b[0;34m\u001b[0m\u001b[0m\n\u001b[1;32m    583\u001b[0m     \u001b[0;32mdef\u001b[0m \u001b[0mconvert\u001b[0m\u001b[0;34m(\u001b[0m\u001b[0mself\u001b[0m\u001b[0;34m,\u001b[0m \u001b[0;34m**\u001b[0m\u001b[0mkwargs\u001b[0m\u001b[0;34m)\u001b[0m\u001b[0;34m:\u001b[0m\u001b[0;34m\u001b[0m\u001b[0;34m\u001b[0m\u001b[0m\n",
      "\u001b[0;32m/Library/Frameworks/Python.framework/Versions/3.8/lib/python3.8/site-packages/pandas/core/internals/managers.py\u001b[0m in \u001b[0;36mapply\u001b[0;34m(self, f, axes, filter, do_integrity_check, consolidate, **kwargs)\u001b[0m\n\u001b[1;32m    436\u001b[0m                     \u001b[0mkwargs\u001b[0m\u001b[0;34m[\u001b[0m\u001b[0mk\u001b[0m\u001b[0;34m]\u001b[0m \u001b[0;34m=\u001b[0m \u001b[0mobj\u001b[0m\u001b[0;34m.\u001b[0m\u001b[0mreindex\u001b[0m\u001b[0;34m(\u001b[0m\u001b[0mb_items\u001b[0m\u001b[0;34m,\u001b[0m \u001b[0maxis\u001b[0m\u001b[0;34m=\u001b[0m\u001b[0maxis\u001b[0m\u001b[0;34m,\u001b[0m \u001b[0mcopy\u001b[0m\u001b[0;34m=\u001b[0m\u001b[0malign_copy\u001b[0m\u001b[0;34m)\u001b[0m\u001b[0;34m\u001b[0m\u001b[0;34m\u001b[0m\u001b[0m\n\u001b[1;32m    437\u001b[0m \u001b[0;34m\u001b[0m\u001b[0m\n\u001b[0;32m--> 438\u001b[0;31m             \u001b[0mapplied\u001b[0m \u001b[0;34m=\u001b[0m \u001b[0mgetattr\u001b[0m\u001b[0;34m(\u001b[0m\u001b[0mb\u001b[0m\u001b[0;34m,\u001b[0m \u001b[0mf\u001b[0m\u001b[0;34m)\u001b[0m\u001b[0;34m(\u001b[0m\u001b[0;34m**\u001b[0m\u001b[0mkwargs\u001b[0m\u001b[0;34m)\u001b[0m\u001b[0;34m\u001b[0m\u001b[0;34m\u001b[0m\u001b[0m\n\u001b[0m\u001b[1;32m    439\u001b[0m             \u001b[0mresult_blocks\u001b[0m \u001b[0;34m=\u001b[0m \u001b[0m_extend_blocks\u001b[0m\u001b[0;34m(\u001b[0m\u001b[0mapplied\u001b[0m\u001b[0;34m,\u001b[0m \u001b[0mresult_blocks\u001b[0m\u001b[0;34m)\u001b[0m\u001b[0;34m\u001b[0m\u001b[0;34m\u001b[0m\u001b[0m\n\u001b[1;32m    440\u001b[0m \u001b[0;34m\u001b[0m\u001b[0m\n",
      "\u001b[0;32m/Library/Frameworks/Python.framework/Versions/3.8/lib/python3.8/site-packages/pandas/core/internals/blocks.py\u001b[0m in \u001b[0;36mastype\u001b[0;34m(self, dtype, copy, errors, values, **kwargs)\u001b[0m\n\u001b[1;32m    557\u001b[0m \u001b[0;34m\u001b[0m\u001b[0m\n\u001b[1;32m    558\u001b[0m     \u001b[0;32mdef\u001b[0m \u001b[0mastype\u001b[0m\u001b[0;34m(\u001b[0m\u001b[0mself\u001b[0m\u001b[0;34m,\u001b[0m \u001b[0mdtype\u001b[0m\u001b[0;34m,\u001b[0m \u001b[0mcopy\u001b[0m\u001b[0;34m=\u001b[0m\u001b[0;32mFalse\u001b[0m\u001b[0;34m,\u001b[0m \u001b[0merrors\u001b[0m\u001b[0;34m=\u001b[0m\u001b[0;34m\"raise\"\u001b[0m\u001b[0;34m,\u001b[0m \u001b[0mvalues\u001b[0m\u001b[0;34m=\u001b[0m\u001b[0;32mNone\u001b[0m\u001b[0;34m,\u001b[0m \u001b[0;34m**\u001b[0m\u001b[0mkwargs\u001b[0m\u001b[0;34m)\u001b[0m\u001b[0;34m:\u001b[0m\u001b[0;34m\u001b[0m\u001b[0;34m\u001b[0m\u001b[0m\n\u001b[0;32m--> 559\u001b[0;31m         \u001b[0;32mreturn\u001b[0m \u001b[0mself\u001b[0m\u001b[0;34m.\u001b[0m\u001b[0m_astype\u001b[0m\u001b[0;34m(\u001b[0m\u001b[0mdtype\u001b[0m\u001b[0;34m,\u001b[0m \u001b[0mcopy\u001b[0m\u001b[0;34m=\u001b[0m\u001b[0mcopy\u001b[0m\u001b[0;34m,\u001b[0m \u001b[0merrors\u001b[0m\u001b[0;34m=\u001b[0m\u001b[0merrors\u001b[0m\u001b[0;34m,\u001b[0m \u001b[0mvalues\u001b[0m\u001b[0;34m=\u001b[0m\u001b[0mvalues\u001b[0m\u001b[0;34m,\u001b[0m \u001b[0;34m**\u001b[0m\u001b[0mkwargs\u001b[0m\u001b[0;34m)\u001b[0m\u001b[0;34m\u001b[0m\u001b[0;34m\u001b[0m\u001b[0m\n\u001b[0m\u001b[1;32m    560\u001b[0m \u001b[0;34m\u001b[0m\u001b[0m\n\u001b[1;32m    561\u001b[0m     \u001b[0;32mdef\u001b[0m \u001b[0m_astype\u001b[0m\u001b[0;34m(\u001b[0m\u001b[0mself\u001b[0m\u001b[0;34m,\u001b[0m \u001b[0mdtype\u001b[0m\u001b[0;34m,\u001b[0m \u001b[0mcopy\u001b[0m\u001b[0;34m=\u001b[0m\u001b[0;32mFalse\u001b[0m\u001b[0;34m,\u001b[0m \u001b[0merrors\u001b[0m\u001b[0;34m=\u001b[0m\u001b[0;34m\"raise\"\u001b[0m\u001b[0;34m,\u001b[0m \u001b[0mvalues\u001b[0m\u001b[0;34m=\u001b[0m\u001b[0;32mNone\u001b[0m\u001b[0;34m,\u001b[0m \u001b[0;34m**\u001b[0m\u001b[0mkwargs\u001b[0m\u001b[0;34m)\u001b[0m\u001b[0;34m:\u001b[0m\u001b[0;34m\u001b[0m\u001b[0;34m\u001b[0m\u001b[0m\n",
      "\u001b[0;32m/Library/Frameworks/Python.framework/Versions/3.8/lib/python3.8/site-packages/pandas/core/internals/blocks.py\u001b[0m in \u001b[0;36m_astype\u001b[0;34m(self, dtype, copy, errors, values, **kwargs)\u001b[0m\n\u001b[1;32m    641\u001b[0m                     \u001b[0;31m# _astype_nansafe works fine with 1-d only\u001b[0m\u001b[0;34m\u001b[0m\u001b[0;34m\u001b[0m\u001b[0;34m\u001b[0m\u001b[0m\n\u001b[1;32m    642\u001b[0m                     \u001b[0mvals1d\u001b[0m \u001b[0;34m=\u001b[0m \u001b[0mvalues\u001b[0m\u001b[0;34m.\u001b[0m\u001b[0mravel\u001b[0m\u001b[0;34m(\u001b[0m\u001b[0;34m)\u001b[0m\u001b[0;34m\u001b[0m\u001b[0;34m\u001b[0m\u001b[0m\n\u001b[0;32m--> 643\u001b[0;31m                     \u001b[0mvalues\u001b[0m \u001b[0;34m=\u001b[0m \u001b[0mastype_nansafe\u001b[0m\u001b[0;34m(\u001b[0m\u001b[0mvals1d\u001b[0m\u001b[0;34m,\u001b[0m \u001b[0mdtype\u001b[0m\u001b[0;34m,\u001b[0m \u001b[0mcopy\u001b[0m\u001b[0;34m=\u001b[0m\u001b[0;32mTrue\u001b[0m\u001b[0;34m,\u001b[0m \u001b[0;34m**\u001b[0m\u001b[0mkwargs\u001b[0m\u001b[0;34m)\u001b[0m\u001b[0;34m\u001b[0m\u001b[0;34m\u001b[0m\u001b[0m\n\u001b[0m\u001b[1;32m    644\u001b[0m \u001b[0;34m\u001b[0m\u001b[0m\n\u001b[1;32m    645\u001b[0m                 \u001b[0;31m# TODO(extension)\u001b[0m\u001b[0;34m\u001b[0m\u001b[0;34m\u001b[0m\u001b[0;34m\u001b[0m\u001b[0m\n",
      "\u001b[0;32m/Library/Frameworks/Python.framework/Versions/3.8/lib/python3.8/site-packages/pandas/core/dtypes/cast.py\u001b[0m in \u001b[0;36mastype_nansafe\u001b[0;34m(arr, dtype, copy, skipna)\u001b[0m\n\u001b[1;32m    705\u001b[0m         \u001b[0;31m# work around NumPy brokenness, #1987\u001b[0m\u001b[0;34m\u001b[0m\u001b[0;34m\u001b[0m\u001b[0;34m\u001b[0m\u001b[0m\n\u001b[1;32m    706\u001b[0m         \u001b[0;32mif\u001b[0m \u001b[0mnp\u001b[0m\u001b[0;34m.\u001b[0m\u001b[0missubdtype\u001b[0m\u001b[0;34m(\u001b[0m\u001b[0mdtype\u001b[0m\u001b[0;34m.\u001b[0m\u001b[0mtype\u001b[0m\u001b[0;34m,\u001b[0m \u001b[0mnp\u001b[0m\u001b[0;34m.\u001b[0m\u001b[0minteger\u001b[0m\u001b[0;34m)\u001b[0m\u001b[0;34m:\u001b[0m\u001b[0;34m\u001b[0m\u001b[0;34m\u001b[0m\u001b[0m\n\u001b[0;32m--> 707\u001b[0;31m             \u001b[0;32mreturn\u001b[0m \u001b[0mlib\u001b[0m\u001b[0;34m.\u001b[0m\u001b[0mastype_intsafe\u001b[0m\u001b[0;34m(\u001b[0m\u001b[0marr\u001b[0m\u001b[0;34m.\u001b[0m\u001b[0mravel\u001b[0m\u001b[0;34m(\u001b[0m\u001b[0;34m)\u001b[0m\u001b[0;34m,\u001b[0m \u001b[0mdtype\u001b[0m\u001b[0;34m)\u001b[0m\u001b[0;34m.\u001b[0m\u001b[0mreshape\u001b[0m\u001b[0;34m(\u001b[0m\u001b[0marr\u001b[0m\u001b[0;34m.\u001b[0m\u001b[0mshape\u001b[0m\u001b[0;34m)\u001b[0m\u001b[0;34m\u001b[0m\u001b[0;34m\u001b[0m\u001b[0m\n\u001b[0m\u001b[1;32m    708\u001b[0m \u001b[0;34m\u001b[0m\u001b[0m\n\u001b[1;32m    709\u001b[0m         \u001b[0;31m# if we have a datetime/timedelta array of objects\u001b[0m\u001b[0;34m\u001b[0m\u001b[0;34m\u001b[0m\u001b[0;34m\u001b[0m\u001b[0m\n",
      "\u001b[0;32mpandas/_libs/lib.pyx\u001b[0m in \u001b[0;36mpandas._libs.lib.astype_intsafe\u001b[0;34m()\u001b[0m\n",
      "\u001b[0;31mValueError\u001b[0m: cannot convert float NaN to integer"
     ]
    }
   ],
   "source": [
    "edge_data['node1'] = edge_data['node1'].astype('int32')\n",
    "edge_data['node2'] = edge_data['node2'].astype('int32')"
   ]
  },
  {
   "cell_type": "code",
   "execution_count": 36,
   "metadata": {
    "colab": {},
    "colab_type": "code",
    "id": "0ZrrpwU4E2XH"
   },
   "outputs": [],
   "source": [
    "graph_file = 'edge_data.csv'"
   ]
  },
  {
   "cell_type": "code",
   "execution_count": null,
   "metadata": {},
   "outputs": [],
   "source": []
  },
  {
   "cell_type": "code",
   "execution_count": 37,
   "metadata": {
    "colab": {},
    "colab_type": "code",
    "id": "pY9NhMmPE6Dz"
   },
   "outputs": [],
   "source": [
    "edge_data.to_csv(graph_file, sep='\\t', header=False, index=False)"
   ]
  },
  {
   "cell_type": "code",
   "execution_count": 38,
   "metadata": {
    "colab": {},
    "colab_type": "code",
    "id": "vsLLbMEYFKc7"
   },
   "outputs": [],
   "source": [
    "G = nx.Graph()\n",
    "reader = csv.reader(open(graph_file), delimiter='\\t')\n",
    "for line in reader:\n",
    "  if len(line) > 2:\n",
    "    if float(line[2]) != 0.0:\n",
    "      #line format: u,v,w\n",
    "       G.add_edge(int(line[0]),int(line[1]),weight=float(line[2]))\n",
    "    else:\n",
    "      #line format: u,v\n",
    "      G.add_edge(int(line[0]),int(line[1]),weight=1.0)"
   ]
  },
  {
   "cell_type": "code",
   "execution_count": 39,
   "metadata": {
    "colab": {
     "base_uri": "https://localhost:8080/",
     "height": 70
    },
    "colab_type": "code",
    "id": "qwb_0KXCFPIl",
    "outputId": "7de238aa-eab5-43fb-f2cf-d07030a255af"
   },
   "outputs": [
    {
     "name": "stdout",
     "output_type": "stream",
     "text": [
      "G nodes: []\n",
      "G no of nodes: 0\n"
     ]
    }
   ],
   "source": [
    "print('G nodes:', G.nodes())\n",
    "print('G no of nodes:', G.number_of_nodes())"
   ]
  },
  {
   "cell_type": "code",
   "execution_count": 0,
   "metadata": {
    "colab": {},
    "colab_type": "code",
    "id": "K3f8xuTDGcN2"
   },
   "outputs": [],
   "source": [
    "n = G.number_of_nodes()\n",
    "A = nx.adj_matrix(G)"
   ]
  },
  {
   "cell_type": "code",
   "execution_count": 55,
   "metadata": {
    "colab": {
     "base_uri": "https://localhost:8080/",
     "height": 34
    },
    "colab_type": "code",
    "id": "HuDCDpnTGj1W",
    "outputId": "59209e42-ab0e-4bc4-cba5-61557db7abef"
   },
   "outputs": [
    {
     "name": "stdout",
     "output_type": "stream",
     "text": [
      "m: 1122.0\n"
     ]
    }
   ],
   "source": [
    "m_ = 0.0    #the weighted version for number of edges\n",
    "for i in range(0,n):\n",
    "  for j in range(0,n):\n",
    "     m_ += A[i,j]\n",
    "m_ = m_/2.0\n",
    "\n",
    "print(\"m:\", m_)"
   ]
  },
  {
   "cell_type": "code",
   "execution_count": 0,
   "metadata": {
    "colab": {},
    "colab_type": "code",
    "id": "S6Lqx4ZYGmR9"
   },
   "outputs": [],
   "source": [
    "#calculate the weighted degree for each node\n",
    "Orig_deg = {}\n",
    "deg_dict = {}\n",
    "nodes = G.nodes()\n",
    "n = len(nodes)  #len(A) ---> some ppl get issues when trying len() on sparse matrixes!\n",
    "B = A.sum(axis = 1)\n",
    "i = 0\n",
    "for node_id in list(nodes):\n",
    "  deg_dict[node_id] = B[i, 0]\n",
    "  i += 1\n",
    "Orig_deg = deg_dict"
   ]
  },
  {
   "cell_type": "code",
   "execution_count": 0,
   "metadata": {
    "colab": {},
    "colab_type": "code",
    "id": "MirGe79eNVp8"
   },
   "outputs": [],
   "source": [
    "# This method keeps removing edges from Graph until one of the connected components of Graph splits into two\n",
    "# compute the edge betweenness\n",
    "def CmtyGirvanNewmanStep(G):\n",
    "    print(\"Running CmtyGirvanNewmanStep method ...\")\n",
    "    init_ncomp = nx.number_connected_components(G)    #no of components\n",
    "    ncomp = init_ncomp\n",
    "    while ncomp <= init_ncomp:\n",
    "        bw = nx.edge_betweenness_centrality(G, weight='weight')    #edge betweenness for G\n",
    "        #find the edge with max centrality\n",
    "        max_ = max(bw.values())\n",
    "        #find the edge with the highest centrality and remove all of them if there is more than one!\n",
    "        for k, v in bw.items():\n",
    "            if float(v) == max_:\n",
    "                G.remove_edge(k[0],k[1])    #remove the central edge\n",
    "        ncomp = nx.number_connected_components(G)    #recalculate the no of components\n",
    "\n",
    "\n",
    "# This method compute the modularity of current split\n",
    "def _GirvanNewmanGetModularity(G, deg_, m_):\n",
    "    New_A = nx.adj_matrix(G)\n",
    "    New_deg = {}\n",
    "    New_deg = UpdateDeg(New_A, G.nodes())\n",
    "    #Let's compute the Q\n",
    "    comps = nx.connected_components(G)    #list of components    \n",
    "    print('No of communities in decomposed G:', nx.number_connected_components(G))\n",
    "    Mod = 0    #Modularity of a given partitionning\n",
    "    for c in comps:\n",
    "        EWC = 0    #no of edges within a community\n",
    "        RE = 0    #no of random edges\n",
    "        for u in c:\n",
    "            EWC += New_deg[u]\n",
    "            RE += deg_[u]        #count the probability of a random edge\n",
    "        Mod += ( float(EWC) - float(RE*RE)/float(2*m_) )\n",
    "    Mod = Mod/float(2*m_)\n",
    "    print(\"Modularity:\", Mod)\n",
    "    return Mod\n",
    "\n",
    "def UpdateDeg(A, nodes):\n",
    "    deg_dict = {}\n",
    "    n = len(nodes)  #len(A) ---> some ppl get issues when trying len() on sparse matrixes!\n",
    "    B = A.sum(axis = 1)\n",
    "    i = 0\n",
    "    for node_id in list(nodes):\n",
    "        deg_dict[node_id] = B[i, 0]\n",
    "        i += 1\n",
    "    return deg_dict"
   ]
  },
  {
   "cell_type": "code",
   "execution_count": 58,
   "metadata": {
    "colab": {
     "base_uri": "https://localhost:8080/",
     "height": 1000
    },
    "colab_type": "code",
    "id": "gduek1AvKLFI",
    "outputId": "eeedf819-6fbd-45ae-8dcf-a4aae7fed06a"
   },
   "outputs": [
    {
     "name": "stdout",
     "output_type": "stream",
     "text": [
      "Running CmtyGirvanNewmanStep method ...\n",
      "No of communities in decomposed G: 23\n",
      "Modularity: 0.09433792152414358\n",
      "Modularity of decomposed G: 0.09433792152414358\n",
      "Components: [{13825, 7170, 14851, 2563, 3598, 16, 17, 4629, 3095, 23105, 7709, 9760, 8226, 18467, 10274, 7207, 42, 17964, 19501, 6705, 11825, 4660, 5694, 16960, 5696, 65, 1091, 10817, 3653, 4677, 6215, 5703, 4673, 2628, 5711, 9807, 6226, 11347, 597, 7256, 2653, 15976, 13417, 15465, 20590, 110, 12911, 7790, 9842, 20083, 6258, 5239, 5242, 3706, 5755, 17021, 13439, 1153, 2690, 11907, 2692, 6282, 16012, 10895, 23183, 23698, 2710, 11927, 15000, 666, 9372, 4254, 16544, 163, 12456, 7849, 170, 8874, 7856, 9908, 14006, 9400, 11965, 16061, 2239, 13507, 4805, 4806, 3786, 13003, 7370, 4301, 2766, 11471, 5840, 8401, 20178, 6354, 8914, 213, 3286, 7895, 13014, 17626, 6875, 23772, 7903, 1247, 4321, 2279, 18157, 13550, 1775, 17652, 7413, 758, 8442, 20219, 12541, 1279, 1281, 8450, 5893, 2310, 268, 4366, 17167, 6416, 15122, 2834, 3862, 22295, 10009, 19738, 285, 1309, 16674, 2349, 13614, 12591, 2865, 17715, 11059, 3380, 7482, 18750, 6985, 10058, 15179, 5452, 6989, 12622, 11599, 4944, 853, 13656, 15193, 23897, 9567, 6496, 12127, 7524, 357, 3435, 11627, 14699, 5998, 879, 12652, 881, 3441, 3450, 891, 5500, 8059, 11646, 7041, 11137, 4483, 386, 12172, 1937, 3473, 1427, 18324, 1945, 20379, 18334, 6048, 12192, 21922, 4514, 1952, 5543, 11689, 1963, 9136, 9649, 17329, 3511, 1468, 10684, 8642, 6595, 12741, 22985, 13258, 3028, 16341, 10197, 7127, 4568, 2521, 988, 10206, 15842, 2026, 2543, 10224, 19440, 6644, 6135, 11775}, {10150, 7847, 19916, 2576, 945, 5201, 16184, 4345, 9020, 8574}, {1120, 13239}, {2856, 12049}, {3857, 24478}, {12554, 4061}, {4202, 20131}, {9697, 4238}, {5104, 8408}, {24704, 7179}, {8541, 12742}, {9538, 8548}, {9064, 17978}, {9209, 11633}, {9216, 18579}, {16211, 9614}, {19316, 9812}, {14032, 10107}, {13377, 18382}, {23394, 13975}, {16352, 24312}, {23237, 17453}, {20934, 17958}]\n",
      "Running CmtyGirvanNewmanStep method ...\n",
      "No of communities in decomposed G: 24\n",
      "Modularity: 0.4865233810263695\n",
      "Modularity of decomposed G: 0.4865233810263695\n",
      "Components: [{13825, 7170, 14851, 2563, 3598, 16, 3095, 7709, 8226, 18467, 7207, 42, 17964, 6705, 5694, 16960, 6215, 5703, 5711, 2653, 13417, 20590, 110, 12911, 9842, 5239, 5242, 3706, 5755, 13439, 1153, 6282, 10895, 23183, 23698, 11927, 666, 9372, 4254, 163, 170, 7856, 9908, 9400, 11965, 4805, 4806, 3786, 4301, 2766, 11471, 8401, 20178, 6354, 8914, 213, 3286, 7895, 13014, 6875, 23772, 7903, 4321, 1775, 758, 8442, 20219, 8450, 5893, 268, 4366, 6416, 15122, 2834, 3862, 22295, 10009, 19738, 12591, 11059, 10058, 15179, 5452, 12622, 11599, 13656, 15193, 23897, 9567, 6496, 12127, 7524, 3435, 5998, 879, 881, 891, 5500, 4483, 12172, 18324, 20379, 6048, 12192, 21922, 4514, 5543, 11689, 9649, 17329, 3511, 1468, 8642, 12741, 22985, 13258, 16341, 10197, 7127, 2543, 10224, 19440, 11775}, {17, 4629, 9760, 10274, 19501, 11825, 4660, 5696, 65, 10817, 1091, 2628, 3653, 4673, 4677, 23105, 9807, 6226, 11347, 597, 7256, 15976, 15465, 7790, 6258, 20083, 17021, 2690, 11907, 2692, 16012, 2710, 15000, 16544, 12456, 7849, 8874, 14006, 16061, 2239, 13507, 7370, 13003, 5840, 17626, 1247, 2279, 18157, 13550, 17652, 7413, 12541, 1279, 1281, 2310, 17167, 285, 1309, 16674, 2349, 13614, 2865, 17715, 3380, 7482, 18750, 6985, 6989, 4944, 853, 357, 14699, 11627, 12652, 3441, 3450, 8059, 11646, 7041, 386, 11137, 1937, 3473, 1427, 1945, 18334, 1952, 1963, 9136, 10684, 6595, 3028, 4568, 2521, 988, 10206, 15842, 2026, 6644, 6135}, {10150, 7847, 19916, 2576, 945, 5201, 16184, 4345, 9020, 8574}, {1120, 13239}, {2856, 12049}, {3857, 24478}, {12554, 4061}, {4202, 20131}, {9697, 4238}, {5104, 8408}, {24704, 7179}, {8541, 12742}, {9538, 8548}, {9064, 17978}, {9209, 11633}, {9216, 18579}, {16211, 9614}, {19316, 9812}, {14032, 10107}, {13377, 18382}, {23394, 13975}, {16352, 24312}, {23237, 17453}, {20934, 17958}]\n",
      "Running CmtyGirvanNewmanStep method ...\n",
      "No of communities in decomposed G: 25\n",
      "Modularity: 0.4903672617969567\n",
      "Modularity of decomposed G: 0.4903672617969567\n",
      "Components: [{13825, 7170, 14851, 2563, 3598, 16, 3095, 7709, 8226, 18467, 7207, 42, 17964, 6705, 5694, 16960, 6215, 5703, 5711, 2653, 13417, 20590, 110, 12911, 9842, 5239, 5242, 3706, 5755, 13439, 1153, 6282, 10895, 23183, 23698, 11927, 666, 9372, 4254, 163, 170, 7856, 9908, 9400, 11965, 4805, 4806, 3786, 4301, 2766, 11471, 8401, 20178, 6354, 8914, 213, 13014, 7895, 6875, 23772, 7903, 4321, 1775, 758, 8442, 20219, 5893, 4366, 15122, 2834, 3862, 22295, 10009, 19738, 12591, 11059, 10058, 15179, 5452, 11599, 15193, 23897, 9567, 6496, 12127, 7524, 3435, 5998, 879, 881, 891, 5500, 4483, 12172, 18324, 20379, 6048, 12192, 21922, 4514, 5543, 11689, 9649, 17329, 1468, 8642, 12741, 22985, 13258, 16341, 10197, 7127, 10224, 19440}, {17, 4629, 9760, 10274, 19501, 11825, 4660, 5696, 65, 10817, 1091, 2628, 3653, 4673, 4677, 23105, 9807, 6226, 11347, 597, 7256, 15976, 15465, 7790, 6258, 20083, 17021, 2690, 11907, 2692, 16012, 2710, 15000, 16544, 12456, 7849, 8874, 14006, 16061, 2239, 13507, 7370, 13003, 5840, 17626, 1247, 2279, 18157, 13550, 17652, 7413, 12541, 1279, 1281, 2310, 17167, 285, 1309, 16674, 2349, 13614, 2865, 17715, 3380, 7482, 18750, 6985, 6989, 4944, 853, 357, 14699, 11627, 12652, 3441, 3450, 8059, 11646, 7041, 386, 11137, 1937, 3473, 1427, 1945, 18334, 1952, 1963, 9136, 10684, 6595, 3028, 4568, 2521, 988, 10206, 15842, 2026, 6644, 6135}, {8450, 268, 12622, 2543, 6416, 3286, 3511, 13656, 11775}, {10150, 7847, 19916, 2576, 945, 5201, 16184, 4345, 9020, 8574}, {1120, 13239}, {2856, 12049}, {3857, 24478}, {12554, 4061}, {4202, 20131}, {9697, 4238}, {5104, 8408}, {24704, 7179}, {8541, 12742}, {9538, 8548}, {9064, 17978}, {9209, 11633}, {9216, 18579}, {16211, 9614}, {19316, 9812}, {14032, 10107}, {13377, 18382}, {23394, 13975}, {16352, 24312}, {23237, 17453}, {20934, 17958}]\n",
      "Running CmtyGirvanNewmanStep method ...\n",
      "No of communities in decomposed G: 26\n",
      "Modularity: 0.49897488569240694\n",
      "Modularity of decomposed G: 0.49897488569240694\n",
      "Components: [{13825, 7170, 14851, 2563, 3598, 16, 3095, 7709, 8226, 18467, 7207, 42, 17964, 6705, 5694, 16960, 6215, 5703, 5711, 2653, 13417, 20590, 110, 12911, 9842, 5239, 5242, 3706, 5755, 13439, 1153, 6282, 10895, 23183, 23698, 11927, 666, 9372, 4254, 163, 170, 7856, 9908, 9400, 11965, 4805, 4806, 3786, 4301, 2766, 11471, 8401, 20178, 6354, 8914, 213, 13014, 7895, 6875, 23772, 7903, 4321, 1775, 758, 8442, 20219, 5893, 4366, 15122, 2834, 3862, 22295, 10009, 19738, 12591, 11059, 10058, 15179, 5452, 11599, 15193, 23897, 9567, 6496, 12127, 7524, 3435, 5998, 879, 881, 891, 5500, 4483, 12172, 18324, 20379, 6048, 12192, 21922, 4514, 5543, 11689, 9649, 17329, 1468, 8642, 12741, 22985, 13258, 16341, 10197, 7127, 10224, 19440}, {17, 4629, 10274, 19501, 11825, 4660, 5696, 65, 10817, 1091, 2628, 3653, 4673, 4677, 23105, 9807, 6226, 11347, 597, 7256, 15976, 15465, 7790, 6258, 20083, 17021, 2690, 2692, 2710, 15000, 16544, 12456, 7849, 8874, 14006, 16061, 2239, 13507, 7370, 13003, 5840, 17626, 1247, 2279, 18157, 13550, 7413, 12541, 1279, 1281, 17167, 285, 1309, 16674, 2349, 13614, 2865, 17715, 3380, 7482, 18750, 6985, 6989, 4944, 853, 357, 14699, 12652, 3441, 3450, 8059, 11646, 7041, 386, 11137, 1937, 3473, 1427, 1945, 18334, 1952, 1963, 9136, 10684, 6595, 3028, 4568, 2521, 988, 10206, 15842, 2026, 6644, 6135}, {8450, 268, 12622, 2543, 6416, 3286, 3511, 13656, 11775}, {10150, 7847, 19916, 2576, 945, 5201, 16184, 4345, 9020, 8574}, {9760, 11907, 2310, 11627, 16012, 17652}, {1120, 13239}, {2856, 12049}, {3857, 24478}, {12554, 4061}, {4202, 20131}, {9697, 4238}, {5104, 8408}, {24704, 7179}, {8541, 12742}, {9538, 8548}, {9064, 17978}, {9209, 11633}, {9216, 18579}, {16211, 9614}, {19316, 9812}, {14032, 10107}, {13377, 18382}, {23394, 13975}, {16352, 24312}, {23237, 17453}, {20934, 17958}]\n",
      "Running CmtyGirvanNewmanStep method ...\n",
      "No of communities in decomposed G: 27\n",
      "Modularity: 0.5047939285907199\n",
      "Modularity of decomposed G: 0.5047939285907199\n",
      "Components: [{13825, 7170, 14851, 2563, 3598, 16, 3095, 7709, 8226, 18467, 7207, 42, 17964, 6705, 5694, 16960, 6215, 5703, 5711, 2653, 13417, 20590, 110, 12911, 9842, 5239, 5242, 3706, 5755, 13439, 1153, 6282, 10895, 23183, 23698, 11927, 666, 9372, 4254, 163, 170, 7856, 9908, 9400, 11965, 4805, 4806, 3786, 4301, 2766, 11471, 8401, 20178, 6354, 8914, 213, 13014, 7895, 6875, 23772, 7903, 4321, 1775, 758, 8442, 20219, 5893, 4366, 15122, 2834, 3862, 22295, 10009, 19738, 12591, 11059, 10058, 15179, 5452, 11599, 15193, 23897, 9567, 6496, 12127, 7524, 3435, 5998, 879, 881, 891, 5500, 4483, 12172, 18324, 20379, 6048, 12192, 21922, 4514, 5543, 11689, 9649, 17329, 1468, 8642, 12741, 22985, 13258, 16341, 10197, 7127, 10224, 19440}, {17, 4629, 10274, 19501, 11825, 4660, 23105, 65, 10817, 2628, 3653, 1091, 4673, 9807, 6226, 11347, 597, 7256, 15976, 15465, 7790, 6258, 17021, 2690, 2692, 2710, 15000, 16544, 12456, 7849, 8874, 14006, 16061, 2239, 13507, 7370, 5840, 17626, 1247, 2279, 18157, 13550, 7413, 12541, 1279, 1281, 17167, 285, 1309, 16674, 2349, 13614, 2865, 3380, 7482, 18750, 6985, 6989, 4944, 853, 357, 14699, 12652, 3441, 3450, 11646, 7041, 386, 11137, 1937, 3473, 1427, 1945, 1952, 1963, 9136, 10684, 6595, 3028, 4568, 988, 10206, 15842, 6644, 6135}, {8450, 268, 12622, 2543, 6416, 3286, 3511, 13656, 11775}, {10150, 7847, 19916, 2576, 945, 5201, 16184, 4345, 9020, 8574}, {9760, 11907, 2310, 11627, 16012, 17652}, {1120, 13239}, {5696, 4677, 2026, 13003, 20083, 17715, 2521, 8059, 18334}, {2856, 12049}, {3857, 24478}, {12554, 4061}, {4202, 20131}, {9697, 4238}, {5104, 8408}, {24704, 7179}, {8541, 12742}, {9538, 8548}, {9064, 17978}, {9209, 11633}, {9216, 18579}, {16211, 9614}, {19316, 9812}, {14032, 10107}, {13377, 18382}, {23394, 13975}, {16352, 24312}, {23237, 17453}, {20934, 17958}]\n",
      "Running CmtyGirvanNewmanStep method ...\n",
      "No of communities in decomposed G: 28\n",
      "Modularity: 0.504524245283918\n",
      "Modularity of decomposed G: 0.504524245283918\n",
      "Running CmtyGirvanNewmanStep method ...\n",
      "No of communities in decomposed G: 29\n",
      "Modularity: 0.5079931907943862\n",
      "Modularity of decomposed G: 0.5079931907943862\n",
      "Components: [{13825, 7170, 14851, 2563, 3598, 16, 3095, 7709, 8226, 18467, 7207, 42, 17964, 6705, 5694, 16960, 6215, 5703, 5711, 2653, 13417, 20590, 110, 12911, 9842, 5239, 5242, 3706, 5755, 13439, 1153, 6282, 10895, 23183, 23698, 11927, 666, 9372, 4254, 163, 170, 7856, 9908, 9400, 11965, 4805, 3786, 4301, 2766, 11471, 8401, 20178, 6354, 213, 13014, 7895, 6875, 23772, 7903, 4321, 1775, 758, 8442, 20219, 5893, 4366, 15122, 3862, 22295, 10009, 19738, 12591, 11059, 10058, 15179, 5452, 11599, 15193, 23897, 12127, 6496, 7524, 3435, 5998, 879, 881, 891, 5500, 4483, 12172, 18324, 20379, 6048, 12192, 21922, 4514, 5543, 11689, 9649, 1468, 8642, 12741, 13258, 16341, 10197, 7127, 10224, 19440}, {1281, 2690, 386, 2692, 11137, 17167, 17, 1937, 3473, 1427, 4629, 2710, 15000, 1945, 285, 1309, 16544, 1952, 10274, 16674, 12456, 1963, 2349, 13614, 19501, 9136, 2865, 11825, 4660, 3380, 14006, 7482, 10684, 16061, 18750, 2239, 65, 10817, 13507, 2628, 3653, 1091, 4673, 6595, 6985, 7370, 6989, 9807, 4944, 5840, 6226, 11347, 3028, 853, 597, 7256, 4568, 17626, 988, 10206, 1247, 15842, 357, 2279, 15976, 15465, 14699, 12652, 18157, 7790, 13550, 3441, 6258, 6644, 7413, 12541, 3450, 17021, 11646, 1279}, {8450, 268, 12622, 2543, 6416, 3286, 3511, 13656, 11775}, {10150, 7847, 19916, 2576, 945, 5201, 16184, 4345, 9020, 8574}, {9760, 11907, 2310, 11627, 16012, 17652}, {1120, 13239}, {5696, 4677, 2026, 13003, 20083, 17715, 2521, 8059, 18334}, {23105, 7041, 7849, 8874, 6135}, {4806, 22985, 17329, 2834, 8914, 9567}, {2856, 12049}, {3857, 24478}, {12554, 4061}, {4202, 20131}, {9697, 4238}, {5104, 8408}, {24704, 7179}, {8541, 12742}, {9538, 8548}, {9064, 17978}, {9209, 11633}, {9216, 18579}, {16211, 9614}, {19316, 9812}, {14032, 10107}, {13377, 18382}, {23394, 13975}, {16352, 24312}, {23237, 17453}, {20934, 17958}]\n",
      "Running CmtyGirvanNewmanStep method ...\n",
      "No of communities in decomposed G: 30\n",
      "Modularity: 0.5099901976671402\n",
      "Modularity of decomposed G: 0.5099901976671402\n",
      "Components: [{13825, 7170, 14851, 2563, 16, 3095, 7709, 8226, 18467, 7207, 42, 17964, 6705, 16960, 6215, 5703, 5711, 2653, 13417, 20590, 110, 12911, 9842, 5239, 5242, 3706, 5755, 13439, 1153, 6282, 10895, 23698, 11927, 666, 9372, 4254, 163, 170, 7856, 9908, 9400, 11965, 4805, 3786, 4301, 2766, 11471, 8401, 20178, 6354, 213, 13014, 7895, 6875, 23772, 7903, 1775, 758, 8442, 20219, 5893, 4366, 15122, 3862, 22295, 10009, 19738, 12591, 11059, 10058, 15179, 5452, 11599, 15193, 23897, 12127, 6496, 7524, 3435, 5998, 879, 881, 891, 5500, 4483, 12172, 18324, 20379, 6048, 12192, 21922, 4514, 5543, 11689, 9649, 1468, 8642, 12741, 13258, 16341, 10197, 7127, 10224, 19440}, {1281, 2690, 386, 2692, 11137, 17167, 17, 1937, 3473, 1427, 4629, 2710, 15000, 1945, 285, 1309, 16544, 1952, 10274, 16674, 12456, 1963, 2349, 13614, 19501, 9136, 2865, 11825, 4660, 3380, 14006, 7482, 10684, 16061, 18750, 2239, 65, 10817, 13507, 2628, 3653, 1091, 4673, 6595, 6985, 7370, 6989, 9807, 4944, 5840, 6226, 11347, 3028, 853, 597, 7256, 4568, 17626, 988, 10206, 1247, 15842, 357, 2279, 15976, 15465, 14699, 12652, 18157, 7790, 13550, 3441, 6258, 6644, 7413, 12541, 3450, 17021, 11646, 1279}, {8450, 268, 12622, 2543, 6416, 3286, 3511, 13656, 11775}, {10150, 7847, 19916, 2576, 945, 5201, 16184, 4345, 9020, 8574}, {9760, 11907, 2310, 11627, 16012, 17652}, {1120, 13239}, {5696, 4677, 2026, 13003, 20083, 17715, 2521, 8059, 18334}, {23105, 7041, 7849, 8874, 6135}, {23183, 4321, 5694, 3598}, {4806, 22985, 17329, 2834, 8914, 9567}, {2856, 12049}, {3857, 24478}, {12554, 4061}, {4202, 20131}, {9697, 4238}, {5104, 8408}, {24704, 7179}, {8541, 12742}, {9538, 8548}, {9064, 17978}, {9209, 11633}, {9216, 18579}, {16211, 9614}, {19316, 9812}, {14032, 10107}, {13377, 18382}, {23394, 13975}, {16352, 24312}, {23237, 17453}, {20934, 17958}]\n",
      "Running CmtyGirvanNewmanStep method ...\n",
      "No of communities in decomposed G: 31\n",
      "Modularity: 0.5079288480908488\n",
      "Modularity of decomposed G: 0.5079288480908488\n",
      "Running CmtyGirvanNewmanStep method ...\n",
      "No of communities in decomposed G: 32\n",
      "Modularity: 0.5027726939098439\n",
      "Modularity of decomposed G: 0.5027726939098439\n",
      "Running CmtyGirvanNewmanStep method ...\n",
      "No of communities in decomposed G: 33\n",
      "Modularity: 0.50121893677257\n",
      "Modularity of decomposed G: 0.50121893677257\n",
      "Running CmtyGirvanNewmanStep method ...\n",
      "No of communities in decomposed G: 34\n",
      "Modularity: 0.5006049008486884\n",
      "Modularity of decomposed G: 0.5006049008486884\n",
      "Running CmtyGirvanNewmanStep method ...\n",
      "No of communities in decomposed G: 35\n",
      "Modularity: 0.5002760381417193\n",
      "Modularity of decomposed G: 0.5002760381417193\n",
      "Running CmtyGirvanNewmanStep method ...\n",
      "No of communities in decomposed G: 36\n",
      "Modularity: 0.4989391397459973\n",
      "Modularity of decomposed G: 0.4989391397459973\n",
      "Running CmtyGirvanNewmanStep method ...\n",
      "No of communities in decomposed G: 37\n",
      "Modularity: 0.4955027627644804\n",
      "Modularity of decomposed G: 0.4955027627644804\n",
      "Running CmtyGirvanNewmanStep method ...\n",
      "No of communities in decomposed G: 38\n",
      "Modularity: 0.49409397529875676\n",
      "Modularity of decomposed G: 0.49409397529875676\n",
      "Running CmtyGirvanNewmanStep method ...\n",
      "No of communities in decomposed G: 71\n",
      "Modularity: 0.4756252363204235\n",
      "Modularity of decomposed G: 0.4756252363204235\n",
      "Running CmtyGirvanNewmanStep method ...\n",
      "No of communities in decomposed G: 72\n",
      "Modularity: 0.47582541362031755\n",
      "Modularity of decomposed G: 0.47582541362031755\n",
      "Running CmtyGirvanNewmanStep method ...\n",
      "No of communities in decomposed G: 73\n",
      "Modularity: 0.4806435700191598\n",
      "Modularity of decomposed G: 0.4806435700191598\n",
      "Running CmtyGirvanNewmanStep method ...\n",
      "No of communities in decomposed G: 74\n",
      "Modularity: 0.47983571163030114\n",
      "Modularity of decomposed G: 0.47983571163030114\n",
      "Running CmtyGirvanNewmanStep method ...\n",
      "No of communities in decomposed G: 75\n",
      "Modularity: 0.47853853095281224\n",
      "Modularity of decomposed G: 0.47853853095281224\n",
      "Running CmtyGirvanNewmanStep method ...\n",
      "No of communities in decomposed G: 76\n",
      "Modularity: 0.4772397615665939\n",
      "Modularity of decomposed G: 0.4772397615665939\n",
      "Running CmtyGirvanNewmanStep method ...\n",
      "No of communities in decomposed G: 77\n",
      "Modularity: 0.4764303144690059\n",
      "Modularity of decomposed G: 0.4764303144690059\n",
      "Running CmtyGirvanNewmanStep method ...\n",
      "No of communities in decomposed G: 78\n",
      "Modularity: 0.47280408679433533\n",
      "Modularity of decomposed G: 0.47280408679433533\n",
      "Running CmtyGirvanNewmanStep method ...\n",
      "No of communities in decomposed G: 79\n",
      "Modularity: 0.4711565958420315\n",
      "Modularity of decomposed G: 0.4711565958420315\n",
      "Running CmtyGirvanNewmanStep method ...\n",
      "No of communities in decomposed G: 80\n",
      "Modularity: 0.4699388506010085\n",
      "Modularity of decomposed G: 0.4699388506010085\n",
      "Running CmtyGirvanNewmanStep method ...\n",
      "No of communities in decomposed G: 81\n",
      "Modularity: 0.4696818769640412\n",
      "Modularity of decomposed G: 0.4696818769640412\n",
      "Running CmtyGirvanNewmanStep method ...\n",
      "No of communities in decomposed G: 82\n",
      "Modularity: 0.4688644863228066\n",
      "Modularity of decomposed G: 0.4688644863228066\n",
      "Running CmtyGirvanNewmanStep method ...\n",
      "No of communities in decomposed G: 83\n",
      "Modularity: 0.4685260913634617\n",
      "Modularity of decomposed G: 0.4685260913634617\n",
      "Running CmtyGirvanNewmanStep method ...\n",
      "No of communities in decomposed G: 84\n",
      "Modularity: 0.4663098426860617\n",
      "Modularity of decomposed G: 0.4663098426860617\n",
      "Running CmtyGirvanNewmanStep method ...\n",
      "No of communities in decomposed G: 85\n",
      "Modularity: 0.4660330101899778\n",
      "Modularity of decomposed G: 0.4660330101899778\n",
      "Running CmtyGirvanNewmanStep method ...\n",
      "No of communities in decomposed G: 86\n",
      "Modularity: 0.4649332265721068\n",
      "Modularity of decomposed G: 0.4649332265721068\n",
      "Running CmtyGirvanNewmanStep method ...\n",
      "No of communities in decomposed G: 87\n",
      "Modularity: 0.46070805570648293\n",
      "Modularity of decomposed G: 0.46070805570648293\n",
      "Running CmtyGirvanNewmanStep method ...\n",
      "No of communities in decomposed G: 88\n",
      "Modularity: 0.4560038891589694\n",
      "Modularity of decomposed G: 0.4560038891589694\n",
      "Running CmtyGirvanNewmanStep method ...\n",
      "No of communities in decomposed G: 89\n",
      "Modularity: 0.4565325319886503\n",
      "Modularity of decomposed G: 0.4565325319886503\n",
      "Running CmtyGirvanNewmanStep method ...\n",
      "No of communities in decomposed G: 90\n",
      "Modularity: 0.4553767463880708\n",
      "Modularity of decomposed G: 0.4553767463880708\n",
      "Running CmtyGirvanNewmanStep method ...\n",
      "No of communities in decomposed G: 91\n",
      "Modularity: 0.454137553579202\n",
      "Modularity of decomposed G: 0.454137553579202\n",
      "Running CmtyGirvanNewmanStep method ...\n",
      "No of communities in decomposed G: 92\n",
      "Modularity: 0.45808072864537175\n",
      "Modularity of decomposed G: 0.45808072864537175\n",
      "Running CmtyGirvanNewmanStep method ...\n",
      "No of communities in decomposed G: 93\n",
      "Modularity: 0.45603010285300327\n",
      "Modularity of decomposed G: 0.45603010285300327\n",
      "Running CmtyGirvanNewmanStep method ...\n",
      "No of communities in decomposed G: 95\n",
      "Modularity: 0.4543961159248987\n",
      "Modularity of decomposed G: 0.4543961159248987\n",
      "Running CmtyGirvanNewmanStep method ...\n",
      "No of communities in decomposed G: 96\n",
      "Modularity: 0.45313666707973105\n",
      "Modularity of decomposed G: 0.45313666707973105\n",
      "Running CmtyGirvanNewmanStep method ...\n",
      "No of communities in decomposed G: 97\n",
      "Modularity: 0.452586179505022\n",
      "Modularity of decomposed G: 0.452586179505022\n",
      "Running CmtyGirvanNewmanStep method ...\n",
      "No of communities in decomposed G: 98\n",
      "Modularity: 0.45090055954321456\n",
      "Modularity of decomposed G: 0.45090055954321456\n",
      "Running CmtyGirvanNewmanStep method ...\n",
      "No of communities in decomposed G: 99\n",
      "Modularity: 0.44878360516139704\n",
      "Modularity of decomposed G: 0.44878360516139704\n",
      "Running CmtyGirvanNewmanStep method ...\n",
      "No of communities in decomposed G: 100\n",
      "Modularity: 0.4455450224166803\n",
      "Modularity of decomposed G: 0.4455450224166803\n",
      "Running CmtyGirvanNewmanStep method ...\n",
      "No of communities in decomposed G: 101\n",
      "Modularity: 0.44430940420245246\n",
      "Modularity of decomposed G: 0.44430940420245246\n",
      "Running CmtyGirvanNewmanStep method ...\n",
      "No of communities in decomposed G: 102\n",
      "Modularity: 0.44299871950076436\n",
      "Modularity of decomposed G: 0.44299871950076436\n",
      "Running CmtyGirvanNewmanStep method ...\n",
      "No of communities in decomposed G: 103\n",
      "Modularity: 0.4413234261456975\n",
      "Modularity of decomposed G: 0.4413234261456975\n",
      "Running CmtyGirvanNewmanStep method ...\n",
      "No of communities in decomposed G: 104\n",
      "Modularity: 0.43942968534034926\n",
      "Modularity of decomposed G: 0.43942968534034926\n",
      "Running CmtyGirvanNewmanStep method ...\n",
      "No of communities in decomposed G: 105\n",
      "Modularity: 0.43730717047797907\n",
      "Modularity of decomposed G: 0.43730717047797907\n",
      "Running CmtyGirvanNewmanStep method ...\n",
      "No of communities in decomposed G: 106\n",
      "Modularity: 0.43514454072019354\n",
      "Modularity of decomposed G: 0.43514454072019354\n",
      "Running CmtyGirvanNewmanStep method ...\n",
      "No of communities in decomposed G: 107\n",
      "Modularity: 0.4330522113236805\n",
      "Modularity of decomposed G: 0.4330522113236805\n",
      "Running CmtyGirvanNewmanStep method ...\n",
      "No of communities in decomposed G: 108\n",
      "Modularity: 0.429229778120939\n",
      "Modularity of decomposed G: 0.429229778120939\n",
      "Running CmtyGirvanNewmanStep method ...\n",
      "No of communities in decomposed G: 109\n",
      "Modularity: 0.42751158963018054\n",
      "Modularity of decomposed G: 0.42751158963018054\n",
      "Running CmtyGirvanNewmanStep method ...\n",
      "No of communities in decomposed G: 110\n",
      "Modularity: 0.42470275259674456\n",
      "Modularity of decomposed G: 0.42470275259674456\n",
      "Running CmtyGirvanNewmanStep method ...\n",
      "No of communities in decomposed G: 111\n",
      "Modularity: 0.4225301934094009\n",
      "Modularity of decomposed G: 0.4225301934094009\n",
      "Running CmtyGirvanNewmanStep method ...\n",
      "No of communities in decomposed G: 112\n",
      "Modularity: 0.420419991039683\n",
      "Modularity of decomposed G: 0.420419991039683\n",
      "Running CmtyGirvanNewmanStep method ...\n",
      "No of communities in decomposed G: 113\n",
      "Modularity: 0.41867082272870276\n",
      "Modularity of decomposed G: 0.41867082272870276\n",
      "Running CmtyGirvanNewmanStep method ...\n",
      "No of communities in decomposed G: 114\n",
      "Modularity: 0.4156919938612296\n",
      "Modularity of decomposed G: 0.4156919938612296\n",
      "Running CmtyGirvanNewmanStep method ...\n",
      "No of communities in decomposed G: 115\n",
      "Modularity: 0.4099166404529728\n",
      "Modularity of decomposed G: 0.4099166404529728\n",
      "Running CmtyGirvanNewmanStep method ...\n",
      "No of communities in decomposed G: 116\n",
      "Modularity: 0.4090587377391406\n",
      "Modularity of decomposed G: 0.4090587377391406\n",
      "Running CmtyGirvanNewmanStep method ...\n",
      "No of communities in decomposed G: 117\n",
      "Modularity: 0.40623242490968214\n",
      "Modularity of decomposed G: 0.40623242490968214\n",
      "Running CmtyGirvanNewmanStep method ...\n",
      "No of communities in decomposed G: 118\n",
      "Modularity: 0.4026562415599851\n",
      "Modularity of decomposed G: 0.4026562415599851\n",
      "Running CmtyGirvanNewmanStep method ...\n",
      "No of communities in decomposed G: 119\n",
      "Modularity: 0.40041377918855137\n",
      "Modularity of decomposed G: 0.40041377918855137\n",
      "Running CmtyGirvanNewmanStep method ...\n",
      "No of communities in decomposed G: 120\n",
      "Modularity: 0.3995630256640011\n",
      "Modularity of decomposed G: 0.3995630256640011\n",
      "Running CmtyGirvanNewmanStep method ...\n",
      "No of communities in decomposed G: 121\n",
      "Modularity: 0.3968737389624463\n",
      "Modularity of decomposed G: 0.3968737389624463\n",
      "Running CmtyGirvanNewmanStep method ...\n",
      "No of communities in decomposed G: 122\n",
      "Modularity: 0.3932705475643509\n",
      "Modularity of decomposed G: 0.3932705475643509\n",
      "Running CmtyGirvanNewmanStep method ...\n",
      "No of communities in decomposed G: 123\n",
      "Modularity: 0.3915841332481788\n",
      "Modularity of decomposed G: 0.3915841332481788\n",
      "Running CmtyGirvanNewmanStep method ...\n",
      "No of communities in decomposed G: 124\n",
      "Modularity: 0.39097764369076127\n",
      "Modularity of decomposed G: 0.39097764369076127\n",
      "Running CmtyGirvanNewmanStep method ...\n",
      "No of communities in decomposed G: 125\n",
      "Modularity: 0.38713495445172097\n",
      "Modularity of decomposed G: 0.38713495445172097\n",
      "Running CmtyGirvanNewmanStep method ...\n",
      "No of communities in decomposed G: 126\n",
      "Modularity: 0.38634218879579085\n",
      "Modularity of decomposed G: 0.38634218879579085\n",
      "Running CmtyGirvanNewmanStep method ...\n",
      "No of communities in decomposed G: 139\n",
      "Modularity: 0.374114294883405\n",
      "Modularity of decomposed G: 0.374114294883405\n",
      "Running CmtyGirvanNewmanStep method ...\n",
      "No of communities in decomposed G: 140\n",
      "Modularity: 0.3693815315787637\n",
      "Modularity of decomposed G: 0.3693815315787637\n",
      "Running CmtyGirvanNewmanStep method ...\n",
      "No of communities in decomposed G: 141\n",
      "Modularity: 0.3650693789102097\n",
      "Modularity of decomposed G: 0.3650693789102097\n",
      "Running CmtyGirvanNewmanStep method ...\n",
      "No of communities in decomposed G: 142\n",
      "Modularity: 0.36249169899688966\n",
      "Modularity of decomposed G: 0.36249169899688966\n",
      "Running CmtyGirvanNewmanStep method ...\n",
      "No of communities in decomposed G: 143\n",
      "Modularity: 0.3607655669624846\n",
      "Modularity of decomposed G: 0.3607655669624846\n",
      "Running CmtyGirvanNewmanStep method ...\n",
      "No of communities in decomposed G: 144\n",
      "Modularity: 0.3564367328522727\n",
      "Modularity of decomposed G: 0.3564367328522727\n",
      "Running CmtyGirvanNewmanStep method ...\n",
      "No of communities in decomposed G: 145\n",
      "Modularity: 0.3535889724549684\n",
      "Modularity of decomposed G: 0.3535889724549684\n",
      "Running CmtyGirvanNewmanStep method ...\n",
      "No of communities in decomposed G: 146\n",
      "Modularity: 0.34898251149430803\n",
      "Modularity of decomposed G: 0.34898251149430803\n",
      "Running CmtyGirvanNewmanStep method ...\n",
      "No of communities in decomposed G: 147\n",
      "Modularity: 0.34446938717149517\n",
      "Modularity of decomposed G: 0.34446938717149517\n",
      "Running CmtyGirvanNewmanStep method ...\n",
      "No of communities in decomposed G: 148\n",
      "Modularity: 0.3397977891529326\n",
      "Modularity of decomposed G: 0.3397977891529326\n",
      "Running CmtyGirvanNewmanStep method ...\n",
      "No of communities in decomposed G: 151\n",
      "Modularity: 0.33717165362336843\n",
      "Modularity of decomposed G: 0.33717165362336843\n",
      "Running CmtyGirvanNewmanStep method ...\n",
      "No of communities in decomposed G: 152\n",
      "Modularity: 0.33221329367916386\n",
      "Modularity of decomposed G: 0.33221329367916386\n",
      "Running CmtyGirvanNewmanStep method ...\n",
      "No of communities in decomposed G: 153\n",
      "Modularity: 0.32658330711963973\n",
      "Modularity of decomposed G: 0.32658330711963973\n",
      "Running CmtyGirvanNewmanStep method ...\n",
      "No of communities in decomposed G: 154\n",
      "Modularity: 0.32249079343291404\n",
      "Modularity of decomposed G: 0.32249079343291404\n",
      "Running CmtyGirvanNewmanStep method ...\n",
      "No of communities in decomposed G: 155\n",
      "Modularity: 0.31730524814041683\n",
      "Modularity of decomposed G: 0.31730524814041683\n",
      "Running CmtyGirvanNewmanStep method ...\n",
      "No of communities in decomposed G: 156\n",
      "Modularity: 0.312811585499538\n",
      "Modularity of decomposed G: 0.312811585499538\n",
      "Running CmtyGirvanNewmanStep method ...\n",
      "No of communities in decomposed G: 157\n",
      "Modularity: 0.30926797067879197\n",
      "Modularity of decomposed G: 0.30926797067879197\n",
      "Running CmtyGirvanNewmanStep method ...\n",
      "No of communities in decomposed G: 158\n",
      "Modularity: 0.3083830599165613\n",
      "Modularity of decomposed G: 0.3083830599165613\n",
      "Running CmtyGirvanNewmanStep method ...\n",
      "No of communities in decomposed G: 159\n",
      "Modularity: 0.303316667778763\n",
      "Modularity of decomposed G: 0.303316667778763\n",
      "Running CmtyGirvanNewmanStep method ...\n",
      "No of communities in decomposed G: 160\n",
      "Modularity: 0.29753773977586523\n",
      "Modularity of decomposed G: 0.29753773977586523\n",
      "Running CmtyGirvanNewmanStep method ...\n",
      "No of communities in decomposed G: 161\n",
      "Modularity: 0.29197169874269613\n",
      "Modularity of decomposed G: 0.29197169874269613\n",
      "Running CmtyGirvanNewmanStep method ...\n",
      "No of communities in decomposed G: 162\n",
      "Modularity: 0.28622375056002003\n",
      "Modularity of decomposed G: 0.28622375056002003\n",
      "Running CmtyGirvanNewmanStep method ...\n",
      "No of communities in decomposed G: 163\n",
      "Modularity: 0.2806394393764638\n",
      "Modularity of decomposed G: 0.2806394393764638\n",
      "Running CmtyGirvanNewmanStep method ...\n",
      "No of communities in decomposed G: 175\n",
      "Modularity: 0.270029248127707\n",
      "Modularity of decomposed G: 0.270029248127707\n",
      "Running CmtyGirvanNewmanStep method ...\n",
      "No of communities in decomposed G: 176\n",
      "Modularity: 0.2628228653315161\n",
      "Modularity of decomposed G: 0.2628228653315161\n",
      "Running CmtyGirvanNewmanStep method ...\n",
      "No of communities in decomposed G: 177\n",
      "Modularity: 0.2575499410589064\n",
      "Modularity of decomposed G: 0.2575499410589064\n",
      "Running CmtyGirvanNewmanStep method ...\n",
      "No of communities in decomposed G: 178\n",
      "Modularity: 0.2492934217926356\n",
      "Modularity of decomposed G: 0.2492934217926356\n",
      "Running CmtyGirvanNewmanStep method ...\n",
      "No of communities in decomposed G: 179\n",
      "Modularity: 0.24382071739731406\n",
      "Modularity of decomposed G: 0.24382071739731406\n",
      "Running CmtyGirvanNewmanStep method ...\n",
      "No of communities in decomposed G: 180\n",
      "Modularity: 0.23558167392706575\n",
      "Modularity of decomposed G: 0.23558167392706575\n",
      "Running CmtyGirvanNewmanStep method ...\n",
      "No of communities in decomposed G: 181\n",
      "Modularity: 0.2272778905760978\n",
      "Modularity of decomposed G: 0.2272778905760978\n",
      "Running CmtyGirvanNewmanStep method ...\n",
      "No of communities in decomposed G: 182\n",
      "Modularity: 0.2181785613289233\n",
      "Modularity of decomposed G: 0.2181785613289233\n",
      "Running CmtyGirvanNewmanStep method ...\n",
      "No of communities in decomposed G: 183\n",
      "Modularity: 0.21162990394667044\n",
      "Modularity of decomposed G: 0.21162990394667044\n",
      "Running CmtyGirvanNewmanStep method ...\n",
      "No of communities in decomposed G: 184\n",
      "Modularity: 0.2068494793801496\n",
      "Modularity of decomposed G: 0.2068494793801496\n",
      "Running CmtyGirvanNewmanStep method ...\n",
      "No of communities in decomposed G: 185\n",
      "Modularity: 0.19988100571617423\n",
      "Modularity of decomposed G: 0.19988100571617423\n",
      "Running CmtyGirvanNewmanStep method ...\n",
      "No of communities in decomposed G: 186\n",
      "Modularity: 0.19215749822859\n",
      "Modularity of decomposed G: 0.19215749822859\n",
      "Running CmtyGirvanNewmanStep method ...\n",
      "No of communities in decomposed G: 187\n",
      "Modularity: 0.1914235147956446\n",
      "Modularity of decomposed G: 0.1914235147956446\n",
      "Running CmtyGirvanNewmanStep method ...\n",
      "No of communities in decomposed G: 188\n",
      "Modularity: 0.18625385659044064\n",
      "Modularity of decomposed G: 0.18625385659044064\n",
      "Running CmtyGirvanNewmanStep method ...\n",
      "No of communities in decomposed G: 189\n",
      "Modularity: 0.17728082968724704\n",
      "Modularity of decomposed G: 0.17728082968724704\n",
      "Running CmtyGirvanNewmanStep method ...\n",
      "No of communities in decomposed G: 190\n",
      "Modularity: 0.16396705335837158\n",
      "Modularity of decomposed G: 0.16396705335837158\n",
      "Running CmtyGirvanNewmanStep method ...\n",
      "No of communities in decomposed G: 191\n",
      "Modularity: 0.16073085367674883\n",
      "Modularity of decomposed G: 0.16073085367674883\n",
      "Running CmtyGirvanNewmanStep method ...\n",
      "No of communities in decomposed G: 192\n",
      "Modularity: 0.15370399496697093\n",
      "Modularity of decomposed G: 0.15370399496697093\n",
      "Running CmtyGirvanNewmanStep method ...\n",
      "No of communities in decomposed G: 194\n",
      "Modularity: 0.13185686687574075\n",
      "Modularity of decomposed G: 0.13185686687574075\n",
      "Running CmtyGirvanNewmanStep method ...\n",
      "No of communities in decomposed G: 195\n",
      "Modularity: 0.12383547650140926\n",
      "Modularity of decomposed G: 0.12383547650140926\n",
      "Running CmtyGirvanNewmanStep method ...\n",
      "No of communities in decomposed G: 196\n",
      "Modularity: 0.12667330746915528\n",
      "Modularity of decomposed G: 0.12667330746915528\n",
      "Running CmtyGirvanNewmanStep method ...\n",
      "No of communities in decomposed G: 197\n",
      "Modularity: 0.11908563457792784\n",
      "Modularity of decomposed G: 0.11908563457792784\n",
      "Running CmtyGirvanNewmanStep method ...\n",
      "No of communities in decomposed G: 198\n",
      "Modularity: 0.11822137702917832\n",
      "Modularity of decomposed G: 0.11822137702917832\n",
      "Running CmtyGirvanNewmanStep method ...\n",
      "No of communities in decomposed G: 200\n",
      "Modularity: 0.10797658878816485\n",
      "Modularity of decomposed G: 0.10797658878816485\n",
      "Running CmtyGirvanNewmanStep method ...\n",
      "No of communities in decomposed G: 275\n",
      "Modularity: -0.009612084989562142\n",
      "Modularity of decomposed G: -0.009612084989562142\n",
      "Max modularity (Q): 0.5099901976671402\n",
      "Graph communities: [{13825, 7170, 14851, 2563, 16, 3095, 7709, 8226, 18467, 7207, 42, 17964, 6705, 16960, 6215, 5703, 5711, 2653, 13417, 20590, 110, 12911, 9842, 5239, 5242, 3706, 5755, 13439, 1153, 6282, 10895, 23698, 11927, 666, 9372, 4254, 163, 170, 7856, 9908, 9400, 11965, 4805, 3786, 4301, 2766, 11471, 8401, 20178, 6354, 213, 13014, 7895, 6875, 23772, 7903, 1775, 758, 8442, 20219, 5893, 4366, 15122, 3862, 22295, 10009, 19738, 12591, 11059, 10058, 15179, 5452, 11599, 15193, 23897, 12127, 6496, 7524, 3435, 5998, 879, 881, 891, 5500, 4483, 12172, 18324, 20379, 6048, 12192, 21922, 4514, 5543, 11689, 9649, 1468, 8642, 12741, 13258, 16341, 10197, 7127, 10224, 19440}, {1281, 2690, 386, 2692, 11137, 17167, 17, 1937, 3473, 1427, 4629, 2710, 15000, 1945, 285, 1309, 16544, 1952, 10274, 16674, 12456, 1963, 2349, 13614, 19501, 9136, 2865, 11825, 4660, 3380, 14006, 7482, 10684, 16061, 18750, 2239, 65, 10817, 13507, 2628, 3653, 1091, 4673, 6595, 6985, 7370, 6989, 9807, 4944, 5840, 6226, 11347, 3028, 853, 597, 7256, 4568, 17626, 988, 10206, 1247, 15842, 357, 2279, 15976, 15465, 14699, 12652, 18157, 7790, 13550, 3441, 6258, 6644, 7413, 12541, 3450, 17021, 11646, 1279}, {8450, 268, 12622, 2543, 6416, 3286, 3511, 13656, 11775}, {10150, 7847, 19916, 2576, 945, 5201, 16184, 4345, 9020, 8574}, {9760, 11907, 2310, 11627, 16012, 17652}, {1120, 13239}, {5696, 4677, 2026, 13003, 20083, 17715, 2521, 8059, 18334}, {23105, 7041, 7849, 8874, 6135}, {23183, 4321, 5694, 3598}, {4806, 22985, 17329, 2834, 8914, 9567}, {2856, 12049}, {3857, 24478}, {12554, 4061}, {4202, 20131}, {9697, 4238}, {5104, 8408}, {24704, 7179}, {8541, 12742}, {9538, 8548}, {9064, 17978}, {9209, 11633}, {9216, 18579}, {16211, 9614}, {19316, 9812}, {14032, 10107}, {13377, 18382}, {23394, 13975}, {16352, 24312}, {23237, 17453}, {20934, 17958}]\n"
     ]
    }
   ],
   "source": [
    "#let's find the best split of the graph\n",
    "BestQ = 0.0\n",
    "Q = 0.0\n",
    "while True:    \n",
    "    CmtyGirvanNewmanStep(G)\n",
    "    Q = _GirvanNewmanGetModularity(G, Orig_deg, m_);\n",
    "    print(\"Modularity of decomposed G:\", Q)\n",
    "    if Q > BestQ:\n",
    "        BestQ = Q\n",
    "        Bestcomps = list(nx.connected_components(G))    #Best Split\n",
    "        print(\"Components:\", Bestcomps)\n",
    "    if G.number_of_edges() == 0:\n",
    "       break\n",
    "if BestQ > 0.0:\n",
    "    print(\"Max modularity (Q):\", BestQ)\n",
    "    print(\"Graph communities:\", Bestcomps)\n",
    "else:\n",
    "    print(\"Max modularity (Q):\", BestQ)"
   ]
  },
  {
   "cell_type": "code",
   "execution_count": 59,
   "metadata": {
    "colab": {
     "base_uri": "https://localhost:8080/",
     "height": 87
    },
    "colab_type": "code",
    "collapsed": true,
    "id": "X4FyRQu1Gxm9",
    "outputId": "87caef59-46d1-47b7-d0fe-5d43a57d2d1c"
   },
   "outputs": [
    {
     "name": "stdout",
     "output_type": "stream",
     "text": [
      "Max modularity (Q): 0.5099901976671402\n",
      "Number of communities: 30\n",
      "Graph communities: [{13825, 7170, 14851, 2563, 16, 3095, 7709, 8226, 18467, 7207, 42, 17964, 6705, 16960, 6215, 5703, 5711, 2653, 13417, 20590, 110, 12911, 9842, 5239, 5242, 3706, 5755, 13439, 1153, 6282, 10895, 23698, 11927, 666, 9372, 4254, 163, 170, 7856, 9908, 9400, 11965, 4805, 3786, 4301, 2766, 11471, 8401, 20178, 6354, 213, 13014, 7895, 6875, 23772, 7903, 1775, 758, 8442, 20219, 5893, 4366, 15122, 3862, 22295, 10009, 19738, 12591, 11059, 10058, 15179, 5452, 11599, 15193, 23897, 12127, 6496, 7524, 3435, 5998, 879, 881, 891, 5500, 4483, 12172, 18324, 20379, 6048, 12192, 21922, 4514, 5543, 11689, 9649, 1468, 8642, 12741, 13258, 16341, 10197, 7127, 10224, 19440}, {1281, 2690, 386, 2692, 11137, 17167, 17, 1937, 3473, 1427, 4629, 2710, 15000, 1945, 285, 1309, 16544, 1952, 10274, 16674, 12456, 1963, 2349, 13614, 19501, 9136, 2865, 11825, 4660, 3380, 14006, 7482, 10684, 16061, 18750, 2239, 65, 10817, 13507, 2628, 3653, 1091, 4673, 6595, 6985, 7370, 6989, 9807, 4944, 5840, 6226, 11347, 3028, 853, 597, 7256, 4568, 17626, 988, 10206, 1247, 15842, 357, 2279, 15976, 15465, 14699, 12652, 18157, 7790, 13550, 3441, 6258, 6644, 7413, 12541, 3450, 17021, 11646, 1279}, {8450, 268, 12622, 2543, 6416, 3286, 3511, 13656, 11775}, {10150, 7847, 19916, 2576, 945, 5201, 16184, 4345, 9020, 8574}, {9760, 11907, 2310, 11627, 16012, 17652}, {1120, 13239}, {5696, 4677, 2026, 13003, 20083, 17715, 2521, 8059, 18334}, {23105, 7041, 7849, 8874, 6135}, {23183, 4321, 5694, 3598}, {4806, 22985, 17329, 2834, 8914, 9567}, {2856, 12049}, {3857, 24478}, {12554, 4061}, {4202, 20131}, {9697, 4238}, {5104, 8408}, {24704, 7179}, {8541, 12742}, {9538, 8548}, {9064, 17978}, {9209, 11633}, {9216, 18579}, {16211, 9614}, {19316, 9812}, {14032, 10107}, {13377, 18382}, {23394, 13975}, {16352, 24312}, {23237, 17453}, {20934, 17958}]\n"
     ]
    }
   ],
   "source": [
    "print(\"Max modularity (Q):\", BestQ)\n",
    "print(\"Number of communities:\", len(Bestcomps))\n",
    "print(\"Graph communities:\", Bestcomps)\n"
   ]
  },
  {
   "cell_type": "code",
   "execution_count": 0,
   "metadata": {
    "colab": {},
    "colab_type": "code",
    "id": "S5wrCOaNHgbI"
   },
   "outputs": [],
   "source": []
  }
 ],
 "metadata": {
  "accelerator": "GPU",
  "colab": {
   "collapsed_sections": [],
   "name": "SMM_Community.ipynb",
   "provenance": []
  },
  "kernelspec": {
   "display_name": "Python 3",
   "language": "python",
   "name": "python3"
  },
  "language_info": {
   "codemirror_mode": {
    "name": "ipython",
    "version": 3
   },
   "file_extension": ".py",
   "mimetype": "text/x-python",
   "name": "python",
   "nbconvert_exporter": "python",
   "pygments_lexer": "ipython3",
   "version": "3.8.1"
  }
 },
 "nbformat": 4,
 "nbformat_minor": 1
}
